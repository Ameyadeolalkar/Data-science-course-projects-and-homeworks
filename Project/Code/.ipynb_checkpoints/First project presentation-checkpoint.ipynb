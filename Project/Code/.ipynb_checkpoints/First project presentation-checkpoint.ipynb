{
 "cells": [
  {
   "cell_type": "code",
   "execution_count": 12,
   "metadata": {
    "collapsed": true
   },
   "outputs": [],
   "source": [
    "import pandas as pd"
   ]
  },
  {
   "cell_type": "code",
   "execution_count": 13,
   "metadata": {
    "collapsed": false
   },
   "outputs": [],
   "source": [
    "bitcoin_value = pd.read_csv('../csv_files/bitcoin_usd.csv',parse_dates=True)"
   ]
  },
  {
   "cell_type": "code",
   "execution_count": 82,
   "metadata": {
    "collapsed": false,
    "scrolled": true
   },
   "outputs": [
    {
     "data": {
      "text/html": [
       "<div>\n",
       "<table border=\"1\" class=\"dataframe\">\n",
       "  <thead>\n",
       "    <tr style=\"text-align: right;\">\n",
       "      <th></th>\n",
       "      <th>Date</th>\n",
       "      <th>24h Average</th>\n",
       "    </tr>\n",
       "  </thead>\n",
       "  <tbody>\n",
       "    <tr>\n",
       "      <th>0</th>\n",
       "      <td>2015-09-20</td>\n",
       "      <td>233.09</td>\n",
       "    </tr>\n",
       "    <tr>\n",
       "      <th>1</th>\n",
       "      <td>2015-09-19</td>\n",
       "      <td>233.97</td>\n",
       "    </tr>\n",
       "    <tr>\n",
       "      <th>2</th>\n",
       "      <td>2015-09-18</td>\n",
       "      <td>234.65</td>\n",
       "    </tr>\n",
       "    <tr>\n",
       "      <th>3</th>\n",
       "      <td>2015-09-17</td>\n",
       "      <td>231.82</td>\n",
       "    </tr>\n",
       "    <tr>\n",
       "      <th>4</th>\n",
       "      <td>2015-09-16</td>\n",
       "      <td>230.64</td>\n",
       "    </tr>\n",
       "  </tbody>\n",
       "</table>\n",
       "</div>"
      ],
      "text/plain": [
       "        Date  24h Average\n",
       "0 2015-09-20       233.09\n",
       "1 2015-09-19       233.97\n",
       "2 2015-09-18       234.65\n",
       "3 2015-09-17       231.82\n",
       "4 2015-09-16       230.64"
      ]
     },
     "execution_count": 82,
     "metadata": {},
     "output_type": "execute_result"
    }
   ],
   "source": [
    "bitcoin_value.head()"
   ]
  },
  {
   "cell_type": "code",
   "execution_count": 84,
   "metadata": {
    "collapsed": false,
    "scrolled": false
   },
   "outputs": [
    {
     "data": {
      "text/plain": [
       "Date           datetime64[ns]\n",
       "24h Average           float64\n",
       "dtype: object"
      ]
     },
     "execution_count": 84,
     "metadata": {},
     "output_type": "execute_result"
    }
   ],
   "source": [
    "bitcoin_value.dtypes"
   ]
  },
  {
   "cell_type": "code",
   "execution_count": 15,
   "metadata": {
    "collapsed": false
   },
   "outputs": [],
   "source": [
    "bitcoin_value.drop(['Ask','Bid','Last','Total Volume'],axis=1,inplace=True)"
   ]
  },
  {
   "cell_type": "code",
   "execution_count": 16,
   "metadata": {
    "collapsed": false
   },
   "outputs": [
    {
     "data": {
      "text/plain": [
       "(1871, 2)"
      ]
     },
     "execution_count": 16,
     "metadata": {},
     "output_type": "execute_result"
    }
   ],
   "source": [
    "bitcoin_value.shape"
   ]
  },
  {
   "cell_type": "code",
   "execution_count": 43,
   "metadata": {
    "collapsed": false,
    "scrolled": false
   },
   "outputs": [],
   "source": [
    "US_stock = pd.read_csv('../csv_files/US_stock.csv', parse_dates=True)"
   ]
  },
  {
   "cell_type": "code",
   "execution_count": 99,
   "metadata": {
    "collapsed": false,
    "scrolled": true
   },
   "outputs": [
    {
     "data": {
      "text/html": [
       "<div>\n",
       "<table border=\"1\" class=\"dataframe\">\n",
       "  <thead>\n",
       "    <tr style=\"text-align: right;\">\n",
       "      <th></th>\n",
       "      <th>Date</th>\n",
       "      <th>Value</th>\n",
       "    </tr>\n",
       "  </thead>\n",
       "  <tbody>\n",
       "    <tr>\n",
       "      <th>0</th>\n",
       "      <td>2015-10-01</td>\n",
       "      <td>16272.01</td>\n",
       "    </tr>\n",
       "    <tr>\n",
       "      <th>1</th>\n",
       "      <td>2015-09-30</td>\n",
       "      <td>16284.70</td>\n",
       "    </tr>\n",
       "    <tr>\n",
       "      <th>2</th>\n",
       "      <td>2015-09-29</td>\n",
       "      <td>16049.13</td>\n",
       "    </tr>\n",
       "    <tr>\n",
       "      <th>3</th>\n",
       "      <td>2015-09-28</td>\n",
       "      <td>16001.89</td>\n",
       "    </tr>\n",
       "    <tr>\n",
       "      <th>4</th>\n",
       "      <td>2015-09-25</td>\n",
       "      <td>16314.67</td>\n",
       "    </tr>\n",
       "  </tbody>\n",
       "</table>\n",
       "</div>"
      ],
      "text/plain": [
       "         Date     Value\n",
       "0  2015-10-01  16272.01\n",
       "1  2015-09-30  16284.70\n",
       "2  2015-09-29  16049.13\n",
       "3  2015-09-28  16001.89\n",
       "4  2015-09-25  16314.67"
      ]
     },
     "execution_count": 99,
     "metadata": {},
     "output_type": "execute_result"
    }
   ],
   "source": [
    "US_stock.head()"
   ]
  },
  {
   "cell_type": "code",
   "execution_count": 102,
   "metadata": {
    "collapsed": true
   },
   "outputs": [],
   "source": [
    "US_stock['Date'] = pd.to_datetime(US_stock['Date'])"
   ]
  },
  {
   "cell_type": "code",
   "execution_count": 45,
   "metadata": {
    "collapsed": true
   },
   "outputs": [],
   "source": [
    "gold = pd.read_csv('../csv_files/gold.csv')"
   ]
  },
  {
   "cell_type": "code",
   "execution_count": 97,
   "metadata": {
    "collapsed": false
   },
   "outputs": [],
   "source": [
    "gold['Date'] = pd.to_datetime(gold['Date'])"
   ]
  },
  {
   "cell_type": "code",
   "execution_count": 103,
   "metadata": {
    "collapsed": false
   },
   "outputs": [
    {
     "data": {
      "text/plain": [
       "Date     datetime64[ns]\n",
       "Value           float64\n",
       "dtype: object"
      ]
     },
     "execution_count": 103,
     "metadata": {},
     "output_type": "execute_result"
    }
   ],
   "source": [
    "US_stock.dtypes"
   ]
  },
  {
   "cell_type": "code",
   "execution_count": 47,
   "metadata": {
    "collapsed": false
   },
   "outputs": [
    {
     "data": {
      "text/plain": [
       "Date     datetime64[ns]\n",
       "Value           float64\n",
       "dtype: object"
      ]
     },
     "execution_count": 47,
     "metadata": {},
     "output_type": "execute_result"
    }
   ],
   "source": [
    "gold.dtypes"
   ]
  },
  {
   "cell_type": "code",
   "execution_count": 48,
   "metadata": {
    "collapsed": false,
    "scrolled": false
   },
   "outputs": [
    {
     "data": {
      "text/html": [
       "<div>\n",
       "<table border=\"1\" class=\"dataframe\">\n",
       "  <thead>\n",
       "    <tr style=\"text-align: right;\">\n",
       "      <th></th>\n",
       "      <th>Date</th>\n",
       "      <th>Value</th>\n",
       "    </tr>\n",
       "  </thead>\n",
       "  <tbody>\n",
       "    <tr>\n",
       "      <th>0</th>\n",
       "      <td>2015-09-15</td>\n",
       "      <td>1106.0</td>\n",
       "    </tr>\n",
       "    <tr>\n",
       "      <th>1</th>\n",
       "      <td>2015-09-14</td>\n",
       "      <td>1104.8</td>\n",
       "    </tr>\n",
       "    <tr>\n",
       "      <th>2</th>\n",
       "      <td>2015-09-11</td>\n",
       "      <td>1101.3</td>\n",
       "    </tr>\n",
       "    <tr>\n",
       "      <th>3</th>\n",
       "      <td>2015-09-10</td>\n",
       "      <td>1109.5</td>\n",
       "    </tr>\n",
       "    <tr>\n",
       "      <th>4</th>\n",
       "      <td>2015-09-09</td>\n",
       "      <td>1109.9</td>\n",
       "    </tr>\n",
       "  </tbody>\n",
       "</table>\n",
       "</div>"
      ],
      "text/plain": [
       "        Date   Value\n",
       "0 2015-09-15  1106.0\n",
       "1 2015-09-14  1104.8\n",
       "2 2015-09-11  1101.3\n",
       "3 2015-09-10  1109.5\n",
       "4 2015-09-09  1109.9"
      ]
     },
     "execution_count": 48,
     "metadata": {},
     "output_type": "execute_result"
    }
   ],
   "source": [
    "gold.head()"
   ]
  },
  {
   "cell_type": "code",
   "execution_count": 49,
   "metadata": {
    "collapsed": true
   },
   "outputs": [],
   "source": [
    "oil = pd.read_csv('../csv_files/oil.csv')"
   ]
  },
  {
   "cell_type": "code",
   "execution_count": 52,
   "metadata": {
    "collapsed": false,
    "scrolled": true
   },
   "outputs": [
    {
     "data": {
      "text/plain": [
       "Date      object\n",
       "Value    float64\n",
       "dtype: object"
      ]
     },
     "execution_count": 52,
     "metadata": {},
     "output_type": "execute_result"
    }
   ],
   "source": [
    "oil.dtypes"
   ]
  },
  {
   "cell_type": "code",
   "execution_count": 53,
   "metadata": {
    "collapsed": false
   },
   "outputs": [],
   "source": [
    "oil['Date'] = pd.to_datetime(oil['Date'])"
   ]
  },
  {
   "cell_type": "code",
   "execution_count": 54,
   "metadata": {
    "collapsed": false
   },
   "outputs": [
    {
     "data": {
      "text/plain": [
       "Date     datetime64[ns]\n",
       "Value           float64\n",
       "dtype: object"
      ]
     },
     "execution_count": 54,
     "metadata": {},
     "output_type": "execute_result"
    }
   ],
   "source": [
    "oil.dtypes"
   ]
  },
  {
   "cell_type": "code",
   "execution_count": 56,
   "metadata": {
    "collapsed": false,
    "scrolled": false
   },
   "outputs": [
    {
     "data": {
      "text/html": [
       "<div>\n",
       "<table border=\"1\" class=\"dataframe\">\n",
       "  <thead>\n",
       "    <tr style=\"text-align: right;\">\n",
       "      <th></th>\n",
       "      <th>Date</th>\n",
       "      <th>Value</th>\n",
       "    </tr>\n",
       "  </thead>\n",
       "  <tbody>\n",
       "    <tr>\n",
       "      <th>0</th>\n",
       "      <td>2015-09-14</td>\n",
       "      <td>44.07</td>\n",
       "    </tr>\n",
       "    <tr>\n",
       "      <th>1</th>\n",
       "      <td>2015-09-11</td>\n",
       "      <td>44.75</td>\n",
       "    </tr>\n",
       "    <tr>\n",
       "      <th>2</th>\n",
       "      <td>2015-09-10</td>\n",
       "      <td>45.85</td>\n",
       "    </tr>\n",
       "    <tr>\n",
       "      <th>3</th>\n",
       "      <td>2015-09-09</td>\n",
       "      <td>44.13</td>\n",
       "    </tr>\n",
       "    <tr>\n",
       "      <th>4</th>\n",
       "      <td>2015-09-08</td>\n",
       "      <td>45.92</td>\n",
       "    </tr>\n",
       "  </tbody>\n",
       "</table>\n",
       "</div>"
      ],
      "text/plain": [
       "        Date  Value\n",
       "0 2015-09-14  44.07\n",
       "1 2015-09-11  44.75\n",
       "2 2015-09-10  45.85\n",
       "3 2015-09-09  44.13\n",
       "4 2015-09-08  45.92"
      ]
     },
     "execution_count": 56,
     "metadata": {},
     "output_type": "execute_result"
    }
   ],
   "source": [
    "oil.head()"
   ]
  },
  {
   "cell_type": "code",
   "execution_count": 57,
   "metadata": {
    "collapsed": true
   },
   "outputs": [],
   "source": [
    "USD_eur = pd.read_csv('../csv_files/USD_EUR.csv')"
   ]
  },
  {
   "cell_type": "code",
   "execution_count": 58,
   "metadata": {
    "collapsed": false
   },
   "outputs": [
    {
     "data": {
      "text/html": [
       "<div>\n",
       "<table border=\"1\" class=\"dataframe\">\n",
       "  <thead>\n",
       "    <tr style=\"text-align: right;\">\n",
       "      <th></th>\n",
       "      <th>Date</th>\n",
       "      <th>Rate</th>\n",
       "      <th>High (est)</th>\n",
       "      <th>Low (est)</th>\n",
       "    </tr>\n",
       "  </thead>\n",
       "  <tbody>\n",
       "    <tr>\n",
       "      <th>0</th>\n",
       "      <td>2015-09-18</td>\n",
       "      <td>0.884720</td>\n",
       "      <td>0.89457</td>\n",
       "      <td>0.87498</td>\n",
       "    </tr>\n",
       "    <tr>\n",
       "      <th>1</th>\n",
       "      <td>2015-09-17</td>\n",
       "      <td>0.886165</td>\n",
       "      <td>0.89648</td>\n",
       "      <td>0.87597</td>\n",
       "    </tr>\n",
       "    <tr>\n",
       "      <th>2</th>\n",
       "      <td>2015-09-16</td>\n",
       "      <td>0.884096</td>\n",
       "      <td>0.89446</td>\n",
       "      <td>0.87385</td>\n",
       "    </tr>\n",
       "    <tr>\n",
       "      <th>3</th>\n",
       "      <td>2015-09-15</td>\n",
       "      <td>0.882447</td>\n",
       "      <td>0.89297</td>\n",
       "      <td>0.87205</td>\n",
       "    </tr>\n",
       "    <tr>\n",
       "      <th>4</th>\n",
       "      <td>2015-09-14</td>\n",
       "      <td>0.885510</td>\n",
       "      <td>0.00000</td>\n",
       "      <td>0.00000</td>\n",
       "    </tr>\n",
       "  </tbody>\n",
       "</table>\n",
       "</div>"
      ],
      "text/plain": [
       "         Date      Rate  High (est)  Low (est)\n",
       "0  2015-09-18  0.884720     0.89457    0.87498\n",
       "1  2015-09-17  0.886165     0.89648    0.87597\n",
       "2  2015-09-16  0.884096     0.89446    0.87385\n",
       "3  2015-09-15  0.882447     0.89297    0.87205\n",
       "4  2015-09-14  0.885510     0.00000    0.00000"
      ]
     },
     "execution_count": 58,
     "metadata": {},
     "output_type": "execute_result"
    }
   ],
   "source": [
    "USD_eur.head()"
   ]
  },
  {
   "cell_type": "code",
   "execution_count": 59,
   "metadata": {
    "collapsed": false
   },
   "outputs": [],
   "source": [
    "USD_eur.drop(['High (est)','Low (est)'],axis=1,inplace=True)"
   ]
  },
  {
   "cell_type": "code",
   "execution_count": 60,
   "metadata": {
    "collapsed": false
   },
   "outputs": [],
   "source": [
    "USD_eur['Date'] = pd.to_datetime(USD_eur['Date'])"
   ]
  },
  {
   "cell_type": "code",
   "execution_count": 61,
   "metadata": {
    "collapsed": false
   },
   "outputs": [
    {
     "data": {
      "text/plain": [
       "Date    datetime64[ns]\n",
       "Rate           float64\n",
       "dtype: object"
      ]
     },
     "execution_count": 61,
     "metadata": {},
     "output_type": "execute_result"
    }
   ],
   "source": [
    "USD_eur.dtypes"
   ]
  },
  {
   "cell_type": "code",
   "execution_count": 62,
   "metadata": {
    "collapsed": false,
    "scrolled": true
   },
   "outputs": [
    {
     "data": {
      "text/html": [
       "<div>\n",
       "<table border=\"1\" class=\"dataframe\">\n",
       "  <thead>\n",
       "    <tr style=\"text-align: right;\">\n",
       "      <th></th>\n",
       "      <th>Date</th>\n",
       "      <th>Rate</th>\n",
       "    </tr>\n",
       "  </thead>\n",
       "  <tbody>\n",
       "    <tr>\n",
       "      <th>0</th>\n",
       "      <td>2015-09-18</td>\n",
       "      <td>0.884720</td>\n",
       "    </tr>\n",
       "    <tr>\n",
       "      <th>1</th>\n",
       "      <td>2015-09-17</td>\n",
       "      <td>0.886165</td>\n",
       "    </tr>\n",
       "    <tr>\n",
       "      <th>2</th>\n",
       "      <td>2015-09-16</td>\n",
       "      <td>0.884096</td>\n",
       "    </tr>\n",
       "    <tr>\n",
       "      <th>3</th>\n",
       "      <td>2015-09-15</td>\n",
       "      <td>0.882447</td>\n",
       "    </tr>\n",
       "    <tr>\n",
       "      <th>4</th>\n",
       "      <td>2015-09-14</td>\n",
       "      <td>0.885510</td>\n",
       "    </tr>\n",
       "  </tbody>\n",
       "</table>\n",
       "</div>"
      ],
      "text/plain": [
       "        Date      Rate\n",
       "0 2015-09-18  0.884720\n",
       "1 2015-09-17  0.886165\n",
       "2 2015-09-16  0.884096\n",
       "3 2015-09-15  0.882447\n",
       "4 2015-09-14  0.885510"
      ]
     },
     "execution_count": 62,
     "metadata": {},
     "output_type": "execute_result"
    }
   ],
   "source": [
    "USD_eur.head()"
   ]
  },
  {
   "cell_type": "code",
   "execution_count": 63,
   "metadata": {
    "collapsed": false
   },
   "outputs": [],
   "source": [
    "bitcoin_value['Date']=pd.to_datetime(bitcoin_value['Date'])"
   ]
  },
  {
   "cell_type": "code",
   "execution_count": 64,
   "metadata": {
    "collapsed": false,
    "scrolled": true
   },
   "outputs": [
    {
     "data": {
      "text/plain": [
       "Date           datetime64[ns]\n",
       "24h Average           float64\n",
       "dtype: object"
      ]
     },
     "execution_count": 64,
     "metadata": {},
     "output_type": "execute_result"
    }
   ],
   "source": [
    "bitcoin_value.dtypes"
   ]
  },
  {
   "cell_type": "code",
   "execution_count": 105,
   "metadata": {
    "collapsed": false,
    "scrolled": true
   },
   "outputs": [],
   "source": [
    "Dataframe = US_stock.merge(gold,on='Date').merge(oil,on='Date').merge(USD_eur,on='Date').merge(bitcoin_value,on='Date')"
   ]
  },
  {
   "cell_type": "code",
   "execution_count": 106,
   "metadata": {
    "collapsed": false,
    "scrolled": true
   },
   "outputs": [],
   "source": [
    "Dataframe.columns = ['Date','DowJones','Gold','Oil','USD/EUR','BTC/USD']"
   ]
  },
  {
   "cell_type": "code",
   "execution_count": 107,
   "metadata": {
    "collapsed": false
   },
   "outputs": [
    {
     "data": {
      "text/html": [
       "<div>\n",
       "<table border=\"1\" class=\"dataframe\">\n",
       "  <thead>\n",
       "    <tr style=\"text-align: right;\">\n",
       "      <th></th>\n",
       "      <th>Date</th>\n",
       "      <th>DowJones</th>\n",
       "      <th>Gold</th>\n",
       "      <th>Oil</th>\n",
       "      <th>USD/EUR</th>\n",
       "      <th>BTC/USD</th>\n",
       "    </tr>\n",
       "  </thead>\n",
       "  <tbody>\n",
       "    <tr>\n",
       "      <th>0</th>\n",
       "      <td>2015-09-14</td>\n",
       "      <td>16370.96</td>\n",
       "      <td>1104.8</td>\n",
       "      <td>44.07</td>\n",
       "      <td>0.885510</td>\n",
       "      <td>230.79</td>\n",
       "    </tr>\n",
       "    <tr>\n",
       "      <th>1</th>\n",
       "      <td>2015-09-11</td>\n",
       "      <td>16433.09</td>\n",
       "      <td>1101.3</td>\n",
       "      <td>44.75</td>\n",
       "      <td>0.892335</td>\n",
       "      <td>241.55</td>\n",
       "    </tr>\n",
       "    <tr>\n",
       "      <th>2</th>\n",
       "      <td>2015-09-10</td>\n",
       "      <td>16330.40</td>\n",
       "      <td>1109.5</td>\n",
       "      <td>45.85</td>\n",
       "      <td>0.894684</td>\n",
       "      <td>239.98</td>\n",
       "    </tr>\n",
       "    <tr>\n",
       "      <th>3</th>\n",
       "      <td>2015-09-09</td>\n",
       "      <td>16253.57</td>\n",
       "      <td>1109.9</td>\n",
       "      <td>44.13</td>\n",
       "      <td>0.895212</td>\n",
       "      <td>242.45</td>\n",
       "    </tr>\n",
       "    <tr>\n",
       "      <th>4</th>\n",
       "      <td>2015-09-08</td>\n",
       "      <td>16492.68</td>\n",
       "      <td>1121.2</td>\n",
       "      <td>45.92</td>\n",
       "      <td>0.896582</td>\n",
       "      <td>243.76</td>\n",
       "    </tr>\n",
       "  </tbody>\n",
       "</table>\n",
       "</div>"
      ],
      "text/plain": [
       "        Date  DowJones    Gold    Oil   USD/EUR  BTC/USD\n",
       "0 2015-09-14  16370.96  1104.8  44.07  0.885510   230.79\n",
       "1 2015-09-11  16433.09  1101.3  44.75  0.892335   241.55\n",
       "2 2015-09-10  16330.40  1109.5  45.85  0.894684   239.98\n",
       "3 2015-09-09  16253.57  1109.9  44.13  0.895212   242.45\n",
       "4 2015-09-08  16492.68  1121.2  45.92  0.896582   243.76"
      ]
     },
     "execution_count": 107,
     "metadata": {},
     "output_type": "execute_result"
    }
   ],
   "source": [
    "Dataframe.head()"
   ]
  },
  {
   "cell_type": "code",
   "execution_count": 108,
   "metadata": {
    "collapsed": false,
    "scrolled": true
   },
   "outputs": [
    {
     "data": {
      "text/html": [
       "<div>\n",
       "<table border=\"1\" class=\"dataframe\">\n",
       "  <thead>\n",
       "    <tr style=\"text-align: right;\">\n",
       "      <th></th>\n",
       "      <th>Date</th>\n",
       "      <th>DowJones</th>\n",
       "      <th>Gold</th>\n",
       "      <th>Oil</th>\n",
       "      <th>USD/EUR</th>\n",
       "      <th>BTC/USD</th>\n",
       "    </tr>\n",
       "  </thead>\n",
       "  <tbody>\n",
       "    <tr>\n",
       "      <th>0</th>\n",
       "      <td>2015-09-14</td>\n",
       "      <td>16370.96</td>\n",
       "      <td>1104.8</td>\n",
       "      <td>44.07</td>\n",
       "      <td>0.885510</td>\n",
       "      <td>230.79</td>\n",
       "    </tr>\n",
       "    <tr>\n",
       "      <th>1</th>\n",
       "      <td>2015-09-11</td>\n",
       "      <td>16433.09</td>\n",
       "      <td>1101.3</td>\n",
       "      <td>44.75</td>\n",
       "      <td>0.892335</td>\n",
       "      <td>241.55</td>\n",
       "    </tr>\n",
       "    <tr>\n",
       "      <th>2</th>\n",
       "      <td>2015-09-10</td>\n",
       "      <td>16330.40</td>\n",
       "      <td>1109.5</td>\n",
       "      <td>45.85</td>\n",
       "      <td>0.894684</td>\n",
       "      <td>239.98</td>\n",
       "    </tr>\n",
       "  </tbody>\n",
       "</table>\n",
       "</div>"
      ],
      "text/plain": [
       "        Date  DowJones    Gold    Oil   USD/EUR  BTC/USD\n",
       "0 2015-09-14  16370.96  1104.8  44.07  0.885510   230.79\n",
       "1 2015-09-11  16433.09  1101.3  44.75  0.892335   241.55\n",
       "2 2015-09-10  16330.40  1109.5  45.85  0.894684   239.98"
      ]
     },
     "execution_count": 108,
     "metadata": {},
     "output_type": "execute_result"
    }
   ],
   "source": [
    "Dataframe.head(3)"
   ]
  },
  {
   "cell_type": "code",
   "execution_count": 109,
   "metadata": {
    "collapsed": true
   },
   "outputs": [],
   "source": [
    "feature_cols = ['DowJones','Gold','Oil','USD/EUR']"
   ]
  },
  {
   "cell_type": "code",
   "execution_count": 110,
   "metadata": {
    "collapsed": true
   },
   "outputs": [],
   "source": [
    "X = Dataframe[feature_cols]"
   ]
  },
  {
   "cell_type": "code",
   "execution_count": 111,
   "metadata": {
    "collapsed": false,
    "scrolled": true
   },
   "outputs": [
    {
     "data": {
      "text/html": [
       "<div>\n",
       "<table border=\"1\" class=\"dataframe\">\n",
       "  <thead>\n",
       "    <tr style=\"text-align: right;\">\n",
       "      <th></th>\n",
       "      <th>DowJones</th>\n",
       "      <th>Gold</th>\n",
       "      <th>Oil</th>\n",
       "      <th>USD/EUR</th>\n",
       "    </tr>\n",
       "  </thead>\n",
       "  <tbody>\n",
       "    <tr>\n",
       "      <th>0</th>\n",
       "      <td>16370.96</td>\n",
       "      <td>1104.8</td>\n",
       "      <td>44.07</td>\n",
       "      <td>0.885510</td>\n",
       "    </tr>\n",
       "    <tr>\n",
       "      <th>1</th>\n",
       "      <td>16433.09</td>\n",
       "      <td>1101.3</td>\n",
       "      <td>44.75</td>\n",
       "      <td>0.892335</td>\n",
       "    </tr>\n",
       "    <tr>\n",
       "      <th>2</th>\n",
       "      <td>16330.40</td>\n",
       "      <td>1109.5</td>\n",
       "      <td>45.85</td>\n",
       "      <td>0.894684</td>\n",
       "    </tr>\n",
       "    <tr>\n",
       "      <th>3</th>\n",
       "      <td>16253.57</td>\n",
       "      <td>1109.9</td>\n",
       "      <td>44.13</td>\n",
       "      <td>0.895212</td>\n",
       "    </tr>\n",
       "    <tr>\n",
       "      <th>4</th>\n",
       "      <td>16492.68</td>\n",
       "      <td>1121.2</td>\n",
       "      <td>45.92</td>\n",
       "      <td>0.896582</td>\n",
       "    </tr>\n",
       "    <tr>\n",
       "      <th>5</th>\n",
       "      <td>16102.38</td>\n",
       "      <td>1118.3</td>\n",
       "      <td>46.02</td>\n",
       "      <td>0.891554</td>\n",
       "    </tr>\n",
       "    <tr>\n",
       "      <th>6</th>\n",
       "      <td>16351.38</td>\n",
       "      <td>1137.8</td>\n",
       "      <td>46.30</td>\n",
       "      <td>0.889085</td>\n",
       "    </tr>\n",
       "    <tr>\n",
       "      <th>7</th>\n",
       "      <td>16058.35</td>\n",
       "      <td>1142.3</td>\n",
       "      <td>45.38</td>\n",
       "      <td>0.892457</td>\n",
       "    </tr>\n",
       "    <tr>\n",
       "      <th>8</th>\n",
       "      <td>16528.03</td>\n",
       "      <td>1135.0</td>\n",
       "      <td>49.20</td>\n",
       "      <td>0.890937</td>\n",
       "    </tr>\n",
       "    <tr>\n",
       "      <th>9</th>\n",
       "      <td>16643.01</td>\n",
       "      <td>1135.0</td>\n",
       "      <td>45.29</td>\n",
       "      <td>0.880789</td>\n",
       "    </tr>\n",
       "    <tr>\n",
       "      <th>10</th>\n",
       "      <td>16654.77</td>\n",
       "      <td>1119.0</td>\n",
       "      <td>42.47</td>\n",
       "      <td>0.871649</td>\n",
       "    </tr>\n",
       "    <tr>\n",
       "      <th>11</th>\n",
       "      <td>16285.51</td>\n",
       "      <td>1120.8</td>\n",
       "      <td>38.50</td>\n",
       "      <td>0.869089</td>\n",
       "    </tr>\n",
       "    <tr>\n",
       "      <th>12</th>\n",
       "      <td>15666.44</td>\n",
       "      <td>1137.5</td>\n",
       "      <td>39.15</td>\n",
       "      <td>0.873058</td>\n",
       "    </tr>\n",
       "    <tr>\n",
       "      <th>13</th>\n",
       "      <td>15871.35</td>\n",
       "      <td>1166.5</td>\n",
       "      <td>38.22</td>\n",
       "      <td>0.885160</td>\n",
       "    </tr>\n",
       "    <tr>\n",
       "      <th>14</th>\n",
       "      <td>16459.75</td>\n",
       "      <td>1156.5</td>\n",
       "      <td>40.45</td>\n",
       "      <td>0.899494</td>\n",
       "    </tr>\n",
       "    <tr>\n",
       "      <th>15</th>\n",
       "      <td>16990.69</td>\n",
       "      <td>1147.7</td>\n",
       "      <td>41.00</td>\n",
       "      <td>0.904523</td>\n",
       "    </tr>\n",
       "    <tr>\n",
       "      <th>16</th>\n",
       "      <td>17348.73</td>\n",
       "      <td>1126.2</td>\n",
       "      <td>40.75</td>\n",
       "      <td>0.903321</td>\n",
       "    </tr>\n",
       "    <tr>\n",
       "      <th>17</th>\n",
       "      <td>17511.34</td>\n",
       "      <td>1111.5</td>\n",
       "      <td>42.58</td>\n",
       "      <td>0.901009</td>\n",
       "    </tr>\n",
       "    <tr>\n",
       "      <th>18</th>\n",
       "      <td>17545.18</td>\n",
       "      <td>1118.8</td>\n",
       "      <td>41.93</td>\n",
       "      <td>0.899345</td>\n",
       "    </tr>\n",
       "    <tr>\n",
       "      <th>19</th>\n",
       "      <td>17477.40</td>\n",
       "      <td>1118.3</td>\n",
       "      <td>42.45</td>\n",
       "      <td>0.898714</td>\n",
       "    </tr>\n",
       "    <tr>\n",
       "      <th>20</th>\n",
       "      <td>17408.25</td>\n",
       "      <td>1116.8</td>\n",
       "      <td>42.27</td>\n",
       "      <td>0.902663</td>\n",
       "    </tr>\n",
       "    <tr>\n",
       "      <th>21</th>\n",
       "      <td>17402.51</td>\n",
       "      <td>1119.0</td>\n",
       "      <td>43.22</td>\n",
       "      <td>0.908725</td>\n",
       "    </tr>\n",
       "    <tr>\n",
       "      <th>22</th>\n",
       "      <td>17402.84</td>\n",
       "      <td>1108.3</td>\n",
       "      <td>43.11</td>\n",
       "      <td>0.911531</td>\n",
       "    </tr>\n",
       "    <tr>\n",
       "      <th>23</th>\n",
       "      <td>17615.17</td>\n",
       "      <td>1097.0</td>\n",
       "      <td>44.94</td>\n",
       "      <td>0.913698</td>\n",
       "    </tr>\n",
       "    <tr>\n",
       "      <th>24</th>\n",
       "      <td>17373.38</td>\n",
       "      <td>1093.5</td>\n",
       "      <td>43.87</td>\n",
       "      <td>0.917664</td>\n",
       "    </tr>\n",
       "    <tr>\n",
       "      <th>25</th>\n",
       "      <td>17419.75</td>\n",
       "      <td>1089.8</td>\n",
       "      <td>44.69</td>\n",
       "      <td>0.917086</td>\n",
       "    </tr>\n",
       "    <tr>\n",
       "      <th>26</th>\n",
       "      <td>17540.47</td>\n",
       "      <td>1085.1</td>\n",
       "      <td>45.13</td>\n",
       "      <td>0.912728</td>\n",
       "    </tr>\n",
       "    <tr>\n",
       "      <th>27</th>\n",
       "      <td>17550.69</td>\n",
       "      <td>1090.7</td>\n",
       "      <td>45.75</td>\n",
       "      <td>0.911237</td>\n",
       "    </tr>\n",
       "    <tr>\n",
       "      <th>28</th>\n",
       "      <td>17598.20</td>\n",
       "      <td>1091.9</td>\n",
       "      <td>45.25</td>\n",
       "      <td>0.911383</td>\n",
       "    </tr>\n",
       "    <tr>\n",
       "      <th>29</th>\n",
       "      <td>17689.86</td>\n",
       "      <td>1098.4</td>\n",
       "      <td>47.11</td>\n",
       "      <td>0.909951</td>\n",
       "    </tr>\n",
       "    <tr>\n",
       "      <th>...</th>\n",
       "      <td>...</td>\n",
       "      <td>...</td>\n",
       "      <td>...</td>\n",
       "      <td>...</td>\n",
       "    </tr>\n",
       "    <tr>\n",
       "      <th>1211</th>\n",
       "      <td>11169.46</td>\n",
       "      <td>1329.5</td>\n",
       "      <td>82.60</td>\n",
       "      <td>0.714758</td>\n",
       "    </tr>\n",
       "    <tr>\n",
       "      <th>1212</th>\n",
       "      <td>11164.05</td>\n",
       "      <td>1337.5</td>\n",
       "      <td>82.00</td>\n",
       "      <td>0.716276</td>\n",
       "    </tr>\n",
       "    <tr>\n",
       "      <th>1213</th>\n",
       "      <td>11132.56</td>\n",
       "      <td>1322.5</td>\n",
       "      <td>81.15</td>\n",
       "      <td>0.717773</td>\n",
       "    </tr>\n",
       "    <tr>\n",
       "      <th>1214</th>\n",
       "      <td>11146.57</td>\n",
       "      <td>1343.5</td>\n",
       "      <td>80.03</td>\n",
       "      <td>0.721377</td>\n",
       "    </tr>\n",
       "    <tr>\n",
       "      <th>1215</th>\n",
       "      <td>11107.97</td>\n",
       "      <td>1339.0</td>\n",
       "      <td>81.93</td>\n",
       "      <td>0.720643</td>\n",
       "    </tr>\n",
       "    <tr>\n",
       "      <th>1216</th>\n",
       "      <td>10978.62</td>\n",
       "      <td>1339.0</td>\n",
       "      <td>79.57</td>\n",
       "      <td>0.717131</td>\n",
       "    </tr>\n",
       "    <tr>\n",
       "      <th>1217</th>\n",
       "      <td>11143.69</td>\n",
       "      <td>1367.3</td>\n",
       "      <td>83.06</td>\n",
       "      <td>0.713595</td>\n",
       "    </tr>\n",
       "    <tr>\n",
       "      <th>1218</th>\n",
       "      <td>11062.78</td>\n",
       "      <td>1367.5</td>\n",
       "      <td>81.23</td>\n",
       "      <td>0.712515</td>\n",
       "    </tr>\n",
       "    <tr>\n",
       "      <th>1219</th>\n",
       "      <td>11094.57</td>\n",
       "      <td>1373.3</td>\n",
       "      <td>82.71</td>\n",
       "      <td>0.718324</td>\n",
       "    </tr>\n",
       "    <tr>\n",
       "      <th>1220</th>\n",
       "      <td>11096.08</td>\n",
       "      <td>1365.5</td>\n",
       "      <td>83.03</td>\n",
       "      <td>0.720673</td>\n",
       "    </tr>\n",
       "    <tr>\n",
       "      <th>1221</th>\n",
       "      <td>11020.40</td>\n",
       "      <td>1348.5</td>\n",
       "      <td>81.67</td>\n",
       "      <td>0.717831</td>\n",
       "    </tr>\n",
       "    <tr>\n",
       "      <th>1222</th>\n",
       "      <td>11010.34</td>\n",
       "      <td>1351.5</td>\n",
       "      <td>82.18</td>\n",
       "      <td>0.718448</td>\n",
       "    </tr>\n",
       "    <tr>\n",
       "      <th>1223</th>\n",
       "      <td>11006.48</td>\n",
       "      <td>1341.5</td>\n",
       "      <td>82.66</td>\n",
       "      <td>0.718448</td>\n",
       "    </tr>\n",
       "    <tr>\n",
       "      <th>1224</th>\n",
       "      <td>10948.58</td>\n",
       "      <td>1345.0</td>\n",
       "      <td>81.34</td>\n",
       "      <td>0.722590</td>\n",
       "    </tr>\n",
       "    <tr>\n",
       "      <th>1225</th>\n",
       "      <td>10967.65</td>\n",
       "      <td>1346.5</td>\n",
       "      <td>83.21</td>\n",
       "      <td>0.727117</td>\n",
       "    </tr>\n",
       "    <tr>\n",
       "      <th>1226</th>\n",
       "      <td>10944.72</td>\n",
       "      <td>1330.5</td>\n",
       "      <td>82.83</td>\n",
       "      <td>0.727741</td>\n",
       "    </tr>\n",
       "    <tr>\n",
       "      <th>1227</th>\n",
       "      <td>10751.27</td>\n",
       "      <td>1313.5</td>\n",
       "      <td>81.43</td>\n",
       "      <td>0.728375</td>\n",
       "    </tr>\n",
       "    <tr>\n",
       "      <th>1228</th>\n",
       "      <td>10829.68</td>\n",
       "      <td>1316.3</td>\n",
       "      <td>81.57</td>\n",
       "      <td>0.734307</td>\n",
       "    </tr>\n",
       "    <tr>\n",
       "      <th>1229</th>\n",
       "      <td>10788.05</td>\n",
       "      <td>1307.0</td>\n",
       "      <td>79.95</td>\n",
       "      <td>0.737007</td>\n",
       "    </tr>\n",
       "    <tr>\n",
       "      <th>1230</th>\n",
       "      <td>10835.28</td>\n",
       "      <td>1307.5</td>\n",
       "      <td>77.85</td>\n",
       "      <td>0.741514</td>\n",
       "    </tr>\n",
       "    <tr>\n",
       "      <th>1231</th>\n",
       "      <td>10858.14</td>\n",
       "      <td>1294.0</td>\n",
       "      <td>76.15</td>\n",
       "      <td>0.742034</td>\n",
       "    </tr>\n",
       "    <tr>\n",
       "      <th>1232</th>\n",
       "      <td>10812.04</td>\n",
       "      <td>1297.0</td>\n",
       "      <td>76.51</td>\n",
       "      <td>0.744105</td>\n",
       "    </tr>\n",
       "    <tr>\n",
       "      <th>1233</th>\n",
       "      <td>10860.26</td>\n",
       "      <td>1297.0</td>\n",
       "      <td>74.63</td>\n",
       "      <td>0.748860</td>\n",
       "    </tr>\n",
       "    <tr>\n",
       "      <th>1234</th>\n",
       "      <td>10662.42</td>\n",
       "      <td>1290.8</td>\n",
       "      <td>73.40</td>\n",
       "      <td>0.753126</td>\n",
       "    </tr>\n",
       "    <tr>\n",
       "      <th>1235</th>\n",
       "      <td>10739.31</td>\n",
       "      <td>1293.5</td>\n",
       "      <td>72.98</td>\n",
       "      <td>0.762497</td>\n",
       "    </tr>\n",
       "    <tr>\n",
       "      <th>1236</th>\n",
       "      <td>10761.03</td>\n",
       "      <td>1275.0</td>\n",
       "      <td>72.96</td>\n",
       "      <td>0.765285</td>\n",
       "    </tr>\n",
       "    <tr>\n",
       "      <th>1237</th>\n",
       "      <td>10753.62</td>\n",
       "      <td>1279.3</td>\n",
       "      <td>74.81</td>\n",
       "      <td>0.766081</td>\n",
       "    </tr>\n",
       "    <tr>\n",
       "      <th>1238</th>\n",
       "      <td>10607.85</td>\n",
       "      <td>1274.0</td>\n",
       "      <td>73.63</td>\n",
       "      <td>0.767298</td>\n",
       "    </tr>\n",
       "    <tr>\n",
       "      <th>1239</th>\n",
       "      <td>10594.83</td>\n",
       "      <td>1272.5</td>\n",
       "      <td>74.58</td>\n",
       "      <td>0.771290</td>\n",
       "    </tr>\n",
       "    <tr>\n",
       "      <th>1240</th>\n",
       "      <td>10572.73</td>\n",
       "      <td>1267.0</td>\n",
       "      <td>75.92</td>\n",
       "      <td>0.775948</td>\n",
       "    </tr>\n",
       "  </tbody>\n",
       "</table>\n",
       "<p>1241 rows × 4 columns</p>\n",
       "</div>"
      ],
      "text/plain": [
       "      DowJones    Gold    Oil   USD/EUR\n",
       "0     16370.96  1104.8  44.07  0.885510\n",
       "1     16433.09  1101.3  44.75  0.892335\n",
       "2     16330.40  1109.5  45.85  0.894684\n",
       "3     16253.57  1109.9  44.13  0.895212\n",
       "4     16492.68  1121.2  45.92  0.896582\n",
       "5     16102.38  1118.3  46.02  0.891554\n",
       "6     16351.38  1137.8  46.30  0.889085\n",
       "7     16058.35  1142.3  45.38  0.892457\n",
       "8     16528.03  1135.0  49.20  0.890937\n",
       "9     16643.01  1135.0  45.29  0.880789\n",
       "10    16654.77  1119.0  42.47  0.871649\n",
       "11    16285.51  1120.8  38.50  0.869089\n",
       "12    15666.44  1137.5  39.15  0.873058\n",
       "13    15871.35  1166.5  38.22  0.885160\n",
       "14    16459.75  1156.5  40.45  0.899494\n",
       "15    16990.69  1147.7  41.00  0.904523\n",
       "16    17348.73  1126.2  40.75  0.903321\n",
       "17    17511.34  1111.5  42.58  0.901009\n",
       "18    17545.18  1118.8  41.93  0.899345\n",
       "19    17477.40  1118.3  42.45  0.898714\n",
       "20    17408.25  1116.8  42.27  0.902663\n",
       "21    17402.51  1119.0  43.22  0.908725\n",
       "22    17402.84  1108.3  43.11  0.911531\n",
       "23    17615.17  1097.0  44.94  0.913698\n",
       "24    17373.38  1093.5  43.87  0.917664\n",
       "25    17419.75  1089.8  44.69  0.917086\n",
       "26    17540.47  1085.1  45.13  0.912728\n",
       "27    17550.69  1090.7  45.75  0.911237\n",
       "28    17598.20  1091.9  45.25  0.911383\n",
       "29    17689.86  1098.4  47.11  0.909951\n",
       "...        ...     ...    ...       ...\n",
       "1211  11169.46  1329.5  82.60  0.714758\n",
       "1212  11164.05  1337.5  82.00  0.716276\n",
       "1213  11132.56  1322.5  81.15  0.717773\n",
       "1214  11146.57  1343.5  80.03  0.721377\n",
       "1215  11107.97  1339.0  81.93  0.720643\n",
       "1216  10978.62  1339.0  79.57  0.717131\n",
       "1217  11143.69  1367.3  83.06  0.713595\n",
       "1218  11062.78  1367.5  81.23  0.712515\n",
       "1219  11094.57  1373.3  82.71  0.718324\n",
       "1220  11096.08  1365.5  83.03  0.720673\n",
       "1221  11020.40  1348.5  81.67  0.717831\n",
       "1222  11010.34  1351.5  82.18  0.718448\n",
       "1223  11006.48  1341.5  82.66  0.718448\n",
       "1224  10948.58  1345.0  81.34  0.722590\n",
       "1225  10967.65  1346.5  83.21  0.727117\n",
       "1226  10944.72  1330.5  82.83  0.727741\n",
       "1227  10751.27  1313.5  81.43  0.728375\n",
       "1228  10829.68  1316.3  81.57  0.734307\n",
       "1229  10788.05  1307.0  79.95  0.737007\n",
       "1230  10835.28  1307.5  77.85  0.741514\n",
       "1231  10858.14  1294.0  76.15  0.742034\n",
       "1232  10812.04  1297.0  76.51  0.744105\n",
       "1233  10860.26  1297.0  74.63  0.748860\n",
       "1234  10662.42  1290.8  73.40  0.753126\n",
       "1235  10739.31  1293.5  72.98  0.762497\n",
       "1236  10761.03  1275.0  72.96  0.765285\n",
       "1237  10753.62  1279.3  74.81  0.766081\n",
       "1238  10607.85  1274.0  73.63  0.767298\n",
       "1239  10594.83  1272.5  74.58  0.771290\n",
       "1240  10572.73  1267.0  75.92  0.775948\n",
       "\n",
       "[1241 rows x 4 columns]"
      ]
     },
     "execution_count": 111,
     "metadata": {},
     "output_type": "execute_result"
    }
   ],
   "source": [
    "X"
   ]
  },
  {
   "cell_type": "code",
   "execution_count": 112,
   "metadata": {
    "collapsed": false
   },
   "outputs": [],
   "source": [
    "y = Dataframe['BTC/USD']"
   ]
  },
  {
   "cell_type": "code",
   "execution_count": 113,
   "metadata": {
    "collapsed": false,
    "scrolled": true
   },
   "outputs": [
    {
     "data": {
      "text/plain": [
       "(1241L,)"
      ]
     },
     "execution_count": 113,
     "metadata": {},
     "output_type": "execute_result"
    }
   ],
   "source": [
    "y.shape"
   ]
  },
  {
   "cell_type": "code",
   "execution_count": 114,
   "metadata": {
    "collapsed": false,
    "scrolled": false
   },
   "outputs": [
    {
     "data": {
      "text/plain": [
       "(1241, 4)"
      ]
     },
     "execution_count": 114,
     "metadata": {},
     "output_type": "execute_result"
    }
   ],
   "source": [
    "X.shape"
   ]
  },
  {
   "cell_type": "code",
   "execution_count": 124,
   "metadata": {
    "collapsed": true
   },
   "outputs": [],
   "source": [
    "import seaborn as sns\n",
    "import matplotlib as plt"
   ]
  },
  {
   "cell_type": "code",
   "execution_count": 125,
   "metadata": {
    "collapsed": false
   },
   "outputs": [],
   "source": [
    "%matplotlib inline\n",
    "plt.rcParams['figure.figsize'] = (8, 6)\n",
    "plt.rcParams['font.size'] = 14"
   ]
  },
  {
   "cell_type": "code",
   "execution_count": 132,
   "metadata": {
    "collapsed": false,
    "scrolled": false
   },
   "outputs": [
    {
     "data": {
      "text/plain": [
       "<matplotlib.axes._subplots.AxesSubplot at 0x23630630>"
      ]
     },
     "execution_count": 132,
     "metadata": {},
     "output_type": "execute_result"
    },
    {
     "data": {
      "image/png": "[encoded data removed]",
      "text/plain": [
       "<matplotlib.figure.Figure at 0x234160b8>"
      ]
     },
     "metadata": {},
     "output_type": "display_data"
    }
   ],
   "source": [
    "Dataframe.plot(kind='scatter',y='DowJones',x='BTC/USD')"
   ]
  },
  {
   "cell_type": "code",
   "execution_count": 134,
   "metadata": {
    "collapsed": false,
    "scrolled": false
   },
   "outputs": [
    {
     "data": {
      "text/plain": [
       "<matplotlib.axes._subplots.AxesSubplot at 0x23d066d8>"
      ]
     },
     "execution_count": 134,
     "metadata": {},
     "output_type": "execute_result"
    },
    {
     "data": {
      "image/png": "[encoded data removed]",
      "text/plain": [
       "<matplotlib.figure.Figure at 0x23d6f710>"
      ]
     },
     "metadata": {},
     "output_type": "display_data"
    }
   ],
   "source": [
    "Dataframe.plot(kind='scatter',y='Gold',x='BTC/USD')"
   ]
  },
  {
   "cell_type": "code",
   "execution_count": 136,
   "metadata": {
    "collapsed": false,
    "scrolled": true
   },
   "outputs": [
    {
     "data": {
      "text/plain": [
       "<matplotlib.axes._subplots.AxesSubplot at 0x23e58710>"
      ]
     },
     "execution_count": 136,
     "metadata": {},
     "output_type": "execute_result"
    },
    {
     "data": {
      "image/png": "[encoded data removed]",
      "text/plain": [
       "<matplotlib.figure.Figure at 0x22198f28>"
      ]
     },
     "metadata": {},
     "output_type": "display_data"
    }
   ],
   "source": [
    "Dataframe.plot(kind='scatter',y='Oil',x='BTC/USD')"
   ]
  },
  {
   "cell_type": "code",
   "execution_count": 139,
   "metadata": {
    "collapsed": false
   },
   "outputs": [
    {
     "data": {
      "text/plain": [
       "<matplotlib.axes._subplots.AxesSubplot at 0x246082b0>"
      ]
     },
     "execution_count": 139,
     "metadata": {},
     "output_type": "execute_result"
    },
    {
     "data": {
      "image/png": "[encoded data removed]",
      "text/plain": [
       "<matplotlib.figure.Figure at 0x246c4c18>"
      ]
     },
     "metadata": {},
     "output_type": "display_data"
    }
   ],
   "source": [
    "Dataframe.plot(kind='scatter',y='USD/EUR',x='BTC/USD')"
   ]
  },
  {
   "cell_type": "code",
   "execution_count": 1,
   "metadata": {
    "collapsed": true
   },
   "outputs": [],
   "source": [
    "from sklearn.cross_validation import train_test_split"
   ]
  },
  {
   "cell_type": "code",
   "execution_count": 229,
   "metadata": {
    "collapsed": false
   },
   "outputs": [],
   "source": [
    "X_train,X_test,y_train,y_test=train_test_split(X,y,random_state=123)"
   ]
  },
  {
   "cell_type": "code",
   "execution_count": 75,
   "metadata": {
    "collapsed": false
   },
   "outputs": [
    {
     "data": {
      "text/plain": [
       "(311L,)"
      ]
     },
     "execution_count": 75,
     "metadata": {},
     "output_type": "execute_result"
    }
   ],
   "source": [
    "y_test.shape"
   ]
  },
  {
   "cell_type": "code",
   "execution_count": 76,
   "metadata": {
    "collapsed": false
   },
   "outputs": [
    {
     "data": {
      "text/plain": [
       "(311, 5)"
      ]
     },
     "execution_count": 76,
     "metadata": {},
     "output_type": "execute_result"
    }
   ],
   "source": [
    "X_test.shape"
   ]
  },
  {
   "cell_type": "code",
   "execution_count": 77,
   "metadata": {
    "collapsed": false
   },
   "outputs": [
    {
     "data": {
      "text/plain": [
       "(930L,)"
      ]
     },
     "execution_count": 77,
     "metadata": {},
     "output_type": "execute_result"
    }
   ],
   "source": [
    "y_train.shape"
   ]
  },
  {
   "cell_type": "code",
   "execution_count": 79,
   "metadata": {
    "collapsed": false
   },
   "outputs": [
    {
     "data": {
      "text/plain": [
       "(930, 5)"
      ]
     },
     "execution_count": 79,
     "metadata": {},
     "output_type": "execute_result"
    }
   ],
   "source": [
    "X_train.shape"
   ]
  },
  {
   "cell_type": "code",
   "execution_count": 87,
   "metadata": {
    "collapsed": false
   },
   "outputs": [
    {
     "data": {
      "text/html": [
       "<div>\n",
       "<table border=\"1\" class=\"dataframe\">\n",
       "  <thead>\n",
       "    <tr style=\"text-align: right;\">\n",
       "      <th></th>\n",
       "      <th>Date</th>\n",
       "      <th>DowJones</th>\n",
       "      <th>Gold</th>\n",
       "      <th>Oil</th>\n",
       "      <th>USD/EUR</th>\n",
       "      <th>BTC/USD</th>\n",
       "    </tr>\n",
       "  </thead>\n",
       "  <tbody>\n",
       "    <tr>\n",
       "      <th>0</th>\n",
       "      <td>2015-09-14</td>\n",
       "      <td>16370.96</td>\n",
       "      <td>1104.8</td>\n",
       "      <td>44.07</td>\n",
       "      <td>0.885510</td>\n",
       "      <td>230.79</td>\n",
       "    </tr>\n",
       "    <tr>\n",
       "      <th>1</th>\n",
       "      <td>2015-09-11</td>\n",
       "      <td>16433.09</td>\n",
       "      <td>1101.3</td>\n",
       "      <td>44.75</td>\n",
       "      <td>0.892335</td>\n",
       "      <td>241.55</td>\n",
       "    </tr>\n",
       "    <tr>\n",
       "      <th>2</th>\n",
       "      <td>2015-09-10</td>\n",
       "      <td>16330.40</td>\n",
       "      <td>1109.5</td>\n",
       "      <td>45.85</td>\n",
       "      <td>0.894684</td>\n",
       "      <td>239.98</td>\n",
       "    </tr>\n",
       "    <tr>\n",
       "      <th>3</th>\n",
       "      <td>2015-09-09</td>\n",
       "      <td>16253.57</td>\n",
       "      <td>1109.9</td>\n",
       "      <td>44.13</td>\n",
       "      <td>0.895212</td>\n",
       "      <td>242.45</td>\n",
       "    </tr>\n",
       "    <tr>\n",
       "      <th>4</th>\n",
       "      <td>2015-09-08</td>\n",
       "      <td>16492.68</td>\n",
       "      <td>1121.2</td>\n",
       "      <td>45.92</td>\n",
       "      <td>0.896582</td>\n",
       "      <td>243.76</td>\n",
       "    </tr>\n",
       "  </tbody>\n",
       "</table>\n",
       "</div>"
      ],
      "text/plain": [
       "        Date  DowJones    Gold    Oil   USD/EUR  BTC/USD\n",
       "0 2015-09-14  16370.96  1104.8  44.07  0.885510   230.79\n",
       "1 2015-09-11  16433.09  1101.3  44.75  0.892335   241.55\n",
       "2 2015-09-10  16330.40  1109.5  45.85  0.894684   239.98\n",
       "3 2015-09-09  16253.57  1109.9  44.13  0.895212   242.45\n",
       "4 2015-09-08  16492.68  1121.2  45.92  0.896582   243.76"
      ]
     },
     "execution_count": 87,
     "metadata": {},
     "output_type": "execute_result"
    }
   ],
   "source": [
    "Dataframe.head()"
   ]
  },
  {
   "cell_type": "code",
   "execution_count": 89,
   "metadata": {
    "collapsed": false
   },
   "outputs": [
    {
     "data": {
      "text/html": [
       "<div>\n",
       "<table border=\"1\" class=\"dataframe\">\n",
       "  <thead>\n",
       "    <tr style=\"text-align: right;\">\n",
       "      <th></th>\n",
       "      <th>DowJones</th>\n",
       "      <th>Gold</th>\n",
       "      <th>Oil</th>\n",
       "      <th>USD/EUR</th>\n",
       "    </tr>\n",
       "  </thead>\n",
       "  <tbody>\n",
       "    <tr>\n",
       "      <th>0</th>\n",
       "      <td>16370.96</td>\n",
       "      <td>1104.8</td>\n",
       "      <td>44.07</td>\n",
       "      <td>0.885510</td>\n",
       "    </tr>\n",
       "    <tr>\n",
       "      <th>1</th>\n",
       "      <td>16433.09</td>\n",
       "      <td>1101.3</td>\n",
       "      <td>44.75</td>\n",
       "      <td>0.892335</td>\n",
       "    </tr>\n",
       "    <tr>\n",
       "      <th>2</th>\n",
       "      <td>16330.40</td>\n",
       "      <td>1109.5</td>\n",
       "      <td>45.85</td>\n",
       "      <td>0.894684</td>\n",
       "    </tr>\n",
       "    <tr>\n",
       "      <th>3</th>\n",
       "      <td>16253.57</td>\n",
       "      <td>1109.9</td>\n",
       "      <td>44.13</td>\n",
       "      <td>0.895212</td>\n",
       "    </tr>\n",
       "    <tr>\n",
       "      <th>4</th>\n",
       "      <td>16492.68</td>\n",
       "      <td>1121.2</td>\n",
       "      <td>45.92</td>\n",
       "      <td>0.896582</td>\n",
       "    </tr>\n",
       "  </tbody>\n",
       "</table>\n",
       "</div>"
      ],
      "text/plain": [
       "   DowJones    Gold    Oil   USD/EUR\n",
       "0  16370.96  1104.8  44.07  0.885510\n",
       "1  16433.09  1101.3  44.75  0.892335\n",
       "2  16330.40  1109.5  45.85  0.894684\n",
       "3  16253.57  1109.9  44.13  0.895212\n",
       "4  16492.68  1121.2  45.92  0.896582"
      ]
     },
     "execution_count": 89,
     "metadata": {},
     "output_type": "execute_result"
    }
   ],
   "source": [
    "X.head()"
   ]
  },
  {
   "cell_type": "code",
   "execution_count": 140,
   "metadata": {
    "collapsed": false
   },
   "outputs": [
    {
     "data": {
      "text/plain": [
       "0    230.79\n",
       "1    241.55\n",
       "2    239.98\n",
       "3    242.45\n",
       "4    243.76\n",
       "Name: BTC/USD, dtype: float64"
      ]
     },
     "execution_count": 140,
     "metadata": {},
     "output_type": "execute_result"
    }
   ],
   "source": [
    "y.head()"
   ]
  },
  {
   "cell_type": "code",
   "execution_count": 141,
   "metadata": {
    "collapsed": true
   },
   "outputs": [],
   "source": [
    "#model"
   ]
  },
  {
   "cell_type": "code",
   "execution_count": 143,
   "metadata": {
    "collapsed": false
   },
   "outputs": [
    {
     "data": {
      "text/plain": [
       "<seaborn.axisgrid.FacetGrid at 0x24cb50b8>"
      ]
     },
     "execution_count": 143,
     "metadata": {},
     "output_type": "execute_result"
    },
    {
     "data": {
      "image/png": "[encoded data removed]",
      "text/plain": [
       "<matplotlib.figure.Figure at 0x24b17c88>"
      ]
     },
     "metadata": {},
     "output_type": "display_data"
    }
   ],
   "source": [
    "sns.lmplot(x='DowJones', y='BTC/USD', data=Dataframe, aspect=1.5)"
   ]
  },
  {
   "cell_type": "code",
   "execution_count": 145,
   "metadata": {
    "collapsed": false
   },
   "outputs": [
    {
     "data": {
      "text/plain": [
       "<seaborn.axisgrid.FacetGrid at 0x250cf048>"
      ]
     },
     "execution_count": 145,
     "metadata": {},
     "output_type": "execute_result"
    },
    {
     "data": {
      "image/png": "[encoded data removed]",
      "text/plain": [
       "<matplotlib.figure.Figure at 0x24fe5e48>"
      ]
     },
     "metadata": {},
     "output_type": "display_data"
    }
   ],
   "source": [
    "sns.lmplot(x='Gold', y='BTC/USD', data=Dataframe, aspect=1.5)"
   ]
  },
  {
   "cell_type": "code",
   "execution_count": 147,
   "metadata": {
    "collapsed": false
   },
   "outputs": [
    {
     "data": {
      "text/plain": [
       "<seaborn.axisgrid.FacetGrid at 0x256bc4e0>"
      ]
     },
     "execution_count": 147,
     "metadata": {},
     "output_type": "execute_result"
    },
    {
     "data": {
      "image/png": "[encoded data removed]",
      "text/plain": [
       "<matplotlib.figure.Figure at 0x25608470>"
      ]
     },
     "metadata": {},
     "output_type": "display_data"
    }
   ],
   "source": [
    "sns.lmplot(x='Oil', y='BTC/USD', data=Dataframe, aspect=1.5)"
   ]
  },
  {
   "cell_type": "code",
   "execution_count": 149,
   "metadata": {
    "collapsed": false,
    "scrolled": true
   },
   "outputs": [
    {
     "data": {
      "text/plain": [
       "<seaborn.axisgrid.FacetGrid at 0x267613c8>"
      ]
     },
     "execution_count": 149,
     "metadata": {},
     "output_type": "execute_result"
    },
    {
     "data": {
      "image/png": "[encoded data removed]",
      "text/plain": [
       "<matplotlib.figure.Figure at 0x25942c50>"
      ]
     },
     "metadata": {},
     "output_type": "display_data"
    }
   ],
   "source": [
    "sns.lmplot(x='USD/EUR', y='BTC/USD', data=Dataframe, aspect=1.5)"
   ]
  },
  {
   "cell_type": "code",
   "execution_count": 151,
   "metadata": {
    "collapsed": false
   },
   "outputs": [
    {
     "data": {
      "text/plain": [
       "LinearRegression(copy_X=True, fit_intercept=True, n_jobs=1, normalize=False)"
      ]
     },
     "execution_count": 151,
     "metadata": {},
     "output_type": "execute_result"
    }
   ],
   "source": [
    "from sklearn.linear_model import LinearRegression\n",
    "linreg = LinearRegression()\n",
    "linreg.fit(X,y)"
   ]
  },
  {
   "cell_type": "code",
   "execution_count": 154,
   "metadata": {
    "collapsed": false
   },
   "outputs": [
    {
     "name": "stdout",
     "output_type": "stream",
     "text": [
      "1025.15868376\n",
      "[  8.96435223e-02  -2.20704780e-01  -8.39268182e-01  -2.27487875e+03]\n"
     ]
    }
   ],
   "source": [
    "print linreg.intercept_\n",
    "print linreg.coef_"
   ]
  },
  {
   "cell_type": "code",
   "execution_count": 156,
   "metadata": {
    "collapsed": false
   },
   "outputs": [
    {
     "data": {
      "text/plain": [
       "[('DowJones', 0.089643522250961102),\n",
       " ('Gold', -0.22070477979166853),\n",
       " ('Oil', -0.83926818182192087),\n",
       " ('USD/EUR', -2274.8787487285526)]"
      ]
     },
     "execution_count": 156,
     "metadata": {},
     "output_type": "execute_result"
    }
   ],
   "source": [
    "zip(feature_cols,linreg.coef_)"
   ]
  },
  {
   "cell_type": "code",
   "execution_count": 157,
   "metadata": {
    "collapsed": false
   },
   "outputs": [
    {
     "data": {
      "text/plain": [
       "'\\nKeeping all other features fixed, 1 unit increase in DowJones is associated with a bitcoin price increase of 0.089\\nKeeping all other features fixed, 1 unit increase in Gold is associated with a bitcoin price decrease of 0.22\\nKeeping all other features fixed, 1 unit increase in Oil is associated with a bitcoin price decrease of 0.83\\nKeeping all other features fixed, 1 unit increase in USD/EUR is associated with a bitcoin price decrease of 2274.87\\n'"
      ]
     },
     "execution_count": 157,
     "metadata": {},
     "output_type": "execute_result"
    }
   ],
   "source": [
    "'''\n",
    "Keeping all other features fixed, 1 unit increase in DowJones is associated with a bitcoin price increase of 0.089\n",
    "Keeping all other features fixed, 1 unit increase in Gold is associated with a bitcoin price decrease of 0.22\n",
    "Keeping all other features fixed, 1 unit increase in Oil is associated with a bitcoin price decrease of 0.83\n",
    "Keeping all other features fixed, 1 unit increase in USD/EUR is associated with a bitcoin price decrease of 2274.87\n",
    "'''"
   ]
  },
  {
   "cell_type": "code",
   "execution_count": 215,
   "metadata": {
    "collapsed": true
   },
   "outputs": [],
   "source": [
    "from sklearn.cross_validation import train_test_split\n",
    "from sklearn import metrics\n",
    "import numpy as np\n",
    "def train_test_rmse(feature_cols):\n",
    "    X = Dataframe[feature_cols]\n",
    "    y= Dataframe['BTC/USD']\n",
    "    X_train, X_test, y_train, y_test = train_test_split(X,y,random_state=123)\n",
    "    linreg.fit(X_train,y_train)\n",
    "    y_pred = linreg.predict(X_test)\n",
    "    return np.sqrt(metrics.mean_squared_error(y_test, y_pred))\n",
    "    "
   ]
  },
  {
   "cell_type": "code",
   "execution_count": 225,
   "metadata": {
    "collapsed": false
   },
   "outputs": [],
   "source": [
    "def print_predicted(feature_cols):\n",
    "    X = Dataframe[feature_cols]\n",
    "    y= Dataframe['BTC/USD']\n",
    "    X_train, X_test, y_train, y_test = train_test_split(X,y,random_state=123)\n",
    "    linreg.fit(X_train,y_train)\n",
    "    y_pred = linreg.predict(X_test)\n",
    "    print y_pred\n",
    "    print y_test"
   ]
  },
  {
   "cell_type": "code",
   "execution_count": 218,
   "metadata": {
    "collapsed": false,
    "scrolled": true
   },
   "outputs": [
    {
     "data": {
      "text/plain": [
       "123.26102126926308"
      ]
     },
     "execution_count": 218,
     "metadata": {},
     "output_type": "execute_result"
    }
   ],
   "source": [
    "train_test_rmse(['DowJones','Gold','Oil','USD/EUR'])"
   ]
  },
  {
   "cell_type": "code",
   "execution_count": 173,
   "metadata": {
    "collapsed": false
   },
   "outputs": [
    {
     "data": {
      "text/plain": [
       "134.95834028720404"
      ]
     },
     "execution_count": 173,
     "metadata": {},
     "output_type": "execute_result"
    }
   ],
   "source": [
    "train_test_rmse(['DowJones','Gold','Oil'])"
   ]
  },
  {
   "cell_type": "code",
   "execution_count": 175,
   "metadata": {
    "collapsed": false
   },
   "outputs": [
    {
     "data": {
      "text/plain": [
       "122.58579624360968"
      ]
     },
     "execution_count": 175,
     "metadata": {},
     "output_type": "execute_result"
    }
   ],
   "source": [
    "train_test_rmse(['DowJones','Gold','USD/EUR'])"
   ]
  },
  {
   "cell_type": "code",
   "execution_count": 177,
   "metadata": {
    "collapsed": false
   },
   "outputs": [
    {
     "data": {
      "text/plain": [
       "127.726278744319"
      ]
     },
     "execution_count": 177,
     "metadata": {},
     "output_type": "execute_result"
    }
   ],
   "source": [
    "train_test_rmse(['DowJones','Oil','USD/EUR'])"
   ]
  },
  {
   "cell_type": "code",
   "execution_count": 179,
   "metadata": {
    "collapsed": false
   },
   "outputs": [
    {
     "data": {
      "text/plain": [
       "166.64809868351466"
      ]
     },
     "execution_count": 179,
     "metadata": {},
     "output_type": "execute_result"
    }
   ],
   "source": [
    "train_test_rmse(['Gold','Oil','USD/EUR'])"
   ]
  },
  {
   "cell_type": "code",
   "execution_count": 181,
   "metadata": {
    "collapsed": false
   },
   "outputs": [
    {
     "data": {
      "text/plain": [
       "164.19167413974367"
      ]
     },
     "execution_count": 181,
     "metadata": {},
     "output_type": "execute_result"
    }
   ],
   "source": [
    "train_test_rmse(['DowJones'])"
   ]
  },
  {
   "cell_type": "code",
   "execution_count": 183,
   "metadata": {
    "collapsed": false
   },
   "outputs": [
    {
     "data": {
      "text/plain": [
       "178.9223540486424"
      ]
     },
     "execution_count": 183,
     "metadata": {},
     "output_type": "execute_result"
    }
   ],
   "source": [
    "train_test_rmse(['Gold'])"
   ]
  },
  {
   "cell_type": "code",
   "execution_count": 185,
   "metadata": {
    "collapsed": false
   },
   "outputs": [
    {
     "data": {
      "text/plain": [
       "236.39748637742127"
      ]
     },
     "execution_count": 185,
     "metadata": {},
     "output_type": "execute_result"
    }
   ],
   "source": [
    "train_test_rmse(['Oil'])"
   ]
  },
  {
   "cell_type": "code",
   "execution_count": 187,
   "metadata": {
    "collapsed": false
   },
   "outputs": [
    {
     "data": {
      "text/plain": [
       "236.25413147969545"
      ]
     },
     "execution_count": 187,
     "metadata": {},
     "output_type": "execute_result"
    }
   ],
   "source": [
    "train_test_rmse(['USD/EUR'])"
   ]
  },
  {
   "cell_type": "code",
   "execution_count": 203,
   "metadata": {
    "collapsed": false
   },
   "outputs": [],
   "source": [
    "predict = 1025.15868376 + 0.089643522250961102*16492.68+(-0.22070477979166853)*1121.2+(-0.83926818182192087)*45.92+(-2274.8787487285526)*0.896582"
   ]
  },
  {
   "cell_type": "code",
   "execution_count": 204,
   "metadata": {
    "collapsed": false,
    "scrolled": true
   },
   "outputs": [
    {
     "data": {
      "text/plain": [
       "178.01187801375636"
      ]
     },
     "execution_count": 204,
     "metadata": {},
     "output_type": "execute_result"
    }
   ],
   "source": [
    "predict"
   ]
  },
  {
   "cell_type": "code",
   "execution_count": 202,
   "metadata": {
    "collapsed": false
   },
   "outputs": [
    {
     "data": {
      "text/html": [
       "<div>\n",
       "<table border=\"1\" class=\"dataframe\">\n",
       "  <thead>\n",
       "    <tr style=\"text-align: right;\">\n",
       "      <th></th>\n",
       "      <th>Date</th>\n",
       "      <th>DowJones</th>\n",
       "      <th>Gold</th>\n",
       "      <th>Oil</th>\n",
       "      <th>USD/EUR</th>\n",
       "      <th>BTC/USD</th>\n",
       "    </tr>\n",
       "  </thead>\n",
       "  <tbody>\n",
       "    <tr>\n",
       "      <th>0</th>\n",
       "      <td>2015-09-14</td>\n",
       "      <td>16370.96</td>\n",
       "      <td>1104.8</td>\n",
       "      <td>44.07</td>\n",
       "      <td>0.885510</td>\n",
       "      <td>230.79</td>\n",
       "    </tr>\n",
       "    <tr>\n",
       "      <th>1</th>\n",
       "      <td>2015-09-11</td>\n",
       "      <td>16433.09</td>\n",
       "      <td>1101.3</td>\n",
       "      <td>44.75</td>\n",
       "      <td>0.892335</td>\n",
       "      <td>241.55</td>\n",
       "    </tr>\n",
       "    <tr>\n",
       "      <th>2</th>\n",
       "      <td>2015-09-10</td>\n",
       "      <td>16330.40</td>\n",
       "      <td>1109.5</td>\n",
       "      <td>45.85</td>\n",
       "      <td>0.894684</td>\n",
       "      <td>239.98</td>\n",
       "    </tr>\n",
       "    <tr>\n",
       "      <th>3</th>\n",
       "      <td>2015-09-09</td>\n",
       "      <td>16253.57</td>\n",
       "      <td>1109.9</td>\n",
       "      <td>44.13</td>\n",
       "      <td>0.895212</td>\n",
       "      <td>242.45</td>\n",
       "    </tr>\n",
       "    <tr>\n",
       "      <th>4</th>\n",
       "      <td>2015-09-08</td>\n",
       "      <td>16492.68</td>\n",
       "      <td>1121.2</td>\n",
       "      <td>45.92</td>\n",
       "      <td>0.896582</td>\n",
       "      <td>243.76</td>\n",
       "    </tr>\n",
       "  </tbody>\n",
       "</table>\n",
       "</div>"
      ],
      "text/plain": [
       "        Date  DowJones    Gold    Oil   USD/EUR  BTC/USD\n",
       "0 2015-09-14  16370.96  1104.8  44.07  0.885510   230.79\n",
       "1 2015-09-11  16433.09  1101.3  44.75  0.892335   241.55\n",
       "2 2015-09-10  16330.40  1109.5  45.85  0.894684   239.98\n",
       "3 2015-09-09  16253.57  1109.9  44.13  0.895212   242.45\n",
       "4 2015-09-08  16492.68  1121.2  45.92  0.896582   243.76"
      ]
     },
     "execution_count": 202,
     "metadata": {},
     "output_type": "execute_result"
    }
   ],
   "source": [
    "Dataframe.head()"
   ]
  }
 ],
 "metadata": {
  "kernelspec": {
   "display_name": "Python 2",
   "language": "python",
   "name": "python2"
  },
  "language_info": {
   "codemirror_mode": {
    "name": "ipython",
    "version": 2
   },
   "file_extension": ".py",
   "mimetype": "text/x-python",
   "name": "python",
   "nbconvert_exporter": "python",
   "pygments_lexer": "ipython2",
   "version": "2.7.10"
  }
 },
 "nbformat": 4,
 "nbformat_minor": 0
}
