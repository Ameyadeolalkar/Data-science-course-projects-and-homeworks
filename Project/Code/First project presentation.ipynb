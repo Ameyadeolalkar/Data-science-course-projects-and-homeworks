{
 "cells": [
  {
   "cell_type": "code",
   "execution_count": 55,
   "metadata": {
    "collapsed": true
   },
   "outputs": [],
   "source": [
    "import pandas as pd"
   ]
  },
  {
   "cell_type": "code",
   "execution_count": 6,
   "metadata": {
    "collapsed": false
   },
   "outputs": [],
   "source": [
    "bitcoin_value = pd.read_csv('../csv_files/bitcoin_usd.csv',parse_dates=True)"
   ]
  },
  {
   "cell_type": "code",
   "execution_count": 8,
   "metadata": {
    "collapsed": false
   },
   "outputs": [
    {
     "data": {
      "text/html": [
       "<div>\n",
       "<table border=\"1\" class=\"dataframe\">\n",
       "  <thead>\n",
       "    <tr style=\"text-align: right;\">\n",
       "      <th></th>\n",
       "      <th>Date</th>\n",
       "      <th>24h Average</th>\n",
       "      <th>Ask</th>\n",
       "      <th>Bid</th>\n",
       "      <th>Last</th>\n",
       "      <th>Total Volume</th>\n",
       "    </tr>\n",
       "  </thead>\n",
       "  <tbody>\n",
       "    <tr>\n",
       "      <th>0</th>\n",
       "      <td>2015-09-20</td>\n",
       "      <td>233.09</td>\n",
       "      <td>231.80</td>\n",
       "      <td>231.64</td>\n",
       "      <td>231.68</td>\n",
       "      <td>40775.21</td>\n",
       "    </tr>\n",
       "    <tr>\n",
       "      <th>1</th>\n",
       "      <td>2015-09-19</td>\n",
       "      <td>233.97</td>\n",
       "      <td>233.30</td>\n",
       "      <td>233.21</td>\n",
       "      <td>233.31</td>\n",
       "      <td>39321.42</td>\n",
       "    </tr>\n",
       "    <tr>\n",
       "      <th>2</th>\n",
       "      <td>2015-09-18</td>\n",
       "      <td>234.65</td>\n",
       "      <td>234.92</td>\n",
       "      <td>234.60</td>\n",
       "      <td>234.89</td>\n",
       "      <td>57623.59</td>\n",
       "    </tr>\n",
       "    <tr>\n",
       "      <th>3</th>\n",
       "      <td>2015-09-17</td>\n",
       "      <td>231.82</td>\n",
       "      <td>234.41</td>\n",
       "      <td>234.31</td>\n",
       "      <td>234.37</td>\n",
       "      <td>61813.24</td>\n",
       "    </tr>\n",
       "    <tr>\n",
       "      <th>4</th>\n",
       "      <td>2015-09-16</td>\n",
       "      <td>230.64</td>\n",
       "      <td>229.81</td>\n",
       "      <td>229.58</td>\n",
       "      <td>229.67</td>\n",
       "      <td>60120.16</td>\n",
       "    </tr>\n",
       "  </tbody>\n",
       "</table>\n",
       "</div>"
      ],
      "text/plain": [
       "         Date  24h Average     Ask     Bid    Last  Total Volume\n",
       "0  2015-09-20       233.09  231.80  231.64  231.68      40775.21\n",
       "1  2015-09-19       233.97  233.30  233.21  233.31      39321.42\n",
       "2  2015-09-18       234.65  234.92  234.60  234.89      57623.59\n",
       "3  2015-09-17       231.82  234.41  234.31  234.37      61813.24\n",
       "4  2015-09-16       230.64  229.81  229.58  229.67      60120.16"
      ]
     },
     "execution_count": 8,
     "metadata": {},
     "output_type": "execute_result"
    }
   ],
   "source": [
    "bitcoin_value.head()"
   ]
  },
  {
   "cell_type": "code",
   "execution_count": 9,
   "metadata": {
    "collapsed": false
   },
   "outputs": [],
   "source": [
    "bitcoin_value.drop(['Ask','Bid','Last','Total Volume'],axis=1,inplace=True)"
   ]
  },
  {
   "cell_type": "code",
   "execution_count": 10,
   "metadata": {
    "collapsed": false
   },
   "outputs": [
    {
     "data": {
      "text/plain": [
       "(1871, 2)"
      ]
     },
     "execution_count": 10,
     "metadata": {},
     "output_type": "execute_result"
    }
   ],
   "source": [
    "bitcoin_value.shape"
   ]
  },
  {
   "cell_type": "code",
   "execution_count": 11,
   "metadata": {
    "collapsed": true
   },
   "outputs": [],
   "source": [
    "US_stock = pd.read_csv('../csv_files/US_stock.csv',parse_dates=True)"
   ]
  },
  {
   "cell_type": "code",
   "execution_count": 12,
   "metadata": {
    "collapsed": false
   },
   "outputs": [
    {
     "data": {
      "text/html": [
       "<div>\n",
       "<table border=\"1\" class=\"dataframe\">\n",
       "  <thead>\n",
       "    <tr style=\"text-align: right;\">\n",
       "      <th></th>\n",
       "      <th>Date</th>\n",
       "      <th>Value</th>\n",
       "    </tr>\n",
       "  </thead>\n",
       "  <tbody>\n",
       "    <tr>\n",
       "      <th>0</th>\n",
       "      <td>9/18/2015</td>\n",
       "      <td>16384.58</td>\n",
       "    </tr>\n",
       "    <tr>\n",
       "      <th>1</th>\n",
       "      <td>9/17/2015</td>\n",
       "      <td>16674.74</td>\n",
       "    </tr>\n",
       "    <tr>\n",
       "      <th>2</th>\n",
       "      <td>9/16/2015</td>\n",
       "      <td>16739.95</td>\n",
       "    </tr>\n",
       "    <tr>\n",
       "      <th>3</th>\n",
       "      <td>9/15/2015</td>\n",
       "      <td>16599.85</td>\n",
       "    </tr>\n",
       "    <tr>\n",
       "      <th>4</th>\n",
       "      <td>9/14/2015</td>\n",
       "      <td>16370.96</td>\n",
       "    </tr>\n",
       "  </tbody>\n",
       "</table>\n",
       "</div>"
      ],
      "text/plain": [
       "        Date     Value\n",
       "0  9/18/2015  16384.58\n",
       "1  9/17/2015  16674.74\n",
       "2  9/16/2015  16739.95\n",
       "3  9/15/2015  16599.85\n",
       "4  9/14/2015  16370.96"
      ]
     },
     "execution_count": 12,
     "metadata": {},
     "output_type": "execute_result"
    }
   ],
   "source": [
    "US_stock.head()"
   ]
  },
  {
   "cell_type": "code",
   "execution_count": 13,
   "metadata": {
    "collapsed": false
   },
   "outputs": [],
   "source": [
    "US_stock['Date'] = pd.to_datetime(US_stock['Date'])"
   ]
  },
  {
   "cell_type": "code",
   "execution_count": 14,
   "metadata": {
    "collapsed": false
   },
   "outputs": [
    {
     "data": {
      "text/html": [
       "<div>\n",
       "<table border=\"1\" class=\"dataframe\">\n",
       "  <thead>\n",
       "    <tr style=\"text-align: right;\">\n",
       "      <th></th>\n",
       "      <th>Date</th>\n",
       "      <th>Value</th>\n",
       "    </tr>\n",
       "  </thead>\n",
       "  <tbody>\n",
       "    <tr>\n",
       "      <th>0</th>\n",
       "      <td>2015-09-18</td>\n",
       "      <td>16384.58</td>\n",
       "    </tr>\n",
       "    <tr>\n",
       "      <th>1</th>\n",
       "      <td>2015-09-17</td>\n",
       "      <td>16674.74</td>\n",
       "    </tr>\n",
       "    <tr>\n",
       "      <th>2</th>\n",
       "      <td>2015-09-16</td>\n",
       "      <td>16739.95</td>\n",
       "    </tr>\n",
       "    <tr>\n",
       "      <th>3</th>\n",
       "      <td>2015-09-15</td>\n",
       "      <td>16599.85</td>\n",
       "    </tr>\n",
       "    <tr>\n",
       "      <th>4</th>\n",
       "      <td>2015-09-14</td>\n",
       "      <td>16370.96</td>\n",
       "    </tr>\n",
       "  </tbody>\n",
       "</table>\n",
       "</div>"
      ],
      "text/plain": [
       "        Date     Value\n",
       "0 2015-09-18  16384.58\n",
       "1 2015-09-17  16674.74\n",
       "2 2015-09-16  16739.95\n",
       "3 2015-09-15  16599.85\n",
       "4 2015-09-14  16370.96"
      ]
     },
     "execution_count": 14,
     "metadata": {},
     "output_type": "execute_result"
    }
   ],
   "source": [
    "US_stock.head()"
   ]
  },
  {
   "cell_type": "code",
   "execution_count": 15,
   "metadata": {
    "collapsed": true
   },
   "outputs": [],
   "source": [
    "gold = pd.read_csv('../csv_files/gold.csv')"
   ]
  },
  {
   "cell_type": "code",
   "execution_count": 16,
   "metadata": {
    "collapsed": false
   },
   "outputs": [],
   "source": [
    "gold['Date'] = pd.to_datetime(gold['Date'])"
   ]
  },
  {
   "cell_type": "code",
   "execution_count": 17,
   "metadata": {
    "collapsed": false
   },
   "outputs": [
    {
     "data": {
      "text/plain": [
       "Date     datetime64[ns]\n",
       "Value           float64\n",
       "dtype: object"
      ]
     },
     "execution_count": 17,
     "metadata": {},
     "output_type": "execute_result"
    }
   ],
   "source": [
    "gold.dtypes"
   ]
  },
  {
   "cell_type": "code",
   "execution_count": 18,
   "metadata": {
    "collapsed": false
   },
   "outputs": [
    {
     "data": {
      "text/html": [
       "<div>\n",
       "<table border=\"1\" class=\"dataframe\">\n",
       "  <thead>\n",
       "    <tr style=\"text-align: right;\">\n",
       "      <th></th>\n",
       "      <th>Date</th>\n",
       "      <th>Value</th>\n",
       "    </tr>\n",
       "  </thead>\n",
       "  <tbody>\n",
       "    <tr>\n",
       "      <th>0</th>\n",
       "      <td>2015-09-15</td>\n",
       "      <td>1106.0</td>\n",
       "    </tr>\n",
       "    <tr>\n",
       "      <th>1</th>\n",
       "      <td>2015-09-14</td>\n",
       "      <td>1104.8</td>\n",
       "    </tr>\n",
       "    <tr>\n",
       "      <th>2</th>\n",
       "      <td>2015-09-11</td>\n",
       "      <td>1101.3</td>\n",
       "    </tr>\n",
       "    <tr>\n",
       "      <th>3</th>\n",
       "      <td>2015-09-10</td>\n",
       "      <td>1109.5</td>\n",
       "    </tr>\n",
       "    <tr>\n",
       "      <th>4</th>\n",
       "      <td>2015-09-09</td>\n",
       "      <td>1109.9</td>\n",
       "    </tr>\n",
       "  </tbody>\n",
       "</table>\n",
       "</div>"
      ],
      "text/plain": [
       "        Date   Value\n",
       "0 2015-09-15  1106.0\n",
       "1 2015-09-14  1104.8\n",
       "2 2015-09-11  1101.3\n",
       "3 2015-09-10  1109.5\n",
       "4 2015-09-09  1109.9"
      ]
     },
     "execution_count": 18,
     "metadata": {},
     "output_type": "execute_result"
    }
   ],
   "source": [
    "gold.head()"
   ]
  },
  {
   "cell_type": "code",
   "execution_count": 56,
   "metadata": {
    "collapsed": true
   },
   "outputs": [],
   "source": [
    "oil = pd.read_csv('../csv_files/oil.csv')"
   ]
  },
  {
   "cell_type": "code",
   "execution_count": 57,
   "metadata": {
    "collapsed": false
   },
   "outputs": [
    {
     "ename": "ValueError",
     "evalue": "labels ['Open' 'High' 'Low' 'Volume' 'Open Interest'] not contained in axis",
     "output_type": "error",
     "traceback": [
      "\u001b[1;31m---------------------------------------------------------------------------\u001b[0m",
      "\u001b[1;31mValueError\u001b[0m                                Traceback (most recent call last)",
      "\u001b[1;32m<ipython-input-57-ba5fb4cb2606>\u001b[0m in \u001b[0;36m<module>\u001b[1;34m()\u001b[0m\n\u001b[1;32m----> 1\u001b[1;33m \u001b[0moil\u001b[0m\u001b[1;33m.\u001b[0m\u001b[0mdrop\u001b[0m\u001b[1;33m(\u001b[0m\u001b[1;33m[\u001b[0m\u001b[1;34m'Open'\u001b[0m\u001b[1;33m,\u001b[0m\u001b[1;34m'High'\u001b[0m\u001b[1;33m,\u001b[0m\u001b[1;34m'Low'\u001b[0m\u001b[1;33m,\u001b[0m\u001b[1;34m'Volume'\u001b[0m\u001b[1;33m,\u001b[0m\u001b[1;34m'Open Interest'\u001b[0m\u001b[1;33m]\u001b[0m\u001b[1;33m,\u001b[0m\u001b[0maxis\u001b[0m\u001b[1;33m=\u001b[0m\u001b[1;36m1\u001b[0m\u001b[1;33m,\u001b[0m\u001b[0minplace\u001b[0m\u001b[1;33m=\u001b[0m\u001b[0mTrue\u001b[0m\u001b[1;33m)\u001b[0m\u001b[1;33m\u001b[0m\u001b[0m\n\u001b[0m",
      "\u001b[1;32mc:\\Anaconda\\lib\\site-packages\\pandas\\core\\generic.pyc\u001b[0m in \u001b[0;36mdrop\u001b[1;34m(self, labels, axis, level, inplace, errors)\u001b[0m\n\u001b[0;32m   1595\u001b[0m                 \u001b[0mnew_axis\u001b[0m \u001b[1;33m=\u001b[0m \u001b[0maxis\u001b[0m\u001b[1;33m.\u001b[0m\u001b[0mdrop\u001b[0m\u001b[1;33m(\u001b[0m\u001b[0mlabels\u001b[0m\u001b[1;33m,\u001b[0m \u001b[0mlevel\u001b[0m\u001b[1;33m=\u001b[0m\u001b[0mlevel\u001b[0m\u001b[1;33m,\u001b[0m \u001b[0merrors\u001b[0m\u001b[1;33m=\u001b[0m\u001b[0merrors\u001b[0m\u001b[1;33m)\u001b[0m\u001b[1;33m\u001b[0m\u001b[0m\n\u001b[0;32m   1596\u001b[0m             \u001b[1;32melse\u001b[0m\u001b[1;33m:\u001b[0m\u001b[1;33m\u001b[0m\u001b[0m\n\u001b[1;32m-> 1597\u001b[1;33m                 \u001b[0mnew_axis\u001b[0m \u001b[1;33m=\u001b[0m \u001b[0maxis\u001b[0m\u001b[1;33m.\u001b[0m\u001b[0mdrop\u001b[0m\u001b[1;33m(\u001b[0m\u001b[0mlabels\u001b[0m\u001b[1;33m,\u001b[0m \u001b[0merrors\u001b[0m\u001b[1;33m=\u001b[0m\u001b[0merrors\u001b[0m\u001b[1;33m)\u001b[0m\u001b[1;33m\u001b[0m\u001b[0m\n\u001b[0m\u001b[0;32m   1598\u001b[0m             \u001b[0mdropped\u001b[0m \u001b[1;33m=\u001b[0m \u001b[0mself\u001b[0m\u001b[1;33m.\u001b[0m\u001b[0mreindex\u001b[0m\u001b[1;33m(\u001b[0m\u001b[1;33m**\u001b[0m\u001b[1;33m{\u001b[0m\u001b[0maxis_name\u001b[0m\u001b[1;33m:\u001b[0m \u001b[0mnew_axis\u001b[0m\u001b[1;33m}\u001b[0m\u001b[1;33m)\u001b[0m\u001b[1;33m\u001b[0m\u001b[0m\n\u001b[0;32m   1599\u001b[0m             \u001b[1;32mtry\u001b[0m\u001b[1;33m:\u001b[0m\u001b[1;33m\u001b[0m\u001b[0m\n",
      "\u001b[1;32mc:\\Anaconda\\lib\\site-packages\\pandas\\core\\index.pyc\u001b[0m in \u001b[0;36mdrop\u001b[1;34m(self, labels, errors)\u001b[0m\n\u001b[0;32m   2568\u001b[0m         \u001b[1;32mif\u001b[0m \u001b[0mmask\u001b[0m\u001b[1;33m.\u001b[0m\u001b[0many\u001b[0m\u001b[1;33m(\u001b[0m\u001b[1;33m)\u001b[0m\u001b[1;33m:\u001b[0m\u001b[1;33m\u001b[0m\u001b[0m\n\u001b[0;32m   2569\u001b[0m             \u001b[1;32mif\u001b[0m \u001b[0merrors\u001b[0m \u001b[1;33m!=\u001b[0m \u001b[1;34m'ignore'\u001b[0m\u001b[1;33m:\u001b[0m\u001b[1;33m\u001b[0m\u001b[0m\n\u001b[1;32m-> 2570\u001b[1;33m                 \u001b[1;32mraise\u001b[0m \u001b[0mValueError\u001b[0m\u001b[1;33m(\u001b[0m\u001b[1;34m'labels %s not contained in axis'\u001b[0m \u001b[1;33m%\u001b[0m \u001b[0mlabels\u001b[0m\u001b[1;33m[\u001b[0m\u001b[0mmask\u001b[0m\u001b[1;33m]\u001b[0m\u001b[1;33m)\u001b[0m\u001b[1;33m\u001b[0m\u001b[0m\n\u001b[0m\u001b[0;32m   2571\u001b[0m             \u001b[0mindexer\u001b[0m \u001b[1;33m=\u001b[0m \u001b[0mindexer\u001b[0m\u001b[1;33m[\u001b[0m\u001b[1;33m~\u001b[0m\u001b[0mmask\u001b[0m\u001b[1;33m]\u001b[0m\u001b[1;33m\u001b[0m\u001b[0m\n\u001b[0;32m   2572\u001b[0m         \u001b[1;32mreturn\u001b[0m \u001b[0mself\u001b[0m\u001b[1;33m.\u001b[0m\u001b[0mdelete\u001b[0m\u001b[1;33m(\u001b[0m\u001b[0mindexer\u001b[0m\u001b[1;33m)\u001b[0m\u001b[1;33m\u001b[0m\u001b[0m\n",
      "\u001b[1;31mValueError\u001b[0m: labels ['Open' 'High' 'Low' 'Volume' 'Open Interest'] not contained in axis"
     ]
    }
   ],
   "source": [
    "oil.drop(['Open','High','Low','Volume','Open Interest'],axis=1,inplace=True)"
   ]
  },
  {
   "cell_type": "code",
   "execution_count": 58,
   "metadata": {
    "collapsed": false
   },
   "outputs": [
    {
     "data": {
      "text/plain": [
       "Date      object\n",
       "Value    float64\n",
       "dtype: object"
      ]
     },
     "execution_count": 58,
     "metadata": {},
     "output_type": "execute_result"
    }
   ],
   "source": [
    "oil.dtypes"
   ]
  },
  {
   "cell_type": "code",
   "execution_count": 60,
   "metadata": {
    "collapsed": false
   },
   "outputs": [],
   "source": [
    "oil['Date'] = pd.to_datetime(oil['Date'])"
   ]
  },
  {
   "cell_type": "code",
   "execution_count": 61,
   "metadata": {
    "collapsed": false
   },
   "outputs": [
    {
     "data": {
      "text/plain": [
       "Date     datetime64[ns]\n",
       "Value           float64\n",
       "dtype: object"
      ]
     },
     "execution_count": 61,
     "metadata": {},
     "output_type": "execute_result"
    }
   ],
   "source": [
    "oil.dtypes"
   ]
  },
  {
   "cell_type": "code",
   "execution_count": 62,
   "metadata": {
    "collapsed": false
   },
   "outputs": [
    {
     "data": {
      "text/html": [
       "<div>\n",
       "<table border=\"1\" class=\"dataframe\">\n",
       "  <thead>\n",
       "    <tr style=\"text-align: right;\">\n",
       "      <th></th>\n",
       "      <th>Date</th>\n",
       "      <th>Value</th>\n",
       "    </tr>\n",
       "  </thead>\n",
       "  <tbody>\n",
       "    <tr>\n",
       "      <th>0</th>\n",
       "      <td>2015-09-14</td>\n",
       "      <td>44.07</td>\n",
       "    </tr>\n",
       "    <tr>\n",
       "      <th>1</th>\n",
       "      <td>2015-09-11</td>\n",
       "      <td>44.75</td>\n",
       "    </tr>\n",
       "    <tr>\n",
       "      <th>2</th>\n",
       "      <td>2015-09-10</td>\n",
       "      <td>45.85</td>\n",
       "    </tr>\n",
       "    <tr>\n",
       "      <th>3</th>\n",
       "      <td>2015-09-09</td>\n",
       "      <td>44.13</td>\n",
       "    </tr>\n",
       "    <tr>\n",
       "      <th>4</th>\n",
       "      <td>2015-09-08</td>\n",
       "      <td>45.92</td>\n",
       "    </tr>\n",
       "  </tbody>\n",
       "</table>\n",
       "</div>"
      ],
      "text/plain": [
       "        Date  Value\n",
       "0 2015-09-14  44.07\n",
       "1 2015-09-11  44.75\n",
       "2 2015-09-10  45.85\n",
       "3 2015-09-09  44.13\n",
       "4 2015-09-08  45.92"
      ]
     },
     "execution_count": 62,
     "metadata": {},
     "output_type": "execute_result"
    }
   ],
   "source": [
    "oil.head()"
   ]
  },
  {
   "cell_type": "code",
   "execution_count": 31,
   "metadata": {
    "collapsed": true
   },
   "outputs": [],
   "source": [
    "USD_eur = pd.read_csv('../csv_files/USD_EUR.csv')"
   ]
  },
  {
   "cell_type": "code",
   "execution_count": 32,
   "metadata": {
    "collapsed": false
   },
   "outputs": [
    {
     "data": {
      "text/html": [
       "<div>\n",
       "<table border=\"1\" class=\"dataframe\">\n",
       "  <thead>\n",
       "    <tr style=\"text-align: right;\">\n",
       "      <th></th>\n",
       "      <th>Date</th>\n",
       "      <th>Rate</th>\n",
       "      <th>High (est)</th>\n",
       "      <th>Low (est)</th>\n",
       "    </tr>\n",
       "  </thead>\n",
       "  <tbody>\n",
       "    <tr>\n",
       "      <th>0</th>\n",
       "      <td>2015-09-18</td>\n",
       "      <td>0.884720</td>\n",
       "      <td>0.89457</td>\n",
       "      <td>0.87498</td>\n",
       "    </tr>\n",
       "    <tr>\n",
       "      <th>1</th>\n",
       "      <td>2015-09-17</td>\n",
       "      <td>0.886165</td>\n",
       "      <td>0.89648</td>\n",
       "      <td>0.87597</td>\n",
       "    </tr>\n",
       "    <tr>\n",
       "      <th>2</th>\n",
       "      <td>2015-09-16</td>\n",
       "      <td>0.884096</td>\n",
       "      <td>0.89446</td>\n",
       "      <td>0.87385</td>\n",
       "    </tr>\n",
       "    <tr>\n",
       "      <th>3</th>\n",
       "      <td>2015-09-15</td>\n",
       "      <td>0.882447</td>\n",
       "      <td>0.89297</td>\n",
       "      <td>0.87205</td>\n",
       "    </tr>\n",
       "    <tr>\n",
       "      <th>4</th>\n",
       "      <td>2015-09-14</td>\n",
       "      <td>0.885510</td>\n",
       "      <td>0.00000</td>\n",
       "      <td>0.00000</td>\n",
       "    </tr>\n",
       "  </tbody>\n",
       "</table>\n",
       "</div>"
      ],
      "text/plain": [
       "         Date      Rate  High (est)  Low (est)\n",
       "0  2015-09-18  0.884720     0.89457    0.87498\n",
       "1  2015-09-17  0.886165     0.89648    0.87597\n",
       "2  2015-09-16  0.884096     0.89446    0.87385\n",
       "3  2015-09-15  0.882447     0.89297    0.87205\n",
       "4  2015-09-14  0.885510     0.00000    0.00000"
      ]
     },
     "execution_count": 32,
     "metadata": {},
     "output_type": "execute_result"
    }
   ],
   "source": [
    "USD_eur.head()"
   ]
  },
  {
   "cell_type": "code",
   "execution_count": 33,
   "metadata": {
    "collapsed": false
   },
   "outputs": [],
   "source": [
    "USD_eur.drop(['High (est)','Low (est)'],axis=1,inplace=True)"
   ]
  },
  {
   "cell_type": "code",
   "execution_count": 34,
   "metadata": {
    "collapsed": false
   },
   "outputs": [],
   "source": [
    "USD_eur['Date'] = pd.to_datetime(USD_eur['Date'])"
   ]
  },
  {
   "cell_type": "code",
   "execution_count": 35,
   "metadata": {
    "collapsed": false
   },
   "outputs": [
    {
     "data": {
      "text/plain": [
       "Date    datetime64[ns]\n",
       "Rate           float64\n",
       "dtype: object"
      ]
     },
     "execution_count": 35,
     "metadata": {},
     "output_type": "execute_result"
    }
   ],
   "source": [
    "USD_eur.dtypes"
   ]
  },
  {
   "cell_type": "code",
   "execution_count": 36,
   "metadata": {
    "collapsed": false
   },
   "outputs": [
    {
     "data": {
      "text/html": [
       "<div>\n",
       "<table border=\"1\" class=\"dataframe\">\n",
       "  <thead>\n",
       "    <tr style=\"text-align: right;\">\n",
       "      <th></th>\n",
       "      <th>Date</th>\n",
       "      <th>Rate</th>\n",
       "    </tr>\n",
       "  </thead>\n",
       "  <tbody>\n",
       "    <tr>\n",
       "      <th>0</th>\n",
       "      <td>2015-09-18</td>\n",
       "      <td>0.884720</td>\n",
       "    </tr>\n",
       "    <tr>\n",
       "      <th>1</th>\n",
       "      <td>2015-09-17</td>\n",
       "      <td>0.886165</td>\n",
       "    </tr>\n",
       "    <tr>\n",
       "      <th>2</th>\n",
       "      <td>2015-09-16</td>\n",
       "      <td>0.884096</td>\n",
       "    </tr>\n",
       "    <tr>\n",
       "      <th>3</th>\n",
       "      <td>2015-09-15</td>\n",
       "      <td>0.882447</td>\n",
       "    </tr>\n",
       "    <tr>\n",
       "      <th>4</th>\n",
       "      <td>2015-09-14</td>\n",
       "      <td>0.885510</td>\n",
       "    </tr>\n",
       "  </tbody>\n",
       "</table>\n",
       "</div>"
      ],
      "text/plain": [
       "        Date      Rate\n",
       "0 2015-09-18  0.884720\n",
       "1 2015-09-17  0.886165\n",
       "2 2015-09-16  0.884096\n",
       "3 2015-09-15  0.882447\n",
       "4 2015-09-14  0.885510"
      ]
     },
     "execution_count": 36,
     "metadata": {},
     "output_type": "execute_result"
    }
   ],
   "source": [
    "USD_eur.head()"
   ]
  },
  {
   "cell_type": "code",
   "execution_count": 37,
   "metadata": {
    "collapsed": false
   },
   "outputs": [],
   "source": [
    "bitcoin_value['Date']=pd.to_datetime(bitcoin_value['Date'])"
   ]
  },
  {
   "cell_type": "code",
   "execution_count": 38,
   "metadata": {
    "collapsed": false
   },
   "outputs": [
    {
     "data": {
      "text/plain": [
       "Date           datetime64[ns]\n",
       "24h Average           float64\n",
       "dtype: object"
      ]
     },
     "execution_count": 38,
     "metadata": {},
     "output_type": "execute_result"
    }
   ],
   "source": [
    "bitcoin_value.dtypes"
   ]
  },
  {
   "cell_type": "code",
   "execution_count": 63,
   "metadata": {
    "collapsed": false
   },
   "outputs": [],
   "source": [
    "Dataframe = US_stock.merge(gold,on='Date').merge(oil,on='Date').merge(USD_eur,on='Date').merge(bitcoin_value,on='Date')"
   ]
  },
  {
   "cell_type": "code",
   "execution_count": 65,
   "metadata": {
    "collapsed": false
   },
   "outputs": [],
   "source": [
    "Dataframe.columns = ['Date','DowJones','Gold','Oil','USD/EUR','BTC/USD']"
   ]
  },
  {
   "cell_type": "code",
   "execution_count": 66,
   "metadata": {
    "collapsed": false
   },
   "outputs": [
    {
     "data": {
      "text/html": [
       "<div>\n",
       "<table border=\"1\" class=\"dataframe\">\n",
       "  <thead>\n",
       "    <tr style=\"text-align: right;\">\n",
       "      <th></th>\n",
       "      <th>Date</th>\n",
       "      <th>DowJones</th>\n",
       "      <th>Gold</th>\n",
       "      <th>Oil</th>\n",
       "      <th>USD/EUR</th>\n",
       "      <th>BTC/USD</th>\n",
       "    </tr>\n",
       "  </thead>\n",
       "  <tbody>\n",
       "    <tr>\n",
       "      <th>0</th>\n",
       "      <td>2015-09-14</td>\n",
       "      <td>16370.96</td>\n",
       "      <td>1104.8</td>\n",
       "      <td>44.07</td>\n",
       "      <td>0.885510</td>\n",
       "      <td>230.79</td>\n",
       "    </tr>\n",
       "    <tr>\n",
       "      <th>1</th>\n",
       "      <td>2015-09-11</td>\n",
       "      <td>16433.09</td>\n",
       "      <td>1101.3</td>\n",
       "      <td>44.75</td>\n",
       "      <td>0.892335</td>\n",
       "      <td>241.55</td>\n",
       "    </tr>\n",
       "    <tr>\n",
       "      <th>2</th>\n",
       "      <td>2015-09-10</td>\n",
       "      <td>16330.40</td>\n",
       "      <td>1109.5</td>\n",
       "      <td>45.85</td>\n",
       "      <td>0.894684</td>\n",
       "      <td>239.98</td>\n",
       "    </tr>\n",
       "    <tr>\n",
       "      <th>3</th>\n",
       "      <td>2015-09-09</td>\n",
       "      <td>16253.57</td>\n",
       "      <td>1109.9</td>\n",
       "      <td>44.13</td>\n",
       "      <td>0.895212</td>\n",
       "      <td>242.45</td>\n",
       "    </tr>\n",
       "    <tr>\n",
       "      <th>4</th>\n",
       "      <td>2015-09-08</td>\n",
       "      <td>16492.68</td>\n",
       "      <td>1121.2</td>\n",
       "      <td>45.92</td>\n",
       "      <td>0.896582</td>\n",
       "      <td>243.76</td>\n",
       "    </tr>\n",
       "    <tr>\n",
       "      <th>5</th>\n",
       "      <td>2015-09-04</td>\n",
       "      <td>16102.38</td>\n",
       "      <td>1118.3</td>\n",
       "      <td>46.02</td>\n",
       "      <td>0.891554</td>\n",
       "      <td>231.24</td>\n",
       "    </tr>\n",
       "    <tr>\n",
       "      <th>6</th>\n",
       "      <td>2015-09-02</td>\n",
       "      <td>16351.38</td>\n",
       "      <td>1137.8</td>\n",
       "      <td>46.30</td>\n",
       "      <td>0.889085</td>\n",
       "      <td>229.00</td>\n",
       "    </tr>\n",
       "    <tr>\n",
       "      <th>7</th>\n",
       "      <td>2015-09-01</td>\n",
       "      <td>16058.35</td>\n",
       "      <td>1142.3</td>\n",
       "      <td>45.38</td>\n",
       "      <td>0.892457</td>\n",
       "      <td>230.32</td>\n",
       "    </tr>\n",
       "    <tr>\n",
       "      <th>8</th>\n",
       "      <td>2015-08-31</td>\n",
       "      <td>16528.03</td>\n",
       "      <td>1135.0</td>\n",
       "      <td>49.20</td>\n",
       "      <td>0.890937</td>\n",
       "      <td>229.95</td>\n",
       "    </tr>\n",
       "    <tr>\n",
       "      <th>9</th>\n",
       "      <td>2015-08-28</td>\n",
       "      <td>16643.01</td>\n",
       "      <td>1135.0</td>\n",
       "      <td>45.29</td>\n",
       "      <td>0.880789</td>\n",
       "      <td>228.39</td>\n",
       "    </tr>\n",
       "    <tr>\n",
       "      <th>10</th>\n",
       "      <td>2015-08-27</td>\n",
       "      <td>16654.77</td>\n",
       "      <td>1119.0</td>\n",
       "      <td>42.47</td>\n",
       "      <td>0.871649</td>\n",
       "      <td>227.05</td>\n",
       "    </tr>\n",
       "    <tr>\n",
       "      <th>11</th>\n",
       "      <td>2015-08-26</td>\n",
       "      <td>16285.51</td>\n",
       "      <td>1120.8</td>\n",
       "      <td>38.50</td>\n",
       "      <td>0.869089</td>\n",
       "      <td>225.87</td>\n",
       "    </tr>\n",
       "    <tr>\n",
       "      <th>12</th>\n",
       "      <td>2015-08-25</td>\n",
       "      <td>15666.44</td>\n",
       "      <td>1137.5</td>\n",
       "      <td>39.15</td>\n",
       "      <td>0.873058</td>\n",
       "      <td>214.30</td>\n",
       "    </tr>\n",
       "    <tr>\n",
       "      <th>13</th>\n",
       "      <td>2015-08-24</td>\n",
       "      <td>15871.35</td>\n",
       "      <td>1166.5</td>\n",
       "      <td>38.22</td>\n",
       "      <td>0.885160</td>\n",
       "      <td>221.77</td>\n",
       "    </tr>\n",
       "    <tr>\n",
       "      <th>14</th>\n",
       "      <td>2015-08-21</td>\n",
       "      <td>16459.75</td>\n",
       "      <td>1156.5</td>\n",
       "      <td>40.45</td>\n",
       "      <td>0.899494</td>\n",
       "      <td>235.11</td>\n",
       "    </tr>\n",
       "    <tr>\n",
       "      <th>15</th>\n",
       "      <td>2015-08-20</td>\n",
       "      <td>16990.69</td>\n",
       "      <td>1147.7</td>\n",
       "      <td>41.00</td>\n",
       "      <td>0.904523</td>\n",
       "      <td>232.79</td>\n",
       "    </tr>\n",
       "    <tr>\n",
       "      <th>16</th>\n",
       "      <td>2015-08-19</td>\n",
       "      <td>17348.73</td>\n",
       "      <td>1126.2</td>\n",
       "      <td>40.75</td>\n",
       "      <td>0.903321</td>\n",
       "      <td>233.92</td>\n",
       "    </tr>\n",
       "    <tr>\n",
       "      <th>17</th>\n",
       "      <td>2015-08-18</td>\n",
       "      <td>17511.34</td>\n",
       "      <td>1111.5</td>\n",
       "      <td>42.58</td>\n",
       "      <td>0.901009</td>\n",
       "      <td>256.83</td>\n",
       "    </tr>\n",
       "    <tr>\n",
       "      <th>18</th>\n",
       "      <td>2015-08-17</td>\n",
       "      <td>17545.18</td>\n",
       "      <td>1118.8</td>\n",
       "      <td>41.93</td>\n",
       "      <td>0.899345</td>\n",
       "      <td>258.90</td>\n",
       "    </tr>\n",
       "    <tr>\n",
       "      <th>19</th>\n",
       "      <td>2015-08-14</td>\n",
       "      <td>17477.40</td>\n",
       "      <td>1118.3</td>\n",
       "      <td>42.45</td>\n",
       "      <td>0.898714</td>\n",
       "      <td>266.20</td>\n",
       "    </tr>\n",
       "    <tr>\n",
       "      <th>20</th>\n",
       "      <td>2015-08-13</td>\n",
       "      <td>17408.25</td>\n",
       "      <td>1116.8</td>\n",
       "      <td>42.27</td>\n",
       "      <td>0.902663</td>\n",
       "      <td>266.37</td>\n",
       "    </tr>\n",
       "    <tr>\n",
       "      <th>21</th>\n",
       "      <td>2015-08-12</td>\n",
       "      <td>17402.51</td>\n",
       "      <td>1119.0</td>\n",
       "      <td>43.22</td>\n",
       "      <td>0.908725</td>\n",
       "      <td>269.27</td>\n",
       "    </tr>\n",
       "    <tr>\n",
       "      <th>22</th>\n",
       "      <td>2015-08-11</td>\n",
       "      <td>17402.84</td>\n",
       "      <td>1108.3</td>\n",
       "      <td>43.11</td>\n",
       "      <td>0.911531</td>\n",
       "      <td>267.19</td>\n",
       "    </tr>\n",
       "    <tr>\n",
       "      <th>23</th>\n",
       "      <td>2015-08-10</td>\n",
       "      <td>17615.17</td>\n",
       "      <td>1097.0</td>\n",
       "      <td>44.94</td>\n",
       "      <td>0.913698</td>\n",
       "      <td>265.75</td>\n",
       "    </tr>\n",
       "    <tr>\n",
       "      <th>24</th>\n",
       "      <td>2015-08-07</td>\n",
       "      <td>17373.38</td>\n",
       "      <td>1093.5</td>\n",
       "      <td>43.87</td>\n",
       "      <td>0.917664</td>\n",
       "      <td>280.43</td>\n",
       "    </tr>\n",
       "    <tr>\n",
       "      <th>25</th>\n",
       "      <td>2015-08-06</td>\n",
       "      <td>17419.75</td>\n",
       "      <td>1089.8</td>\n",
       "      <td>44.69</td>\n",
       "      <td>0.917086</td>\n",
       "      <td>281.92</td>\n",
       "    </tr>\n",
       "    <tr>\n",
       "      <th>26</th>\n",
       "      <td>2015-08-05</td>\n",
       "      <td>17540.47</td>\n",
       "      <td>1085.1</td>\n",
       "      <td>45.13</td>\n",
       "      <td>0.912728</td>\n",
       "      <td>284.89</td>\n",
       "    </tr>\n",
       "    <tr>\n",
       "      <th>27</th>\n",
       "      <td>2015-08-04</td>\n",
       "      <td>17550.69</td>\n",
       "      <td>1090.7</td>\n",
       "      <td>45.75</td>\n",
       "      <td>0.911237</td>\n",
       "      <td>285.37</td>\n",
       "    </tr>\n",
       "    <tr>\n",
       "      <th>28</th>\n",
       "      <td>2015-08-03</td>\n",
       "      <td>17598.20</td>\n",
       "      <td>1091.9</td>\n",
       "      <td>45.25</td>\n",
       "      <td>0.911383</td>\n",
       "      <td>283.85</td>\n",
       "    </tr>\n",
       "    <tr>\n",
       "      <th>29</th>\n",
       "      <td>2015-07-31</td>\n",
       "      <td>17689.86</td>\n",
       "      <td>1098.4</td>\n",
       "      <td>47.11</td>\n",
       "      <td>0.909951</td>\n",
       "      <td>286.77</td>\n",
       "    </tr>\n",
       "    <tr>\n",
       "      <th>...</th>\n",
       "      <td>...</td>\n",
       "      <td>...</td>\n",
       "      <td>...</td>\n",
       "      <td>...</td>\n",
       "      <td>...</td>\n",
       "      <td>...</td>\n",
       "    </tr>\n",
       "    <tr>\n",
       "      <th>1211</th>\n",
       "      <td>2010-10-26</td>\n",
       "      <td>11169.46</td>\n",
       "      <td>1329.5</td>\n",
       "      <td>82.60</td>\n",
       "      <td>0.714758</td>\n",
       "      <td>0.16</td>\n",
       "    </tr>\n",
       "    <tr>\n",
       "      <th>1212</th>\n",
       "      <td>2010-10-25</td>\n",
       "      <td>11164.05</td>\n",
       "      <td>1337.5</td>\n",
       "      <td>82.00</td>\n",
       "      <td>0.716276</td>\n",
       "      <td>0.15</td>\n",
       "    </tr>\n",
       "    <tr>\n",
       "      <th>1213</th>\n",
       "      <td>2010-10-22</td>\n",
       "      <td>11132.56</td>\n",
       "      <td>1322.5</td>\n",
       "      <td>81.15</td>\n",
       "      <td>0.717773</td>\n",
       "      <td>0.11</td>\n",
       "    </tr>\n",
       "    <tr>\n",
       "      <th>1214</th>\n",
       "      <td>2010-10-21</td>\n",
       "      <td>11146.57</td>\n",
       "      <td>1343.5</td>\n",
       "      <td>80.03</td>\n",
       "      <td>0.721377</td>\n",
       "      <td>0.10</td>\n",
       "    </tr>\n",
       "    <tr>\n",
       "      <th>1215</th>\n",
       "      <td>2010-10-20</td>\n",
       "      <td>11107.97</td>\n",
       "      <td>1339.0</td>\n",
       "      <td>81.93</td>\n",
       "      <td>0.720643</td>\n",
       "      <td>0.10</td>\n",
       "    </tr>\n",
       "    <tr>\n",
       "      <th>1216</th>\n",
       "      <td>2010-10-19</td>\n",
       "      <td>10978.62</td>\n",
       "      <td>1339.0</td>\n",
       "      <td>79.57</td>\n",
       "      <td>0.717131</td>\n",
       "      <td>0.10</td>\n",
       "    </tr>\n",
       "    <tr>\n",
       "      <th>1217</th>\n",
       "      <td>2010-10-18</td>\n",
       "      <td>11143.69</td>\n",
       "      <td>1367.3</td>\n",
       "      <td>83.06</td>\n",
       "      <td>0.713595</td>\n",
       "      <td>0.10</td>\n",
       "    </tr>\n",
       "    <tr>\n",
       "      <th>1218</th>\n",
       "      <td>2010-10-15</td>\n",
       "      <td>11062.78</td>\n",
       "      <td>1367.5</td>\n",
       "      <td>81.23</td>\n",
       "      <td>0.712515</td>\n",
       "      <td>0.10</td>\n",
       "    </tr>\n",
       "    <tr>\n",
       "      <th>1219</th>\n",
       "      <td>2010-10-14</td>\n",
       "      <td>11094.57</td>\n",
       "      <td>1373.3</td>\n",
       "      <td>82.71</td>\n",
       "      <td>0.718324</td>\n",
       "      <td>0.10</td>\n",
       "    </tr>\n",
       "    <tr>\n",
       "      <th>1220</th>\n",
       "      <td>2010-10-13</td>\n",
       "      <td>11096.08</td>\n",
       "      <td>1365.5</td>\n",
       "      <td>83.03</td>\n",
       "      <td>0.720673</td>\n",
       "      <td>0.10</td>\n",
       "    </tr>\n",
       "    <tr>\n",
       "      <th>1221</th>\n",
       "      <td>2010-10-12</td>\n",
       "      <td>11020.40</td>\n",
       "      <td>1348.5</td>\n",
       "      <td>81.67</td>\n",
       "      <td>0.717831</td>\n",
       "      <td>0.09</td>\n",
       "    </tr>\n",
       "    <tr>\n",
       "      <th>1222</th>\n",
       "      <td>2010-10-11</td>\n",
       "      <td>11010.34</td>\n",
       "      <td>1351.5</td>\n",
       "      <td>82.18</td>\n",
       "      <td>0.718448</td>\n",
       "      <td>0.10</td>\n",
       "    </tr>\n",
       "    <tr>\n",
       "      <th>1223</th>\n",
       "      <td>2010-10-08</td>\n",
       "      <td>11006.48</td>\n",
       "      <td>1341.5</td>\n",
       "      <td>82.66</td>\n",
       "      <td>0.718448</td>\n",
       "      <td>0.08</td>\n",
       "    </tr>\n",
       "    <tr>\n",
       "      <th>1224</th>\n",
       "      <td>2010-10-07</td>\n",
       "      <td>10948.58</td>\n",
       "      <td>1345.0</td>\n",
       "      <td>81.34</td>\n",
       "      <td>0.722590</td>\n",
       "      <td>0.06</td>\n",
       "    </tr>\n",
       "    <tr>\n",
       "      <th>1225</th>\n",
       "      <td>2010-10-06</td>\n",
       "      <td>10967.65</td>\n",
       "      <td>1346.5</td>\n",
       "      <td>83.21</td>\n",
       "      <td>0.727117</td>\n",
       "      <td>0.06</td>\n",
       "    </tr>\n",
       "    <tr>\n",
       "      <th>1226</th>\n",
       "      <td>2010-10-05</td>\n",
       "      <td>10944.72</td>\n",
       "      <td>1330.5</td>\n",
       "      <td>82.83</td>\n",
       "      <td>0.727741</td>\n",
       "      <td>0.06</td>\n",
       "    </tr>\n",
       "    <tr>\n",
       "      <th>1227</th>\n",
       "      <td>2010-10-04</td>\n",
       "      <td>10751.27</td>\n",
       "      <td>1313.5</td>\n",
       "      <td>81.43</td>\n",
       "      <td>0.728375</td>\n",
       "      <td>0.06</td>\n",
       "    </tr>\n",
       "    <tr>\n",
       "      <th>1228</th>\n",
       "      <td>2010-10-01</td>\n",
       "      <td>10829.68</td>\n",
       "      <td>1316.3</td>\n",
       "      <td>81.57</td>\n",
       "      <td>0.734307</td>\n",
       "      <td>0.06</td>\n",
       "    </tr>\n",
       "    <tr>\n",
       "      <th>1229</th>\n",
       "      <td>2010-09-30</td>\n",
       "      <td>10788.05</td>\n",
       "      <td>1307.0</td>\n",
       "      <td>79.95</td>\n",
       "      <td>0.737007</td>\n",
       "      <td>0.06</td>\n",
       "    </tr>\n",
       "    <tr>\n",
       "      <th>1230</th>\n",
       "      <td>2010-09-29</td>\n",
       "      <td>10835.28</td>\n",
       "      <td>1307.5</td>\n",
       "      <td>77.85</td>\n",
       "      <td>0.741514</td>\n",
       "      <td>0.06</td>\n",
       "    </tr>\n",
       "    <tr>\n",
       "      <th>1231</th>\n",
       "      <td>2010-09-28</td>\n",
       "      <td>10858.14</td>\n",
       "      <td>1294.0</td>\n",
       "      <td>76.15</td>\n",
       "      <td>0.742034</td>\n",
       "      <td>0.06</td>\n",
       "    </tr>\n",
       "    <tr>\n",
       "      <th>1232</th>\n",
       "      <td>2010-09-27</td>\n",
       "      <td>10812.04</td>\n",
       "      <td>1297.0</td>\n",
       "      <td>76.51</td>\n",
       "      <td>0.744105</td>\n",
       "      <td>0.06</td>\n",
       "    </tr>\n",
       "    <tr>\n",
       "      <th>1233</th>\n",
       "      <td>2010-09-24</td>\n",
       "      <td>10860.26</td>\n",
       "      <td>1297.0</td>\n",
       "      <td>74.63</td>\n",
       "      <td>0.748860</td>\n",
       "      <td>0.06</td>\n",
       "    </tr>\n",
       "    <tr>\n",
       "      <th>1234</th>\n",
       "      <td>2010-09-23</td>\n",
       "      <td>10662.42</td>\n",
       "      <td>1290.8</td>\n",
       "      <td>73.40</td>\n",
       "      <td>0.753126</td>\n",
       "      <td>0.06</td>\n",
       "    </tr>\n",
       "    <tr>\n",
       "      <th>1235</th>\n",
       "      <td>2010-09-22</td>\n",
       "      <td>10739.31</td>\n",
       "      <td>1293.5</td>\n",
       "      <td>72.98</td>\n",
       "      <td>0.762497</td>\n",
       "      <td>0.06</td>\n",
       "    </tr>\n",
       "    <tr>\n",
       "      <th>1236</th>\n",
       "      <td>2010-09-21</td>\n",
       "      <td>10761.03</td>\n",
       "      <td>1275.0</td>\n",
       "      <td>72.96</td>\n",
       "      <td>0.765285</td>\n",
       "      <td>0.06</td>\n",
       "    </tr>\n",
       "    <tr>\n",
       "      <th>1237</th>\n",
       "      <td>2010-09-20</td>\n",
       "      <td>10753.62</td>\n",
       "      <td>1279.3</td>\n",
       "      <td>74.81</td>\n",
       "      <td>0.766081</td>\n",
       "      <td>0.06</td>\n",
       "    </tr>\n",
       "    <tr>\n",
       "      <th>1238</th>\n",
       "      <td>2010-09-17</td>\n",
       "      <td>10607.85</td>\n",
       "      <td>1274.0</td>\n",
       "      <td>73.63</td>\n",
       "      <td>0.767298</td>\n",
       "      <td>0.06</td>\n",
       "    </tr>\n",
       "    <tr>\n",
       "      <th>1239</th>\n",
       "      <td>2010-09-16</td>\n",
       "      <td>10594.83</td>\n",
       "      <td>1272.5</td>\n",
       "      <td>74.58</td>\n",
       "      <td>0.771290</td>\n",
       "      <td>0.06</td>\n",
       "    </tr>\n",
       "    <tr>\n",
       "      <th>1240</th>\n",
       "      <td>2010-09-15</td>\n",
       "      <td>10572.73</td>\n",
       "      <td>1267.0</td>\n",
       "      <td>75.92</td>\n",
       "      <td>0.775948</td>\n",
       "      <td>0.06</td>\n",
       "    </tr>\n",
       "  </tbody>\n",
       "</table>\n",
       "<p>1241 rows × 6 columns</p>\n",
       "</div>"
      ],
      "text/plain": [
       "           Date  DowJones    Gold    Oil   USD/EUR  BTC/USD\n",
       "0    2015-09-14  16370.96  1104.8  44.07  0.885510   230.79\n",
       "1    2015-09-11  16433.09  1101.3  44.75  0.892335   241.55\n",
       "2    2015-09-10  16330.40  1109.5  45.85  0.894684   239.98\n",
       "3    2015-09-09  16253.57  1109.9  44.13  0.895212   242.45\n",
       "4    2015-09-08  16492.68  1121.2  45.92  0.896582   243.76\n",
       "5    2015-09-04  16102.38  1118.3  46.02  0.891554   231.24\n",
       "6    2015-09-02  16351.38  1137.8  46.30  0.889085   229.00\n",
       "7    2015-09-01  16058.35  1142.3  45.38  0.892457   230.32\n",
       "8    2015-08-31  16528.03  1135.0  49.20  0.890937   229.95\n",
       "9    2015-08-28  16643.01  1135.0  45.29  0.880789   228.39\n",
       "10   2015-08-27  16654.77  1119.0  42.47  0.871649   227.05\n",
       "11   2015-08-26  16285.51  1120.8  38.50  0.869089   225.87\n",
       "12   2015-08-25  15666.44  1137.5  39.15  0.873058   214.30\n",
       "13   2015-08-24  15871.35  1166.5  38.22  0.885160   221.77\n",
       "14   2015-08-21  16459.75  1156.5  40.45  0.899494   235.11\n",
       "15   2015-08-20  16990.69  1147.7  41.00  0.904523   232.79\n",
       "16   2015-08-19  17348.73  1126.2  40.75  0.903321   233.92\n",
       "17   2015-08-18  17511.34  1111.5  42.58  0.901009   256.83\n",
       "18   2015-08-17  17545.18  1118.8  41.93  0.899345   258.90\n",
       "19   2015-08-14  17477.40  1118.3  42.45  0.898714   266.20\n",
       "20   2015-08-13  17408.25  1116.8  42.27  0.902663   266.37\n",
       "21   2015-08-12  17402.51  1119.0  43.22  0.908725   269.27\n",
       "22   2015-08-11  17402.84  1108.3  43.11  0.911531   267.19\n",
       "23   2015-08-10  17615.17  1097.0  44.94  0.913698   265.75\n",
       "24   2015-08-07  17373.38  1093.5  43.87  0.917664   280.43\n",
       "25   2015-08-06  17419.75  1089.8  44.69  0.917086   281.92\n",
       "26   2015-08-05  17540.47  1085.1  45.13  0.912728   284.89\n",
       "27   2015-08-04  17550.69  1090.7  45.75  0.911237   285.37\n",
       "28   2015-08-03  17598.20  1091.9  45.25  0.911383   283.85\n",
       "29   2015-07-31  17689.86  1098.4  47.11  0.909951   286.77\n",
       "...         ...       ...     ...    ...       ...      ...\n",
       "1211 2010-10-26  11169.46  1329.5  82.60  0.714758     0.16\n",
       "1212 2010-10-25  11164.05  1337.5  82.00  0.716276     0.15\n",
       "1213 2010-10-22  11132.56  1322.5  81.15  0.717773     0.11\n",
       "1214 2010-10-21  11146.57  1343.5  80.03  0.721377     0.10\n",
       "1215 2010-10-20  11107.97  1339.0  81.93  0.720643     0.10\n",
       "1216 2010-10-19  10978.62  1339.0  79.57  0.717131     0.10\n",
       "1217 2010-10-18  11143.69  1367.3  83.06  0.713595     0.10\n",
       "1218 2010-10-15  11062.78  1367.5  81.23  0.712515     0.10\n",
       "1219 2010-10-14  11094.57  1373.3  82.71  0.718324     0.10\n",
       "1220 2010-10-13  11096.08  1365.5  83.03  0.720673     0.10\n",
       "1221 2010-10-12  11020.40  1348.5  81.67  0.717831     0.09\n",
       "1222 2010-10-11  11010.34  1351.5  82.18  0.718448     0.10\n",
       "1223 2010-10-08  11006.48  1341.5  82.66  0.718448     0.08\n",
       "1224 2010-10-07  10948.58  1345.0  81.34  0.722590     0.06\n",
       "1225 2010-10-06  10967.65  1346.5  83.21  0.727117     0.06\n",
       "1226 2010-10-05  10944.72  1330.5  82.83  0.727741     0.06\n",
       "1227 2010-10-04  10751.27  1313.5  81.43  0.728375     0.06\n",
       "1228 2010-10-01  10829.68  1316.3  81.57  0.734307     0.06\n",
       "1229 2010-09-30  10788.05  1307.0  79.95  0.737007     0.06\n",
       "1230 2010-09-29  10835.28  1307.5  77.85  0.741514     0.06\n",
       "1231 2010-09-28  10858.14  1294.0  76.15  0.742034     0.06\n",
       "1232 2010-09-27  10812.04  1297.0  76.51  0.744105     0.06\n",
       "1233 2010-09-24  10860.26  1297.0  74.63  0.748860     0.06\n",
       "1234 2010-09-23  10662.42  1290.8  73.40  0.753126     0.06\n",
       "1235 2010-09-22  10739.31  1293.5  72.98  0.762497     0.06\n",
       "1236 2010-09-21  10761.03  1275.0  72.96  0.765285     0.06\n",
       "1237 2010-09-20  10753.62  1279.3  74.81  0.766081     0.06\n",
       "1238 2010-09-17  10607.85  1274.0  73.63  0.767298     0.06\n",
       "1239 2010-09-16  10594.83  1272.5  74.58  0.771290     0.06\n",
       "1240 2010-09-15  10572.73  1267.0  75.92  0.775948     0.06\n",
       "\n",
       "[1241 rows x 6 columns]"
      ]
     },
     "execution_count": 66,
     "metadata": {},
     "output_type": "execute_result"
    }
   ],
   "source": [
    "Dataframe"
   ]
  },
  {
   "cell_type": "code",
   "execution_count": 42,
   "metadata": {
    "collapsed": false
   },
   "outputs": [
    {
     "data": {
      "text/html": [
       "<div>\n",
       "<table border=\"1\" class=\"dataframe\">\n",
       "  <thead>\n",
       "    <tr style=\"text-align: right;\">\n",
       "      <th></th>\n",
       "      <th>Date</th>\n",
       "      <th>DowJones</th>\n",
       "      <th>Gold</th>\n",
       "      <th>Oil</th>\n",
       "      <th>USD/EUR</th>\n",
       "      <th>BTC/USD</th>\n",
       "    </tr>\n",
       "  </thead>\n",
       "  <tbody>\n",
       "    <tr>\n",
       "      <th>0</th>\n",
       "      <td>2015-09-15</td>\n",
       "      <td>16599.85</td>\n",
       "      <td>1106.0</td>\n",
       "      <td>1.3329</td>\n",
       "      <td>0.882447</td>\n",
       "      <td>231.89</td>\n",
       "    </tr>\n",
       "    <tr>\n",
       "      <th>1</th>\n",
       "      <td>2015-09-14</td>\n",
       "      <td>16370.96</td>\n",
       "      <td>1104.8</td>\n",
       "      <td>1.3043</td>\n",
       "      <td>0.885510</td>\n",
       "      <td>230.79</td>\n",
       "    </tr>\n",
       "    <tr>\n",
       "      <th>2</th>\n",
       "      <td>2015-09-11</td>\n",
       "      <td>16433.09</td>\n",
       "      <td>1101.3</td>\n",
       "      <td>1.3699</td>\n",
       "      <td>0.892335</td>\n",
       "      <td>241.55</td>\n",
       "    </tr>\n",
       "  </tbody>\n",
       "</table>\n",
       "</div>"
      ],
      "text/plain": [
       "        Date  DowJones    Gold     Oil   USD/EUR  BTC/USD\n",
       "0 2015-09-15  16599.85  1106.0  1.3329  0.882447   231.89\n",
       "1 2015-09-14  16370.96  1104.8  1.3043  0.885510   230.79\n",
       "2 2015-09-11  16433.09  1101.3  1.3699  0.892335   241.55"
      ]
     },
     "execution_count": 42,
     "metadata": {},
     "output_type": "execute_result"
    }
   ],
   "source": [
    "Dataframe.head(3)"
   ]
  },
  {
   "cell_type": "code",
   "execution_count": 84,
   "metadata": {
    "collapsed": true
   },
   "outputs": [],
   "source": [
    "feature_cols = ['DowJones','Gold','Oil','USD/EUR']"
   ]
  },
  {
   "cell_type": "code",
   "execution_count": 85,
   "metadata": {
    "collapsed": true
   },
   "outputs": [],
   "source": [
    "X = Dataframe[feature_cols]"
   ]
  },
  {
   "cell_type": "code",
   "execution_count": 86,
   "metadata": {
    "collapsed": false
   },
   "outputs": [
    {
     "data": {
      "text/html": [
       "<div>\n",
       "<table border=\"1\" class=\"dataframe\">\n",
       "  <thead>\n",
       "    <tr style=\"text-align: right;\">\n",
       "      <th></th>\n",
       "      <th>DowJones</th>\n",
       "      <th>Gold</th>\n",
       "      <th>Oil</th>\n",
       "      <th>USD/EUR</th>\n",
       "    </tr>\n",
       "  </thead>\n",
       "  <tbody>\n",
       "    <tr>\n",
       "      <th>0</th>\n",
       "      <td>16370.96</td>\n",
       "      <td>1104.8</td>\n",
       "      <td>44.07</td>\n",
       "      <td>0.885510</td>\n",
       "    </tr>\n",
       "    <tr>\n",
       "      <th>1</th>\n",
       "      <td>16433.09</td>\n",
       "      <td>1101.3</td>\n",
       "      <td>44.75</td>\n",
       "      <td>0.892335</td>\n",
       "    </tr>\n",
       "    <tr>\n",
       "      <th>2</th>\n",
       "      <td>16330.40</td>\n",
       "      <td>1109.5</td>\n",
       "      <td>45.85</td>\n",
       "      <td>0.894684</td>\n",
       "    </tr>\n",
       "    <tr>\n",
       "      <th>3</th>\n",
       "      <td>16253.57</td>\n",
       "      <td>1109.9</td>\n",
       "      <td>44.13</td>\n",
       "      <td>0.895212</td>\n",
       "    </tr>\n",
       "    <tr>\n",
       "      <th>4</th>\n",
       "      <td>16492.68</td>\n",
       "      <td>1121.2</td>\n",
       "      <td>45.92</td>\n",
       "      <td>0.896582</td>\n",
       "    </tr>\n",
       "    <tr>\n",
       "      <th>5</th>\n",
       "      <td>16102.38</td>\n",
       "      <td>1118.3</td>\n",
       "      <td>46.02</td>\n",
       "      <td>0.891554</td>\n",
       "    </tr>\n",
       "    <tr>\n",
       "      <th>6</th>\n",
       "      <td>16351.38</td>\n",
       "      <td>1137.8</td>\n",
       "      <td>46.30</td>\n",
       "      <td>0.889085</td>\n",
       "    </tr>\n",
       "    <tr>\n",
       "      <th>7</th>\n",
       "      <td>16058.35</td>\n",
       "      <td>1142.3</td>\n",
       "      <td>45.38</td>\n",
       "      <td>0.892457</td>\n",
       "    </tr>\n",
       "    <tr>\n",
       "      <th>8</th>\n",
       "      <td>16528.03</td>\n",
       "      <td>1135.0</td>\n",
       "      <td>49.20</td>\n",
       "      <td>0.890937</td>\n",
       "    </tr>\n",
       "    <tr>\n",
       "      <th>9</th>\n",
       "      <td>16643.01</td>\n",
       "      <td>1135.0</td>\n",
       "      <td>45.29</td>\n",
       "      <td>0.880789</td>\n",
       "    </tr>\n",
       "    <tr>\n",
       "      <th>10</th>\n",
       "      <td>16654.77</td>\n",
       "      <td>1119.0</td>\n",
       "      <td>42.47</td>\n",
       "      <td>0.871649</td>\n",
       "    </tr>\n",
       "    <tr>\n",
       "      <th>11</th>\n",
       "      <td>16285.51</td>\n",
       "      <td>1120.8</td>\n",
       "      <td>38.50</td>\n",
       "      <td>0.869089</td>\n",
       "    </tr>\n",
       "    <tr>\n",
       "      <th>12</th>\n",
       "      <td>15666.44</td>\n",
       "      <td>1137.5</td>\n",
       "      <td>39.15</td>\n",
       "      <td>0.873058</td>\n",
       "    </tr>\n",
       "    <tr>\n",
       "      <th>13</th>\n",
       "      <td>15871.35</td>\n",
       "      <td>1166.5</td>\n",
       "      <td>38.22</td>\n",
       "      <td>0.885160</td>\n",
       "    </tr>\n",
       "    <tr>\n",
       "      <th>14</th>\n",
       "      <td>16459.75</td>\n",
       "      <td>1156.5</td>\n",
       "      <td>40.45</td>\n",
       "      <td>0.899494</td>\n",
       "    </tr>\n",
       "    <tr>\n",
       "      <th>15</th>\n",
       "      <td>16990.69</td>\n",
       "      <td>1147.7</td>\n",
       "      <td>41.00</td>\n",
       "      <td>0.904523</td>\n",
       "    </tr>\n",
       "    <tr>\n",
       "      <th>16</th>\n",
       "      <td>17348.73</td>\n",
       "      <td>1126.2</td>\n",
       "      <td>40.75</td>\n",
       "      <td>0.903321</td>\n",
       "    </tr>\n",
       "    <tr>\n",
       "      <th>17</th>\n",
       "      <td>17511.34</td>\n",
       "      <td>1111.5</td>\n",
       "      <td>42.58</td>\n",
       "      <td>0.901009</td>\n",
       "    </tr>\n",
       "    <tr>\n",
       "      <th>18</th>\n",
       "      <td>17545.18</td>\n",
       "      <td>1118.8</td>\n",
       "      <td>41.93</td>\n",
       "      <td>0.899345</td>\n",
       "    </tr>\n",
       "    <tr>\n",
       "      <th>19</th>\n",
       "      <td>17477.40</td>\n",
       "      <td>1118.3</td>\n",
       "      <td>42.45</td>\n",
       "      <td>0.898714</td>\n",
       "    </tr>\n",
       "    <tr>\n",
       "      <th>20</th>\n",
       "      <td>17408.25</td>\n",
       "      <td>1116.8</td>\n",
       "      <td>42.27</td>\n",
       "      <td>0.902663</td>\n",
       "    </tr>\n",
       "    <tr>\n",
       "      <th>21</th>\n",
       "      <td>17402.51</td>\n",
       "      <td>1119.0</td>\n",
       "      <td>43.22</td>\n",
       "      <td>0.908725</td>\n",
       "    </tr>\n",
       "    <tr>\n",
       "      <th>22</th>\n",
       "      <td>17402.84</td>\n",
       "      <td>1108.3</td>\n",
       "      <td>43.11</td>\n",
       "      <td>0.911531</td>\n",
       "    </tr>\n",
       "    <tr>\n",
       "      <th>23</th>\n",
       "      <td>17615.17</td>\n",
       "      <td>1097.0</td>\n",
       "      <td>44.94</td>\n",
       "      <td>0.913698</td>\n",
       "    </tr>\n",
       "    <tr>\n",
       "      <th>24</th>\n",
       "      <td>17373.38</td>\n",
       "      <td>1093.5</td>\n",
       "      <td>43.87</td>\n",
       "      <td>0.917664</td>\n",
       "    </tr>\n",
       "    <tr>\n",
       "      <th>25</th>\n",
       "      <td>17419.75</td>\n",
       "      <td>1089.8</td>\n",
       "      <td>44.69</td>\n",
       "      <td>0.917086</td>\n",
       "    </tr>\n",
       "    <tr>\n",
       "      <th>26</th>\n",
       "      <td>17540.47</td>\n",
       "      <td>1085.1</td>\n",
       "      <td>45.13</td>\n",
       "      <td>0.912728</td>\n",
       "    </tr>\n",
       "    <tr>\n",
       "      <th>27</th>\n",
       "      <td>17550.69</td>\n",
       "      <td>1090.7</td>\n",
       "      <td>45.75</td>\n",
       "      <td>0.911237</td>\n",
       "    </tr>\n",
       "    <tr>\n",
       "      <th>28</th>\n",
       "      <td>17598.20</td>\n",
       "      <td>1091.9</td>\n",
       "      <td>45.25</td>\n",
       "      <td>0.911383</td>\n",
       "    </tr>\n",
       "    <tr>\n",
       "      <th>29</th>\n",
       "      <td>17689.86</td>\n",
       "      <td>1098.4</td>\n",
       "      <td>47.11</td>\n",
       "      <td>0.909951</td>\n",
       "    </tr>\n",
       "    <tr>\n",
       "      <th>...</th>\n",
       "      <td>...</td>\n",
       "      <td>...</td>\n",
       "      <td>...</td>\n",
       "      <td>...</td>\n",
       "    </tr>\n",
       "    <tr>\n",
       "      <th>1211</th>\n",
       "      <td>11169.46</td>\n",
       "      <td>1329.5</td>\n",
       "      <td>82.60</td>\n",
       "      <td>0.714758</td>\n",
       "    </tr>\n",
       "    <tr>\n",
       "      <th>1212</th>\n",
       "      <td>11164.05</td>\n",
       "      <td>1337.5</td>\n",
       "      <td>82.00</td>\n",
       "      <td>0.716276</td>\n",
       "    </tr>\n",
       "    <tr>\n",
       "      <th>1213</th>\n",
       "      <td>11132.56</td>\n",
       "      <td>1322.5</td>\n",
       "      <td>81.15</td>\n",
       "      <td>0.717773</td>\n",
       "    </tr>\n",
       "    <tr>\n",
       "      <th>1214</th>\n",
       "      <td>11146.57</td>\n",
       "      <td>1343.5</td>\n",
       "      <td>80.03</td>\n",
       "      <td>0.721377</td>\n",
       "    </tr>\n",
       "    <tr>\n",
       "      <th>1215</th>\n",
       "      <td>11107.97</td>\n",
       "      <td>1339.0</td>\n",
       "      <td>81.93</td>\n",
       "      <td>0.720643</td>\n",
       "    </tr>\n",
       "    <tr>\n",
       "      <th>1216</th>\n",
       "      <td>10978.62</td>\n",
       "      <td>1339.0</td>\n",
       "      <td>79.57</td>\n",
       "      <td>0.717131</td>\n",
       "    </tr>\n",
       "    <tr>\n",
       "      <th>1217</th>\n",
       "      <td>11143.69</td>\n",
       "      <td>1367.3</td>\n",
       "      <td>83.06</td>\n",
       "      <td>0.713595</td>\n",
       "    </tr>\n",
       "    <tr>\n",
       "      <th>1218</th>\n",
       "      <td>11062.78</td>\n",
       "      <td>1367.5</td>\n",
       "      <td>81.23</td>\n",
       "      <td>0.712515</td>\n",
       "    </tr>\n",
       "    <tr>\n",
       "      <th>1219</th>\n",
       "      <td>11094.57</td>\n",
       "      <td>1373.3</td>\n",
       "      <td>82.71</td>\n",
       "      <td>0.718324</td>\n",
       "    </tr>\n",
       "    <tr>\n",
       "      <th>1220</th>\n",
       "      <td>11096.08</td>\n",
       "      <td>1365.5</td>\n",
       "      <td>83.03</td>\n",
       "      <td>0.720673</td>\n",
       "    </tr>\n",
       "    <tr>\n",
       "      <th>1221</th>\n",
       "      <td>11020.40</td>\n",
       "      <td>1348.5</td>\n",
       "      <td>81.67</td>\n",
       "      <td>0.717831</td>\n",
       "    </tr>\n",
       "    <tr>\n",
       "      <th>1222</th>\n",
       "      <td>11010.34</td>\n",
       "      <td>1351.5</td>\n",
       "      <td>82.18</td>\n",
       "      <td>0.718448</td>\n",
       "    </tr>\n",
       "    <tr>\n",
       "      <th>1223</th>\n",
       "      <td>11006.48</td>\n",
       "      <td>1341.5</td>\n",
       "      <td>82.66</td>\n",
       "      <td>0.718448</td>\n",
       "    </tr>\n",
       "    <tr>\n",
       "      <th>1224</th>\n",
       "      <td>10948.58</td>\n",
       "      <td>1345.0</td>\n",
       "      <td>81.34</td>\n",
       "      <td>0.722590</td>\n",
       "    </tr>\n",
       "    <tr>\n",
       "      <th>1225</th>\n",
       "      <td>10967.65</td>\n",
       "      <td>1346.5</td>\n",
       "      <td>83.21</td>\n",
       "      <td>0.727117</td>\n",
       "    </tr>\n",
       "    <tr>\n",
       "      <th>1226</th>\n",
       "      <td>10944.72</td>\n",
       "      <td>1330.5</td>\n",
       "      <td>82.83</td>\n",
       "      <td>0.727741</td>\n",
       "    </tr>\n",
       "    <tr>\n",
       "      <th>1227</th>\n",
       "      <td>10751.27</td>\n",
       "      <td>1313.5</td>\n",
       "      <td>81.43</td>\n",
       "      <td>0.728375</td>\n",
       "    </tr>\n",
       "    <tr>\n",
       "      <th>1228</th>\n",
       "      <td>10829.68</td>\n",
       "      <td>1316.3</td>\n",
       "      <td>81.57</td>\n",
       "      <td>0.734307</td>\n",
       "    </tr>\n",
       "    <tr>\n",
       "      <th>1229</th>\n",
       "      <td>10788.05</td>\n",
       "      <td>1307.0</td>\n",
       "      <td>79.95</td>\n",
       "      <td>0.737007</td>\n",
       "    </tr>\n",
       "    <tr>\n",
       "      <th>1230</th>\n",
       "      <td>10835.28</td>\n",
       "      <td>1307.5</td>\n",
       "      <td>77.85</td>\n",
       "      <td>0.741514</td>\n",
       "    </tr>\n",
       "    <tr>\n",
       "      <th>1231</th>\n",
       "      <td>10858.14</td>\n",
       "      <td>1294.0</td>\n",
       "      <td>76.15</td>\n",
       "      <td>0.742034</td>\n",
       "    </tr>\n",
       "    <tr>\n",
       "      <th>1232</th>\n",
       "      <td>10812.04</td>\n",
       "      <td>1297.0</td>\n",
       "      <td>76.51</td>\n",
       "      <td>0.744105</td>\n",
       "    </tr>\n",
       "    <tr>\n",
       "      <th>1233</th>\n",
       "      <td>10860.26</td>\n",
       "      <td>1297.0</td>\n",
       "      <td>74.63</td>\n",
       "      <td>0.748860</td>\n",
       "    </tr>\n",
       "    <tr>\n",
       "      <th>1234</th>\n",
       "      <td>10662.42</td>\n",
       "      <td>1290.8</td>\n",
       "      <td>73.40</td>\n",
       "      <td>0.753126</td>\n",
       "    </tr>\n",
       "    <tr>\n",
       "      <th>1235</th>\n",
       "      <td>10739.31</td>\n",
       "      <td>1293.5</td>\n",
       "      <td>72.98</td>\n",
       "      <td>0.762497</td>\n",
       "    </tr>\n",
       "    <tr>\n",
       "      <th>1236</th>\n",
       "      <td>10761.03</td>\n",
       "      <td>1275.0</td>\n",
       "      <td>72.96</td>\n",
       "      <td>0.765285</td>\n",
       "    </tr>\n",
       "    <tr>\n",
       "      <th>1237</th>\n",
       "      <td>10753.62</td>\n",
       "      <td>1279.3</td>\n",
       "      <td>74.81</td>\n",
       "      <td>0.766081</td>\n",
       "    </tr>\n",
       "    <tr>\n",
       "      <th>1238</th>\n",
       "      <td>10607.85</td>\n",
       "      <td>1274.0</td>\n",
       "      <td>73.63</td>\n",
       "      <td>0.767298</td>\n",
       "    </tr>\n",
       "    <tr>\n",
       "      <th>1239</th>\n",
       "      <td>10594.83</td>\n",
       "      <td>1272.5</td>\n",
       "      <td>74.58</td>\n",
       "      <td>0.771290</td>\n",
       "    </tr>\n",
       "    <tr>\n",
       "      <th>1240</th>\n",
       "      <td>10572.73</td>\n",
       "      <td>1267.0</td>\n",
       "      <td>75.92</td>\n",
       "      <td>0.775948</td>\n",
       "    </tr>\n",
       "  </tbody>\n",
       "</table>\n",
       "<p>1241 rows × 4 columns</p>\n",
       "</div>"
      ],
      "text/plain": [
       "      DowJones    Gold    Oil   USD/EUR\n",
       "0     16370.96  1104.8  44.07  0.885510\n",
       "1     16433.09  1101.3  44.75  0.892335\n",
       "2     16330.40  1109.5  45.85  0.894684\n",
       "3     16253.57  1109.9  44.13  0.895212\n",
       "4     16492.68  1121.2  45.92  0.896582\n",
       "5     16102.38  1118.3  46.02  0.891554\n",
       "6     16351.38  1137.8  46.30  0.889085\n",
       "7     16058.35  1142.3  45.38  0.892457\n",
       "8     16528.03  1135.0  49.20  0.890937\n",
       "9     16643.01  1135.0  45.29  0.880789\n",
       "10    16654.77  1119.0  42.47  0.871649\n",
       "11    16285.51  1120.8  38.50  0.869089\n",
       "12    15666.44  1137.5  39.15  0.873058\n",
       "13    15871.35  1166.5  38.22  0.885160\n",
       "14    16459.75  1156.5  40.45  0.899494\n",
       "15    16990.69  1147.7  41.00  0.904523\n",
       "16    17348.73  1126.2  40.75  0.903321\n",
       "17    17511.34  1111.5  42.58  0.901009\n",
       "18    17545.18  1118.8  41.93  0.899345\n",
       "19    17477.40  1118.3  42.45  0.898714\n",
       "20    17408.25  1116.8  42.27  0.902663\n",
       "21    17402.51  1119.0  43.22  0.908725\n",
       "22    17402.84  1108.3  43.11  0.911531\n",
       "23    17615.17  1097.0  44.94  0.913698\n",
       "24    17373.38  1093.5  43.87  0.917664\n",
       "25    17419.75  1089.8  44.69  0.917086\n",
       "26    17540.47  1085.1  45.13  0.912728\n",
       "27    17550.69  1090.7  45.75  0.911237\n",
       "28    17598.20  1091.9  45.25  0.911383\n",
       "29    17689.86  1098.4  47.11  0.909951\n",
       "...        ...     ...    ...       ...\n",
       "1211  11169.46  1329.5  82.60  0.714758\n",
       "1212  11164.05  1337.5  82.00  0.716276\n",
       "1213  11132.56  1322.5  81.15  0.717773\n",
       "1214  11146.57  1343.5  80.03  0.721377\n",
       "1215  11107.97  1339.0  81.93  0.720643\n",
       "1216  10978.62  1339.0  79.57  0.717131\n",
       "1217  11143.69  1367.3  83.06  0.713595\n",
       "1218  11062.78  1367.5  81.23  0.712515\n",
       "1219  11094.57  1373.3  82.71  0.718324\n",
       "1220  11096.08  1365.5  83.03  0.720673\n",
       "1221  11020.40  1348.5  81.67  0.717831\n",
       "1222  11010.34  1351.5  82.18  0.718448\n",
       "1223  11006.48  1341.5  82.66  0.718448\n",
       "1224  10948.58  1345.0  81.34  0.722590\n",
       "1225  10967.65  1346.5  83.21  0.727117\n",
       "1226  10944.72  1330.5  82.83  0.727741\n",
       "1227  10751.27  1313.5  81.43  0.728375\n",
       "1228  10829.68  1316.3  81.57  0.734307\n",
       "1229  10788.05  1307.0  79.95  0.737007\n",
       "1230  10835.28  1307.5  77.85  0.741514\n",
       "1231  10858.14  1294.0  76.15  0.742034\n",
       "1232  10812.04  1297.0  76.51  0.744105\n",
       "1233  10860.26  1297.0  74.63  0.748860\n",
       "1234  10662.42  1290.8  73.40  0.753126\n",
       "1235  10739.31  1293.5  72.98  0.762497\n",
       "1236  10761.03  1275.0  72.96  0.765285\n",
       "1237  10753.62  1279.3  74.81  0.766081\n",
       "1238  10607.85  1274.0  73.63  0.767298\n",
       "1239  10594.83  1272.5  74.58  0.771290\n",
       "1240  10572.73  1267.0  75.92  0.775948\n",
       "\n",
       "[1241 rows x 4 columns]"
      ]
     },
     "execution_count": 86,
     "metadata": {},
     "output_type": "execute_result"
    }
   ],
   "source": [
    "X"
   ]
  },
  {
   "cell_type": "code",
   "execution_count": 70,
   "metadata": {
    "collapsed": false
   },
   "outputs": [],
   "source": [
    "y = Dataframe['BTC/USD']"
   ]
  },
  {
   "cell_type": "code",
   "execution_count": 71,
   "metadata": {
    "collapsed": false
   },
   "outputs": [
    {
     "data": {
      "text/plain": [
       "(1241L,)"
      ]
     },
     "execution_count": 71,
     "metadata": {},
     "output_type": "execute_result"
    }
   ],
   "source": [
    "y.shape"
   ]
  },
  {
   "cell_type": "code",
   "execution_count": 72,
   "metadata": {
    "collapsed": false
   },
   "outputs": [
    {
     "data": {
      "text/plain": [
       "(1241, 5)"
      ]
     },
     "execution_count": 72,
     "metadata": {},
     "output_type": "execute_result"
    }
   ],
   "source": [
    "X.shape"
   ]
  },
  {
   "cell_type": "code",
   "execution_count": 73,
   "metadata": {
    "collapsed": true
   },
   "outputs": [],
   "source": [
    "from sklearn.cross_validation import train_test_split"
   ]
  },
  {
   "cell_type": "code",
   "execution_count": 74,
   "metadata": {
    "collapsed": false
   },
   "outputs": [],
   "source": [
    "X_train,X_test,y_train,y_test=train_test_split(X,y,random_state=123)"
   ]
  },
  {
   "cell_type": "code",
   "execution_count": 75,
   "metadata": {
    "collapsed": false
   },
   "outputs": [
    {
     "data": {
      "text/plain": [
       "(311L,)"
      ]
     },
     "execution_count": 75,
     "metadata": {},
     "output_type": "execute_result"
    }
   ],
   "source": [
    "y_test.shape"
   ]
  },
  {
   "cell_type": "code",
   "execution_count": 76,
   "metadata": {
    "collapsed": false
   },
   "outputs": [
    {
     "data": {
      "text/plain": [
       "(311, 5)"
      ]
     },
     "execution_count": 76,
     "metadata": {},
     "output_type": "execute_result"
    }
   ],
   "source": [
    "X_test.shape"
   ]
  },
  {
   "cell_type": "code",
   "execution_count": 77,
   "metadata": {
    "collapsed": false
   },
   "outputs": [
    {
     "data": {
      "text/plain": [
       "(930L,)"
      ]
     },
     "execution_count": 77,
     "metadata": {},
     "output_type": "execute_result"
    }
   ],
   "source": [
    "y_train.shape"
   ]
  },
  {
   "cell_type": "code",
   "execution_count": 79,
   "metadata": {
    "collapsed": false
   },
   "outputs": [
    {
     "data": {
      "text/plain": [
       "(930, 5)"
      ]
     },
     "execution_count": 79,
     "metadata": {},
     "output_type": "execute_result"
    }
   ],
   "source": [
    "X_train.shape"
   ]
  },
  {
   "cell_type": "code",
   "execution_count": 87,
   "metadata": {
    "collapsed": false
   },
   "outputs": [
    {
     "data": {
      "text/html": [
       "<div>\n",
       "<table border=\"1\" class=\"dataframe\">\n",
       "  <thead>\n",
       "    <tr style=\"text-align: right;\">\n",
       "      <th></th>\n",
       "      <th>Date</th>\n",
       "      <th>DowJones</th>\n",
       "      <th>Gold</th>\n",
       "      <th>Oil</th>\n",
       "      <th>USD/EUR</th>\n",
       "      <th>BTC/USD</th>\n",
       "    </tr>\n",
       "  </thead>\n",
       "  <tbody>\n",
       "    <tr>\n",
       "      <th>0</th>\n",
       "      <td>2015-09-14</td>\n",
       "      <td>16370.96</td>\n",
       "      <td>1104.8</td>\n",
       "      <td>44.07</td>\n",
       "      <td>0.885510</td>\n",
       "      <td>230.79</td>\n",
       "    </tr>\n",
       "    <tr>\n",
       "      <th>1</th>\n",
       "      <td>2015-09-11</td>\n",
       "      <td>16433.09</td>\n",
       "      <td>1101.3</td>\n",
       "      <td>44.75</td>\n",
       "      <td>0.892335</td>\n",
       "      <td>241.55</td>\n",
       "    </tr>\n",
       "    <tr>\n",
       "      <th>2</th>\n",
       "      <td>2015-09-10</td>\n",
       "      <td>16330.40</td>\n",
       "      <td>1109.5</td>\n",
       "      <td>45.85</td>\n",
       "      <td>0.894684</td>\n",
       "      <td>239.98</td>\n",
       "    </tr>\n",
       "    <tr>\n",
       "      <th>3</th>\n",
       "      <td>2015-09-09</td>\n",
       "      <td>16253.57</td>\n",
       "      <td>1109.9</td>\n",
       "      <td>44.13</td>\n",
       "      <td>0.895212</td>\n",
       "      <td>242.45</td>\n",
       "    </tr>\n",
       "    <tr>\n",
       "      <th>4</th>\n",
       "      <td>2015-09-08</td>\n",
       "      <td>16492.68</td>\n",
       "      <td>1121.2</td>\n",
       "      <td>45.92</td>\n",
       "      <td>0.896582</td>\n",
       "      <td>243.76</td>\n",
       "    </tr>\n",
       "  </tbody>\n",
       "</table>\n",
       "</div>"
      ],
      "text/plain": [
       "        Date  DowJones    Gold    Oil   USD/EUR  BTC/USD\n",
       "0 2015-09-14  16370.96  1104.8  44.07  0.885510   230.79\n",
       "1 2015-09-11  16433.09  1101.3  44.75  0.892335   241.55\n",
       "2 2015-09-10  16330.40  1109.5  45.85  0.894684   239.98\n",
       "3 2015-09-09  16253.57  1109.9  44.13  0.895212   242.45\n",
       "4 2015-09-08  16492.68  1121.2  45.92  0.896582   243.76"
      ]
     },
     "execution_count": 87,
     "metadata": {},
     "output_type": "execute_result"
    }
   ],
   "source": [
    "Dataframe.head()"
   ]
  },
  {
   "cell_type": "code",
   "execution_count": 89,
   "metadata": {
    "collapsed": false
   },
   "outputs": [
    {
     "data": {
      "text/html": [
       "<div>\n",
       "<table border=\"1\" class=\"dataframe\">\n",
       "  <thead>\n",
       "    <tr style=\"text-align: right;\">\n",
       "      <th></th>\n",
       "      <th>DowJones</th>\n",
       "      <th>Gold</th>\n",
       "      <th>Oil</th>\n",
       "      <th>USD/EUR</th>\n",
       "    </tr>\n",
       "  </thead>\n",
       "  <tbody>\n",
       "    <tr>\n",
       "      <th>0</th>\n",
       "      <td>16370.96</td>\n",
       "      <td>1104.8</td>\n",
       "      <td>44.07</td>\n",
       "      <td>0.885510</td>\n",
       "    </tr>\n",
       "    <tr>\n",
       "      <th>1</th>\n",
       "      <td>16433.09</td>\n",
       "      <td>1101.3</td>\n",
       "      <td>44.75</td>\n",
       "      <td>0.892335</td>\n",
       "    </tr>\n",
       "    <tr>\n",
       "      <th>2</th>\n",
       "      <td>16330.40</td>\n",
       "      <td>1109.5</td>\n",
       "      <td>45.85</td>\n",
       "      <td>0.894684</td>\n",
       "    </tr>\n",
       "    <tr>\n",
       "      <th>3</th>\n",
       "      <td>16253.57</td>\n",
       "      <td>1109.9</td>\n",
       "      <td>44.13</td>\n",
       "      <td>0.895212</td>\n",
       "    </tr>\n",
       "    <tr>\n",
       "      <th>4</th>\n",
       "      <td>16492.68</td>\n",
       "      <td>1121.2</td>\n",
       "      <td>45.92</td>\n",
       "      <td>0.896582</td>\n",
       "    </tr>\n",
       "  </tbody>\n",
       "</table>\n",
       "</div>"
      ],
      "text/plain": [
       "   DowJones    Gold    Oil   USD/EUR\n",
       "0  16370.96  1104.8  44.07  0.885510\n",
       "1  16433.09  1101.3  44.75  0.892335\n",
       "2  16330.40  1109.5  45.85  0.894684\n",
       "3  16253.57  1109.9  44.13  0.895212\n",
       "4  16492.68  1121.2  45.92  0.896582"
      ]
     },
     "execution_count": 89,
     "metadata": {},
     "output_type": "execute_result"
    }
   ],
   "source": [
    "X.head()"
   ]
  },
  {
   "cell_type": "code",
   "execution_count": 90,
   "metadata": {
    "collapsed": false
   },
   "outputs": [
    {
     "data": {
      "text/plain": [
       "0    230.79\n",
       "1    241.55\n",
       "2    239.98\n",
       "3    242.45\n",
       "4    243.76\n",
       "Name: BTC/USD, dtype: float64"
      ]
     },
     "execution_count": 90,
     "metadata": {},
     "output_type": "execute_result"
    }
   ],
   "source": [
    "y.head()"
   ]
  }
 ],
 "metadata": {
  "kernelspec": {
   "display_name": "Python 2",
   "language": "python",
   "name": "python2"
  },
  "language_info": {
   "codemirror_mode": {
    "name": "ipython",
    "version": 2
   },
   "file_extension": ".py",
   "mimetype": "text/x-python",
   "name": "python",
   "nbconvert_exporter": "python",
   "pygments_lexer": "ipython2",
   "version": "2.7.10"
  }
 },
 "nbformat": 4,
 "nbformat_minor": 0
}
