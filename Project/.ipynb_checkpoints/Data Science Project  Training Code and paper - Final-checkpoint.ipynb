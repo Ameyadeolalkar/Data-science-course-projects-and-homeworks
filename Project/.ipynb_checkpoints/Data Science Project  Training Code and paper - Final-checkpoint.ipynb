{
 "cells": [
  {
   "cell_type": "markdown",
   "metadata": {},
   "source": [
    "## Project By Ameya Deolalkar \n",
    "This project solves a ***Kaggle Competition: Whats Cooking?***. Project leverages Natural Language processing techniques to predict a cuisine from a list of ingredients\n",
    "\n",
    "***Problem Statement***\n",
    "***Use recipe ingredients to categorize the cuisine***\n",
    "\n",
    "Picture yourself strolling through your local, open-air market... What do you see? What do you smell? What will you make for dinner tonight?\n",
    "\n",
    "If you're in Northern California, you'll be walking past the inevitable bushels of leafy greens, spiked with dark purple kale and the bright pinks and yellows of chard. Across the world in South Korea, mounds of bright red kimchi greet you, while the smell of the sea draws your attention to squids squirming nearby. India’s market is perhaps the most colorful, awash in the rich hues and aromas of dozens of spices: turmeric, star anise, poppy seeds, and garam masala as far as the eye can see.\n",
    "\n",
    "Some of our strongest geographic and cultural associations are tied to a region's local foods. This playground competitions asks you to predict the category of a dish's cuisine given a list of its ingredients. ***-source: Kaggle https://www.kaggle.com/c/whats-cooking***"
   ]
  },
  {
   "cell_type": "markdown",
   "metadata": {},
   "source": [
    "## 1: Read the json data into a Pandas DataFrame"
   ]
  },
  {
   "cell_type": "code",
   "execution_count": 53,
   "metadata": {
    "collapsed": false
   },
   "outputs": [],
   "source": [
    "#Place all imports in this cell\n",
    "\n",
    "import pandas as pd\n",
    "import numpy as np\n",
    "import scipy as sp\n",
    "from sklearn.cross_validation import train_test_split\n",
    "from sklearn.feature_extraction.text import CountVectorizer\n",
    "from sklearn.naive_bayes import MultinomialNB\n",
    "from sklearn.linear_model import LogisticRegression\n",
    "from sklearn import metrics\n",
    "from textblob import TextBlob, Word\n",
    "from nltk.stem.snowball import SnowballStemmer\n",
    "from sklearn.feature_extraction.text import TfidfVectorizer\n",
    "import seaborn as sns\n",
    "from sklearn.linear_model import LogisticRegression\n",
    "from sklearn.cross_validation import cross_val_score\n",
    "%matplotlib inline\n",
    "import json\n",
    "import matplotlib.pyplot as plt\n",
    "# increase default figure and font sizes for easier viewing\n",
    "plt.rcParams['figure.figsize'] = (8, 6)\n",
    "plt.rcParams['font.size'] = 14"
   ]
  },
  {
   "cell_type": "code",
   "execution_count": 28,
   "metadata": {
    "collapsed": false
   },
   "outputs": [],
   "source": [
    "with open('data/train.json','rU') as f:\n",
    "    data = json.load(f)\n",
    "cuisines = pd.DataFrame(data)\n"
   ]
  },
  {
   "cell_type": "markdown",
   "metadata": {},
   "source": [
    "## 2. Study The Data\n",
    "This initial analysis of the data helps in understanding the data set which reveals facts like data type, shape and uncovers potential roadblocks that may come up while modelling the data. This stage also helps in exploring possibilities of creating new features that may help in the future. It is also a good idea to split the data into training and testing sets and studying these sets to make sure their size is consistent and they contain all cominations of values possible. An initial dry run of the NLP tool helps in catching potential errors that may come up and resolve them early. eg. in this case, count vectorizer was unable to parse a list of ingredients and gave a 'attribute Lower was not found in list'. This uncovered the requirement of converting the datatype of the ingredients column from list to string"
   ]
  },
  {
   "cell_type": "code",
   "execution_count": 5,
   "metadata": {
    "collapsed": false
   },
   "outputs": [
    {
     "data": {
      "text/plain": [
       "(39774, 3)"
      ]
     },
     "execution_count": 5,
     "metadata": {},
     "output_type": "execute_result"
    }
   ],
   "source": [
    "cuisines.shape"
   ]
  },
  {
   "cell_type": "code",
   "execution_count": 29,
   "metadata": {
    "collapsed": false,
    "scrolled": false
   },
   "outputs": [
    {
     "data": {
      "text/html": [
       "<div>\n",
       "<table border=\"1\" class=\"dataframe\">\n",
       "  <thead>\n",
       "    <tr style=\"text-align: right;\">\n",
       "      <th></th>\n",
       "      <th>cuisine</th>\n",
       "      <th>id</th>\n",
       "      <th>ingredients</th>\n",
       "    </tr>\n",
       "  </thead>\n",
       "  <tbody>\n",
       "    <tr>\n",
       "      <th>0</th>\n",
       "      <td>greek</td>\n",
       "      <td>10259</td>\n",
       "      <td>[romaine lettuce, black olives, grape tomatoes...</td>\n",
       "    </tr>\n",
       "    <tr>\n",
       "      <th>1</th>\n",
       "      <td>southern_us</td>\n",
       "      <td>25693</td>\n",
       "      <td>[plain flour, ground pepper, salt, tomatoes, g...</td>\n",
       "    </tr>\n",
       "    <tr>\n",
       "      <th>2</th>\n",
       "      <td>filipino</td>\n",
       "      <td>20130</td>\n",
       "      <td>[eggs, pepper, salt, mayonaise, cooking oil, g...</td>\n",
       "    </tr>\n",
       "    <tr>\n",
       "      <th>3</th>\n",
       "      <td>indian</td>\n",
       "      <td>22213</td>\n",
       "      <td>[water, vegetable oil, wheat, salt]</td>\n",
       "    </tr>\n",
       "    <tr>\n",
       "      <th>4</th>\n",
       "      <td>indian</td>\n",
       "      <td>13162</td>\n",
       "      <td>[black pepper, shallots, cornflour, cayenne pe...</td>\n",
       "    </tr>\n",
       "  </tbody>\n",
       "</table>\n",
       "</div>"
      ],
      "text/plain": [
       "       cuisine     id                                        ingredients\n",
       "0        greek  10259  [romaine lettuce, black olives, grape tomatoes...\n",
       "1  southern_us  25693  [plain flour, ground pepper, salt, tomatoes, g...\n",
       "2     filipino  20130  [eggs, pepper, salt, mayonaise, cooking oil, g...\n",
       "3       indian  22213                [water, vegetable oil, wheat, salt]\n",
       "4       indian  13162  [black pepper, shallots, cornflour, cayenne pe..."
      ]
     },
     "execution_count": 29,
     "metadata": {},
     "output_type": "execute_result"
    }
   ],
   "source": [
    "cuisines.head()"
   ]
  },
  {
   "cell_type": "markdown",
   "metadata": {},
   "source": [
    "***How many cuisines do we have to analyze?***"
   ]
  },
  {
   "cell_type": "code",
   "execution_count": 10,
   "metadata": {
    "collapsed": false
   },
   "outputs": [
    {
     "data": {
      "text/plain": [
       "20"
      ]
     },
     "execution_count": 10,
     "metadata": {},
     "output_type": "execute_result"
    }
   ],
   "source": [
    "len(cuisines.cuisine.value_counts())"
   ]
  },
  {
   "cell_type": "markdown",
   "metadata": {},
   "source": [
    "***How many times do these cuisines feature in the dataset? Lets plot the value_counts() and see***"
   ]
  },
  {
   "cell_type": "code",
   "execution_count": 22,
   "metadata": {
    "collapsed": false
   },
   "outputs": [
    {
     "data": {
      "text/plain": [
       "<matplotlib.axes._subplots.AxesSubplot at 0x2122a780>"
      ]
     },
     "execution_count": 22,
     "metadata": {},
     "output_type": "execute_result"
    },
    {
     "data": {
      "image/png": "[encoded data removed]",
      "text/plain": [
       "<matplotlib.figure.Figure at 0x2129b940>"
      ]
     },
     "metadata": {},
     "output_type": "display_data"
    }
   ],
   "source": [
    "cuisines.cuisine.value_counts().plot(kind='bar')"
   ]
  },
  {
   "cell_type": "markdown",
   "metadata": {},
   "source": [
    "***The other important column is ingredients. Lets study this column***"
   ]
  },
  {
   "cell_type": "code",
   "execution_count": 24,
   "metadata": {
    "collapsed": false
   },
   "outputs": [
    {
     "data": {
      "text/plain": [
       "0    [romaine lettuce, black olives, grape tomatoes...\n",
       "1    [plain flour, ground pepper, salt, tomatoes, g...\n",
       "2    [eggs, pepper, salt, mayonaise, cooking oil, g...\n",
       "3                  [water, vegetable oil, wheat, salt]\n",
       "4    [black pepper, shallots, cornflour, cayenne pe...\n",
       "Name: ingredients, dtype: object"
      ]
     },
     "execution_count": 24,
     "metadata": {},
     "output_type": "execute_result"
    }
   ],
   "source": [
    "cuisines.ingredients.head()"
   ]
  },
  {
   "cell_type": "markdown",
   "metadata": {},
   "source": [
    "***Looks like the ingredients are in a list within a pandas dataframe column. We need to address this in the next step and convert it into a string. Lets flag this and get back to it in the next section***"
   ]
  },
  {
   "cell_type": "markdown",
   "metadata": {},
   "source": [
    "## 3. Data splitting\n",
    "\n",
    "Every structured data science problem has a value that needs to be predicted and a dataset that provides the variables that need to be studied for making this prediction. The data scientist needs to specify which variable is the predictive feature or the dependant variable. The dataset provided then needs to be split - one with all the features and the other with the dependant variable\n",
    "\n",
    "![alt text](Figures/dataset.png)"
   ]
  },
  {
   "cell_type": "markdown",
   "metadata": {},
   "source": [
    "*** 3.1. Let us get into splitting the dataset as shown in the figure above***"
   ]
  },
  {
   "cell_type": "code",
   "execution_count": 25,
   "metadata": {
    "collapsed": true
   },
   "outputs": [],
   "source": [
    "X = cuisines.ingredients\n",
    "y = cuisines.cuisine"
   ]
  },
  {
   "cell_type": "markdown",
   "metadata": {},
   "source": [
    "***We discussed this above, the ingredients list needs to be converted into strings***"
   ]
  },
  {
   "cell_type": "code",
   "execution_count": 27,
   "metadata": {
    "collapsed": true
   },
   "outputs": [],
   "source": [
    "X = X.astype('string')"
   ]
  },
  {
   "cell_type": "markdown",
   "metadata": {},
   "source": [
    "***3.2. Train-Test-Split*** :\n",
    "\n",
    "We have split our data into a features set and a prediction set. We would be implementing our data model on our features dataset. The data model will find relationships between the featues and the predicted values and will make predictions for new data according to the results. But how do we evaulate whether our predictions are correct? \n",
    "Sci-kit learn provides us a simple cross validation solution that will split the dataset into a training set and a testing set. The training set can be fed into the model to learn relationships between the features and the predictive values. The features in the testing dataset will be then fed into the model. The results of the model will be validated against the predictive values in the testing set. Hence the name, train-test-split. ***Hopefully this diagram will simplify train-test-split***\n",
    "\n",
    "![alt text](Figures/train-test-split.png)"
   ]
  },
  {
   "cell_type": "code",
   "execution_count": 30,
   "metadata": {
    "collapsed": true
   },
   "outputs": [],
   "source": [
    "X_train,X_test,y_train,y_test = train_test_split(X,y,random_state=1)"
   ]
  },
  {
   "cell_type": "code",
   "execution_count": 31,
   "metadata": {
    "collapsed": false
   },
   "outputs": [
    {
     "data": {
      "text/plain": [
       "(29830L,)"
      ]
     },
     "execution_count": 31,
     "metadata": {},
     "output_type": "execute_result"
    }
   ],
   "source": [
    "X_train.shape"
   ]
  },
  {
   "cell_type": "code",
   "execution_count": 32,
   "metadata": {
    "collapsed": false
   },
   "outputs": [
    {
     "data": {
      "text/plain": [
       "(9944L,)"
      ]
     },
     "execution_count": 32,
     "metadata": {},
     "output_type": "execute_result"
    }
   ],
   "source": [
    "X_test.shape"
   ]
  },
  {
   "cell_type": "code",
   "execution_count": 33,
   "metadata": {
    "collapsed": false
   },
   "outputs": [
    {
     "data": {
      "text/plain": [
       "(29830L,)"
      ]
     },
     "execution_count": 33,
     "metadata": {},
     "output_type": "execute_result"
    }
   ],
   "source": [
    "y_train.shape"
   ]
  },
  {
   "cell_type": "code",
   "execution_count": 34,
   "metadata": {
    "collapsed": false
   },
   "outputs": [
    {
     "data": {
      "text/plain": [
       "(9944L,)"
      ]
     },
     "execution_count": 34,
     "metadata": {},
     "output_type": "execute_result"
    }
   ],
   "source": [
    "y_test.shape"
   ]
  },
  {
   "cell_type": "markdown",
   "metadata": {},
   "source": [
    "## 4. Processing data - data modelling - evaluation\n",
    "\n",
    "The data is now ready for processing, modelling and evaluation. There will be multiple steps in this process as shown below\n",
    "\n",
    "![alt text](Figures/Process1.png)\n",
    "\n",
    "Let us focus on sections **4.1. Natural Language Processing** and **4.2. Data Modelling and Evaluation**\n",
    "\n",
    "### 4.1. Natural Language Processing\n",
    "*   Using computers to process (analyze, understand, generate) natural human languages\n",
    "*   Most knowledge created by humans is unstructured text, and we need a way to make sense of it\n",
    "*   Build probabilistic model using data about a language\n",
    "\n",
    "* **Vectorizers**\n",
    "+ *** CountVectorizer:*** Convert a collection of text documents to a matrix of token counts\n",
    "+ *** TF-IDFVectorizer:*** Convert a collection of raw documents to a matrix of TF-IDF features. \n",
    "+ *** TF-IDF:***  tf–idf, short for term frequency–inverse document frequency, is a numerical statistic that is intended to reflect how important a word is to a document in a collection or corpus.It is often used as a weighting factor in information retrieval and text mining.\n",
    "+ ***Vectorization:*** We call vectorization the general process of turning a collection of text documents into numerical feature vectors. This specific strategy (tokenization, counting and normalization) is called the Bag of Words or \"Bag of n-grams\" representation. Documents are described by word occurrences while completely ignoring the relative position information of the words in the document.\n",
    "\n",
    "\n",
    "### 4.2. Data Modelling and Evaluation\n",
    "* *** Naive bayes:*** Naive Bayes methods are a set of supervised learning algorithms based on applying Bayes’ theorem with the “naive” assumption of independence between every pair of features. Given a class variable y and a dependent feature vector x_1 through x_n, Bayes’ theorem states the following relationship:\n",
    "\n",
    "*** P(y \\mid x_1, \\dots, x_n) = \\frac{P(y) P(x_1, \\dots x_n \\mid y)}\n",
    "                                 {P(x_1, \\dots, x_n)} ***\n",
    "                                 \n",
    "Using the naive independence assumption that\n",
    "\n",
    "*** P(x_i | y, x_1, \\dots, x_{i-1}, x_{i+1}, \\dots, x_n) = P(x_i | y),***\n",
    "\n",
    "for all i, this relationship is simplified to\n",
    "\n",
    "*** P(y \\mid x_1, \\dots, x_n) = \\frac{P(y) \\prod_{i=1}^{n} P(x_i \\mid y)}\n",
    "                                 {P(x_1, \\dots, x_n)}***\n",
    "                                 \n",
    "* *** Logistic Regression: *** log-odds of a categorical response being \"true\" (1) is modeled as a linear combination of the features:\n",
    "\n",
    "*** log(p1−p)=β0+β1x***\n",
    "This is called the logit function.\n",
    "\n",
    "Probability is sometimes written as pi:\n",
    "*** log(π1−π)=β0+β1x***\n",
    "\n",
    "The equation can be rearranged into the logistic function:\n",
    "*** π=eβ0+β1x1+eβ0+β1x***\n",
    "\n",
    "In other words:\n",
    "* Logistic regression outputs the probabilities of a specific class\n",
    "* Those probabilities can be converted into class predictions\n",
    "The logistic function has some nice properties:\n",
    "* Takes on an \"s\" shape\n",
    "* Output is bounded by 0 and 1"
   ]
  },
  {
   "cell_type": "markdown",
   "metadata": {},
   "source": [
    "## Implementation 1:\n",
    "\n",
    "The initial approach is implement a Naive Bayes model on training and testing data tokenized using CountVectorizer\n",
    "*** Goals: ***\n",
    "* Make predictions using basic features \n",
    "* Identify pain points i.e. places where the model is getting confused"
   ]
  },
  {
   "cell_type": "code",
   "execution_count": 37,
   "metadata": {
    "collapsed": true
   },
   "outputs": [],
   "source": [
    "#This function implements and evaluates Naive Bayes\n",
    "def tokenize_test(vect):\n",
    "    X_train_dtm = vect.fit_transform(X_train) \n",
    "    '''Use a vectorizer to create a document term matrix (A document-term matrix or term-document matrix is a mathematical \n",
    "    matrix that describes the frequency of terms that occur in a collection of documents. In a document-term matrix, rows \n",
    "    correspond to documents in the collection and columns correspond to terms.)'''\n",
    "    \n",
    "    print 'Features: ', X_train_dtm.shape[1]\n",
    "    X_test_dtm = vect.transform(X_test)\n",
    "    nb = MultinomialNB() # Pass the Naive Bayes function into a variable\n",
    "    nb.fit(X_train_dtm, y_train) \n",
    "    y_pred_class = nb.predict(X_test_dtm)\n",
    "    print 'Accuracy: ', metrics.accuracy_score(y_test, y_pred_class)\n",
    "    conf_mat = pd.DataFrame(metrics.confusion_matrix(y_test, y_pred_class),\n",
    "                            columns=['brazilian','british','cajun_creole','chinese','filipino','french','greek','indian','irish','italian','jamaican','japanese','korean','mexican','moroccan','russian','southern_us','spanish','thai','vietnamese'])\n",
    "    sns.heatmap(conf_mat.corr())"
   ]
  },
  {
   "cell_type": "code",
   "execution_count": 38,
   "metadata": {
    "collapsed": false
   },
   "outputs": [
    {
     "name": "stdout",
     "output_type": "stream",
     "text": [
      "Features:  2864\n",
      "Accuracy:  0.719831053902\n"
     ]
    },
    {
     "data": {
      "image/png": "[encoded data removed]",
      "text/plain": [
       "<matplotlib.figure.Figure at 0x23056a90>"
      ]
     },
     "metadata": {},
     "output_type": "display_data"
    }
   ],
   "source": [
    "# Lets first use CountVectorizer in the most Basic Form\n",
    "\n",
    "vect = CountVectorizer()\n",
    "tokenize_test(vect)"
   ]
  },
  {
   "cell_type": "markdown",
   "metadata": {},
   "source": [
    "### Let us evaluate the tokens created by count vectorizer"
   ]
  },
  {
   "cell_type": "code",
   "execution_count": 39,
   "metadata": {
    "collapsed": true
   },
   "outputs": [
    {
     "data": {
      "text/plain": [
       "[u'10',\n",
       " u'100',\n",
       " u'14',\n",
       " u'15',\n",
       " u'25',\n",
       " u'33',\n",
       " u'40',\n",
       " u'43',\n",
       " u'95',\n",
       " u'abalone',\n",
       " u'abbamele',\n",
       " u'absinthe',\n",
       " u'abura',\n",
       " u'acai',\n",
       " u'accent',\n",
       " u'accompaniment',\n",
       " u'achiote',\n",
       " u'acid',\n",
       " u'acini',\n",
       " u'ackee',\n",
       " u'acorn',\n",
       " u'acting',\n",
       " u'activ',\n",
       " u'active',\n",
       " u'added',\n",
       " u'adobo',\n",
       " u'adzuki',\n",
       " u'agar',\n",
       " u'agave',\n",
       " u'age',\n",
       " u'aged',\n",
       " u'ahi',\n",
       " u'aioli',\n",
       " u'ajinomoto',\n",
       " u'ajwain',\n",
       " u'aka',\n",
       " u'alaskan',\n",
       " u'albacore',\n",
       " u'alcohol',\n",
       " u'ale',\n",
       " u'aleppo',\n",
       " u'alexia',\n",
       " u'alfalfa',\n",
       " u'alfredo',\n",
       " u'all',\n",
       " u'allspice',\n",
       " u'almond',\n",
       " u'almondmilk',\n",
       " u'almonds',\n",
       " u'alphabet',\n",
       " u'alum',\n",
       " u'amaranth',\n",
       " u'amarena',\n",
       " u'amaretti',\n",
       " u'amaretto',\n",
       " u'amba',\n",
       " u'amber',\n",
       " u'amberjack',\n",
       " u'amchur',\n",
       " u'american',\n",
       " u'aminos',\n",
       " u'ammonium',\n",
       " u'amontillado',\n",
       " u'ampalaya',\n",
       " u'anaheim',\n",
       " u'anasazi',\n",
       " u'ancho',\n",
       " u'anchovies',\n",
       " u'anchovy',\n",
       " u'and',\n",
       " u'andouille',\n",
       " u'anejo',\n",
       " u'angel',\n",
       " u'anglaise',\n",
       " u'angled',\n",
       " u'angostura',\n",
       " u'angus',\n",
       " u'anise',\n",
       " u'anisette',\n",
       " u'anjou',\n",
       " u'annatto',\n",
       " u'any',\n",
       " u'aonori',\n",
       " u'apple',\n",
       " u'apples',\n",
       " u'applesauce',\n",
       " u'applewood',\n",
       " u'apricot',\n",
       " u'apricots',\n",
       " u'aquavit',\n",
       " u'arak',\n",
       " u'arame',\n",
       " u'arbol',\n",
       " u'arborio',\n",
       " u'arctic',\n",
       " u'argo',\n",
       " u'arhar',\n",
       " u'armagnac',\n",
       " u'arrow',\n",
       " u'arrowroot',\n",
       " u'artichok',\n",
       " u'artichoke',\n",
       " u'artichokes',\n",
       " u'artificial',\n",
       " u'artisan',\n",
       " u'arugula',\n",
       " u'asada',\n",
       " u'asadero',\n",
       " u'asafetida',\n",
       " u'asafoetida',\n",
       " u'asakusa',\n",
       " u'asiago',\n",
       " u'asian',\n",
       " u'asparagus',\n",
       " u'aspic',\n",
       " u'assam',\n",
       " u'assorted',\n",
       " u'asti',\n",
       " u'atar',\n",
       " u'atlantic',\n",
       " u'atta',\n",
       " u'au',\n",
       " u'avocado',\n",
       " u'avocados',\n",
       " u'awase',\n",
       " u'azteca',\n",
       " u'azuki',\n",
       " u'baby',\n",
       " u'bacardi',\n",
       " u'back',\n",
       " u'bacon',\n",
       " u'bag',\n",
       " u'bagel',\n",
       " u'bagels',\n",
       " u'bags',\n",
       " u'baguette',\n",
       " u'bai',\n",
       " u'baileys',\n",
       " u'baked',\n",
       " u'baking',\n",
       " u'balance',\n",
       " u'balls',\n",
       " u'balm',\n",
       " u'balsamic',\n",
       " u'balsamico',\n",
       " u'bamboo',\n",
       " u'banana',\n",
       " u'bananas',\n",
       " u'banger',\n",
       " u'banh',\n",
       " u'baobab',\n",
       " u'bar',\n",
       " u'barbecue',\n",
       " u'barbecued',\n",
       " u'barberries',\n",
       " u'barilla',\n",
       " u'bark',\n",
       " u'barley',\n",
       " u'barolo',\n",
       " u'barramundi',\n",
       " u'bars',\n",
       " u'bartlett',\n",
       " u'basa',\n",
       " u'base',\n",
       " u'based',\n",
       " u'basil',\n",
       " u'basmati',\n",
       " u'bass',\n",
       " u'baton',\n",
       " u'batter',\n",
       " u'bawang',\n",
       " u'bay',\n",
       " u'bayonne',\n",
       " u'bbq',\n",
       " u'bean',\n",
       " u'beans',\n",
       " u'beansprouts',\n",
       " u'beaten',\n",
       " u'beaters',\n",
       " u'beaujolais',\n",
       " u'bechamel',\n",
       " u'bee',\n",
       " u'beech',\n",
       " u'beef',\n",
       " u'beefsteak',\n",
       " u'beer',\n",
       " u'beet',\n",
       " u'beetroot',\n",
       " u'beets',\n",
       " u'belacan',\n",
       " u'belgian',\n",
       " u'believ',\n",
       " u'believe',\n",
       " u'bell',\n",
       " u'bellpepper',\n",
       " u'bells',\n",
       " u'belly',\n",
       " u'ben',\n",
       " u'bengal',\n",
       " u'bengali',\n",
       " u'beni',\n",
       " u'benne',\n",
       " u'bens',\n",
       " u'bermuda',\n",
       " u'berries',\n",
       " u'bertolli',\n",
       " u'besan',\n",
       " u'best',\n",
       " u'better',\n",
       " u'betty',\n",
       " u'beurre',\n",
       " u'beverages',\n",
       " u'bhaji',\n",
       " u'bhindi',\n",
       " u'bianco',\n",
       " u'bibb',\n",
       " u'bicarbonate',\n",
       " u'big',\n",
       " u'bigoli',\n",
       " u'bihon',\n",
       " u'bing',\n",
       " u'bird',\n",
       " u'biryani',\n",
       " u'biscotti',\n",
       " u'biscuit',\n",
       " u'biscuits',\n",
       " u'bison',\n",
       " u'bisquick',\n",
       " u'bits',\n",
       " u'bitter',\n",
       " u'bitters',\n",
       " u'bittersweet',\n",
       " u'black',\n",
       " u'blackberries',\n",
       " u'blackberry',\n",
       " u'blackened',\n",
       " u'blackening',\n",
       " u'blackpepper',\n",
       " u'blackstrap',\n",
       " u'blade',\n",
       " u'blanc',\n",
       " u'blanched',\n",
       " u'blanco',\n",
       " u'blend',\n",
       " u'blends',\n",
       " u'bliss',\n",
       " u'block',\n",
       " u'blood',\n",
       " u'bloody',\n",
       " u'blossom',\n",
       " u'blossoms',\n",
       " u'blue',\n",
       " u'blueberries',\n",
       " u'boar',\n",
       " u'bocconcini',\n",
       " u'bock',\n",
       " u'boil',\n",
       " u'boiled',\n",
       " u'boiling',\n",
       " u'bok',\n",
       " u'bolillo',\n",
       " u'bone',\n",
       " u'boned',\n",
       " u'boneless',\n",
       " u'bones',\n",
       " u'bonito',\n",
       " u'bonnet',\n",
       " u'boquerones',\n",
       " u'borage',\n",
       " u'bordelaise',\n",
       " u'borlotti',\n",
       " u'bosc',\n",
       " u'boston',\n",
       " u'bottle',\n",
       " u'bottled',\n",
       " u'bottom',\n",
       " u'bottoms',\n",
       " u'boudin',\n",
       " u'bought',\n",
       " u'bouillon',\n",
       " u'bouquet',\n",
       " u'bourbon',\n",
       " u'bow',\n",
       " u'bows',\n",
       " u'boysenberries',\n",
       " u'braeburn',\n",
       " u'bragg',\n",
       " u'braggs',\n",
       " u'braising',\n",
       " u'bran',\n",
       " u'brand',\n",
       " u'brandy',\n",
       " u'branston',\n",
       " u'branzino',\n",
       " u'brats',\n",
       " u'bratwurst',\n",
       " u'brazil',\n",
       " u'bread',\n",
       " u'breadcrumb',\n",
       " u'breadcrumbs',\n",
       " u'breadfruit',\n",
       " u'breadstick',\n",
       " u'breakfast',\n",
       " u'breakstone',\n",
       " u'bream',\n",
       " u'breast',\n",
       " u'breasts',\n",
       " u'bresaola',\n",
       " u'brewed',\n",
       " u'brie',\n",
       " u'brien',\n",
       " u'brill',\n",
       " u'brine',\n",
       " u'brioche',\n",
       " u'brisket',\n",
       " u'brittle',\n",
       " u'broad',\n",
       " u'broccoli',\n",
       " u'broccolini',\n",
       " u'broil',\n",
       " u'broiler',\n",
       " u'broth',\n",
       " u'brown',\n",
       " u'brownie',\n",
       " u'brownies',\n",
       " u'browning',\n",
       " u'browns',\n",
       " u'brussels',\n",
       " u'bucatini',\n",
       " u'buckwheat',\n",
       " u'buds',\n",
       " u'budweiser',\n",
       " u'buffalo',\n",
       " u'bulb',\n",
       " u'bulgur',\n",
       " u'bulk',\n",
       " u'bun',\n",
       " u'buns',\n",
       " u'burdock',\n",
       " u'burger',\n",
       " u'burgers',\n",
       " u'burgundi',\n",
       " u'burgundy',\n",
       " u'burrata',\n",
       " u'burro',\n",
       " u'bushi',\n",
       " u'butt',\n",
       " u'butter',\n",
       " u'buttercream',\n",
       " u'buttercup',\n",
       " u'butterflied',\n",
       " u'buttermilk',\n",
       " u'butternut',\n",
       " u'butterscotch',\n",
       " u'buttery',\n",
       " u'button',\n",
       " u'cabbage',\n",
       " u'cabernet',\n",
       " u'cabrales',\n",
       " u'cacao',\n",
       " u'cachaca',\n",
       " u'caciocavallo',\n",
       " u'cactus',\n",
       " u'caesar',\n",
       " u'cai',\n",
       " u'cajeta',\n",
       " u'cajun',\n",
       " u'cake',\n",
       " u'cakes',\n",
       " u'calabash',\n",
       " u'calabaza',\n",
       " u'calamansi',\n",
       " u'calamari',\n",
       " u'calamata',\n",
       " u'calcium',\n",
       " u'calf',\n",
       " u'california',\n",
       " u'calimyrna',\n",
       " u'callaloo',\n",
       " u'calorie',\n",
       " u'calvados',\n",
       " u'camellia',\n",
       " u'camembert',\n",
       " u'campanelle',\n",
       " u'campari',\n",
       " u'campbell',\n",
       " u'can',\n",
       " u'canadian',\n",
       " u'candied',\n",
       " u'candlenuts',\n",
       " u'candy',\n",
       " u'cane',\n",
       " u'canela',\n",
       " u'canes',\n",
       " u'canned',\n",
       " u'cannellini',\n",
       " u'cannelloni',\n",
       " u'canning',\n",
       " u'cannoli',\n",
       " u'canola',\n",
       " u'cantal',\n",
       " u'cantaloupe',\n",
       " u'canton',\n",
       " u'capellini',\n",
       " u'caper',\n",
       " u'capers',\n",
       " u'capicola',\n",
       " u'capocollo',\n",
       " u'capon',\n",
       " u'caps',\n",
       " u'capsicum',\n",
       " u'cara',\n",
       " u'carambola',\n",
       " u'caramel',\n",
       " u'caramels',\n",
       " u'caraway',\n",
       " u'carbonated',\n",
       " u'carcass',\n",
       " u'cardamom',\n",
       " u'cardamon',\n",
       " u'cardoons',\n",
       " u'caribbean',\n",
       " u'carnaroli',\n",
       " u'carnation',\n",
       " u'carne',\n",
       " u'carnitas',\n",
       " u'carp',\n",
       " u'carpaccio',\n",
       " u'carrot',\n",
       " u'carrots',\n",
       " u'cascabel',\n",
       " u'casera',\n",
       " u'cashew',\n",
       " u'cashews',\n",
       " u'casing',\n",
       " u'casings',\n",
       " u'cassava',\n",
       " u'cassia',\n",
       " u'cassis',\n",
       " u'castellane',\n",
       " u'castelvetrano',\n",
       " u'caster',\n",
       " u'catalina',\n",
       " u'catfish',\n",
       " u'catsup',\n",
       " u'caul',\n",
       " u'cauliflower',\n",
       " u'cauliflowerets',\n",
       " u'cava',\n",
       " u'cavatappi',\n",
       " u'cavatelli',\n",
       " u'caviar',\n",
       " u'cavolo',\n",
       " u'cayenne',\n",
       " u'celery',\n",
       " u'celtic',\n",
       " u'center',\n",
       " u'century',\n",
       " u'cereal',\n",
       " u'ceylon',\n",
       " u'ch',\n",
       " u'chaat',\n",
       " u'chachere',\n",
       " u'chai',\n",
       " u'challa',\n",
       " u'challenge',\n",
       " u'cham',\n",
       " u'chambord',\n",
       " u'champagne',\n",
       " u'chana',\n",
       " u'chang',\n",
       " u'channa',\n",
       " u'chanterelle',\n",
       " u'chapati',\n",
       " u'char',\n",
       " u'chard',\n",
       " u'chardonnay',\n",
       " u'chat',\n",
       " u'chateaubriand',\n",
       " u'chayotes',\n",
       " u'cheddar',\n",
       " u'chee',\n",
       " u'cheeks',\n",
       " u'chees',\n",
       " u'cheese',\n",
       " u'cheesi',\n",
       " u'chenpi',\n",
       " u'cheong',\n",
       " u'cherries',\n",
       " u'cherry',\n",
       " u'cherrystone',\n",
       " u'chervil',\n",
       " u'chestnut',\n",
       " u'chestnuts',\n",
       " u'chevre',\n",
       " u'chia',\n",
       " u'chianti',\n",
       " u'chicharron',\n",
       " u'chicken',\n",
       " u'chickens',\n",
       " u'chickpea',\n",
       " u'chickpeas',\n",
       " u'chicory',\n",
       " u'chiffonade',\n",
       " u'chihuahua',\n",
       " u'chik',\n",
       " u'chile',\n",
       " u'chilean',\n",
       " u'chilegarlic',\n",
       " u'chiles',\n",
       " u'chili',\n",
       " u'chilies',\n",
       " u'chilled',\n",
       " u'chilli',\n",
       " u'chillies',\n",
       " u'chiltep',\n",
       " u'chimichurri',\n",
       " u'chinese',\n",
       " u'chinkiang',\n",
       " u'chip',\n",
       " u'chipotl',\n",
       " u'chipotle',\n",
       " u'chipotles',\n",
       " u'chipped',\n",
       " u'chips',\n",
       " u'chitterlings',\n",
       " u'chive',\n",
       " u'chives',\n",
       " u'cho',\n",
       " u'chocolate',\n",
       " u'chocolatecovered',\n",
       " u'choi',\n",
       " u'cholesterol',\n",
       " u'cholula',\n",
       " u'chong',\n",
       " u'chop',\n",
       " u'chopmeat',\n",
       " u'chopped',\n",
       " u'chops',\n",
       " u'chorizo',\n",
       " u'chourico',\n",
       " u'chow',\n",
       " u'chowchow',\n",
       " u'choy',\n",
       " u'chrysanthemum',\n",
       " u'chua',\n",
       " u'chuck',\n",
       " u'chuka',\n",
       " u'chunk',\n",
       " u'chunks',\n",
       " u'chunky',\n",
       " u'chuno',\n",
       " u'chutney',\n",
       " u'ciabatta',\n",
       " u'cider',\n",
       " u'cilantro',\n",
       " u'cinnamon',\n",
       " u'cipollini',\n",
       " u'citric',\n",
       " u'citron',\n",
       " u'citrus',\n",
       " u'clam',\n",
       " u'clamato',\n",
       " u'clams',\n",
       " u'clarified',\n",
       " u'classic',\n",
       " u'classico',\n",
       " u'claws',\n",
       " u'clear',\n",
       " u'clementine',\n",
       " u'clementines',\n",
       " u'clotted',\n",
       " u'cloud',\n",
       " u'clove',\n",
       " u'clover',\n",
       " u'cloves',\n",
       " u'club',\n",
       " u'coars',\n",
       " u'coarse',\n",
       " u'cob',\n",
       " u'coca',\n",
       " u'cockles',\n",
       " u'cocktail',\n",
       " u'coco',\n",
       " u'cocoa',\n",
       " u'coconut',\n",
       " u'cod',\n",
       " u'codfish',\n",
       " u'coffee',\n",
       " u'cognac',\n",
       " u'cointreau',\n",
       " u'coke',\n",
       " u'cola',\n",
       " u'colada',\n",
       " u'colby',\n",
       " u'cold',\n",
       " u'cole',\n",
       " u'coleslaw',\n",
       " u'collard',\n",
       " u'collards',\n",
       " u'collect',\n",
       " u'colman',\n",
       " u'color',\n",
       " u'coloring',\n",
       " u'colouring',\n",
       " u'comfort',\n",
       " u'comino',\n",
       " u'compote',\n",
       " u'compressed',\n",
       " u'concentrate',\n",
       " u'conch',\n",
       " u'conchiglie',\n",
       " u'condensed',\n",
       " u'condiments',\n",
       " u'confectioners',\n",
       " u'confit',\n",
       " u'conimex',\n",
       " u'consomme',\n",
       " u'convert',\n",
       " u'converted',\n",
       " u'cook',\n",
       " u'cooked',\n",
       " u'cookie',\n",
       " u'cookies',\n",
       " u'cooking',\n",
       " u'cool',\n",
       " u'cordial',\n",
       " u'coriander',\n",
       " u'corkscrew',\n",
       " u'corn',\n",
       " u'cornbread',\n",
       " u'corned',\n",
       " u'cornflake',\n",
       " u'cornflakes',\n",
       " u'cornflour',\n",
       " u'cornhusks',\n",
       " u'cornichons',\n",
       " u'cornish',\n",
       " u'cornmeal',\n",
       " u'cornstarch',\n",
       " u'cortland',\n",
       " u'cotija',\n",
       " u'cottage',\n",
       " u'cotto',\n",
       " u'coulis',\n",
       " u'country',\n",
       " u'couscous',\n",
       " u'covered',\n",
       " u'cox',\n",
       " u'cr',\n",
       " u'crab',\n",
       " u'crabmeat',\n",
       " u'crabs',\n",
       " u'cracked',\n",
       " u'cracker',\n",
       " u'crackers',\n",
       " u'cranberries',\n",
       " u'cranberry',\n",
       " u'crawfish',\n",
       " u'crawford',\n",
       " u'crayfish',\n",
       " u'cream',\n",
       " u'creamed',\n",
       " u'creamy',\n",
       " u'creations',\n",
       " u'crema',\n",
       " u'creme',\n",
       " u'cremini',\n",
       " u'creole',\n",
       " u'crepes',\n",
       " u'crescent',\n",
       " u'cress',\n",
       " u'crimini',\n",
       " u'crisco',\n",
       " u'crisp',\n",
       " u'crisps',\n",
       " u'crispy',\n",
       " u'crock',\n",
       " u'crocker',\n",
       " u'croissant',\n",
       " u'croissants',\n",
       " u'crookneck',\n",
       " u'cross',\n",
       " u'crostini',\n",
       " u'crouton',\n",
       " u'croutons',\n",
       " u'crumb',\n",
       " u'crumbled',\n",
       " u'crumbles',\n",
       " u'crumbs',\n",
       " u'crumpet',\n",
       " u'crush',\n",
       " u'crushed',\n",
       " u'crust',\n",
       " u'crusts',\n",
       " u'crusty',\n",
       " u'crystal',\n",
       " u'crystallized',\n",
       " u'cuban',\n",
       " u'cube',\n",
       " u'cubed',\n",
       " u'cubes',\n",
       " u'cucumber',\n",
       " u'cucumbers',\n",
       " u'cucuzza',\n",
       " u'cuervo',\n",
       " u'cuisine',\n",
       " u'culantro',\n",
       " u'culinary',\n",
       " u'cultured',\n",
       " u'cumin',\n",
       " u'cuminseed',\n",
       " u'cummin',\n",
       " u'cups',\n",
       " u'cura',\n",
       " u'curd',\n",
       " u'curds',\n",
       " u'cured',\n",
       " u'curing',\n",
       " u'curls',\n",
       " u'curly',\n",
       " u'currant',\n",
       " u'currants',\n",
       " u'curry',\n",
       " u'custard',\n",
       " u'cut',\n",
       " u'cutlet',\n",
       " u'cutlets',\n",
       " u'cuts',\n",
       " u'cuttlefish',\n",
       " u'daal',\n",
       " u'daikon',\n",
       " u'dairy',\n",
       " u'daisy',\n",
       " u'dal',\n",
       " u'dandelion',\n",
       " u'daniels',\n",
       " u'darjeeling',\n",
       " u'dark',\n",
       " u'dash',\n",
       " u'dasheen',\n",
       " u'dashi',\n",
       " u'date',\n",
       " u'dates',\n",
       " u'day',\n",
       " u'de',\n",
       " u'dean',\n",
       " u'decorating',\n",
       " u'deep',\n",
       " u'delallo',\n",
       " u'deli',\n",
       " u'delicata',\n",
       " u'delicious',\n",
       " u'demerara',\n",
       " u'demi',\n",
       " u'dende',\n",
       " u'despelette',\n",
       " u'dessert',\n",
       " u'devein',\n",
       " u'deveined',\n",
       " u'devil',\n",
       " u'deviled',\n",
       " u'dew',\n",
       " u'dhal',\n",
       " u'di',\n",
       " u'diamond',\n",
       " u'diced',\n",
       " u'dickel',\n",
       " u'diet',\n",
       " u'digestive',\n",
       " u'dijon',\n",
       " u'dijonnaise',\n",
       " u'dill',\n",
       " u'dillweed',\n",
       " u'dinner',\n",
       " u'dinosaur',\n",
       " u'dip',\n",
       " u'dipping',\n",
       " u'dips',\n",
       " u'disco',\n",
       " u'dish',\n",
       " u'distilled',\n",
       " u'ditalini',\n",
       " u'do',\n",
       " u'doenzang',\n",
       " u'dog',\n",
       " u'dogs',\n",
       " u'dolce',\n",
       " u'dole',\n",
       " u'domino',\n",
       " u'doritos',\n",
       " u'doubanjiang',\n",
       " u'doubl',\n",
       " u'double',\n",
       " u'dough',\n",
       " u'doughs',\n",
       " u'dr',\n",
       " u'dragees',\n",
       " u'dragon',\n",
       " u'drain',\n",
       " u'drained',\n",
       " u'drambuie',\n",
       " u'dress',\n",
       " u'dressing',\n",
       " u'dri',\n",
       " u'dried',\n",
       " u'drink',\n",
       " u'drippings',\n",
       " u'drum',\n",
       " u'drummettes',\n",
       " u'drumstick',\n",
       " u'drumsticks',\n",
       " u'dry',\n",
       " u'du',\n",
       " u'duck',\n",
       " u'ducklings',\n",
       " u'dulce',\n",
       " u'dulong',\n",
       " u'dumpling',\n",
       " u'dumplings',\n",
       " u'dungeness',\n",
       " u'durum',\n",
       " u'dusting',\n",
       " u'dutch',\n",
       " u'duxelles',\n",
       " u'ear',\n",
       " u'earl',\n",
       " u'ears',\n",
       " u'earth',\n",
       " u'eating',\n",
       " u'eau',\n",
       " u'edam',\n",
       " u'edamame',\n",
       " u'edible',\n",
       " u'eel',\n",
       " u'egg',\n",
       " u'eggland',\n",
       " u'eggplant',\n",
       " u'eggplants',\n",
       " u'eggroll',\n",
       " u'eggs',\n",
       " u'el',\n",
       " u'elbow',\n",
       " u'elderflower',\n",
       " u'elmlea',\n",
       " u'emmenthal',\n",
       " u'empanada',\n",
       " u'enchilada',\n",
       " u'endive',\n",
       " u'english',\n",
       " u'enokitake',\n",
       " u'enriched',\n",
       " u'epazote',\n",
       " u'equal',\n",
       " u'erythritol',\n",
       " u'escalopes',\n",
       " u'escargot',\n",
       " u'escarole',\n",
       " u'espelette',\n",
       " u'espresso',\n",
       " u'essence',\n",
       " u'estancia',\n",
       " u'european',\n",
       " u'evapor',\n",
       " u'evaporated',\n",
       " u'everglades',\n",
       " u'extra',\n",
       " u'extract',\n",
       " u'eye',\n",
       " u'eyed',\n",
       " u'fajita',\n",
       " u'falafel',\n",
       " u'farfalline',\n",
       " u'farina',\n",
       " u'farm',\n",
       " u'farmer',\n",
       " u'farmhouse',\n",
       " u'farms',\n",
       " u'farofa',\n",
       " u'farro',\n",
       " u'fashioned',\n",
       " u'fast',\n",
       " u'fat',\n",
       " u'fatback',\n",
       " u'fatfre',\n",
       " u'fatfree',\n",
       " u'fava',\n",
       " u'fed',\n",
       " u'fedelini',\n",
       " u'feet',\n",
       " u'fennel',\n",
       " u'fenugreek',\n",
       " u'fermented',\n",
       " u'fern',\n",
       " u'ferns',\n",
       " u'feta',\n",
       " u'fettuccine',\n",
       " u'fettuccini',\n",
       " u'fettucine',\n",
       " u'fiber',\n",
       " u'ficelle',\n",
       " u'fiddlehead',\n",
       " u'fideos',\n",
       " u'field',\n",
       " u'fiesta',\n",
       " u'fig',\n",
       " u'figs',\n",
       " u'fil',\n",
       " u'file',\n",
       " u'filet',\n",
       " u'filets',\n",
       " u'filipino',\n",
       " u'filled',\n",
       " u'fillet',\n",
       " u'fillets',\n",
       " u'filling',\n",
       " u'filo',\n",
       " u'fine',\n",
       " u'finely',\n",
       " u'fines',\n",
       " u'finger',\n",
       " u'fingerling',\n",
       " u'fingers',\n",
       " u'fino',\n",
       " u'fire',\n",
       " u'firm',\n",
       " u'firmly',\n",
       " u'fish',\n",
       " u'fishcake',\n",
       " u'fisher',\n",
       " u'five',\n",
       " u'flageolet',\n",
       " u'flake',\n",
       " u'flaked',\n",
       " u'flakes',\n",
       " u'flan',\n",
       " u'flank',\n",
       " u'flanken',\n",
       " u'flat',\n",
       " u'flatbread',\n",
       " u'flavor',\n",
       " u'flavored',\n",
       " u'flavoring',\n",
       " u'flax',\n",
       " u'flaxseed',\n",
       " u'fleshed',\n",
       " u'fleur',\n",
       " u'flora',\n",
       " u'florets',\n",
       " u'flounder',\n",
       " u'flour',\n",
       " u'flower',\n",
       " u'flowerets',\n",
       " u'flowering',\n",
       " u'flowers',\n",
       " u'focaccia',\n",
       " u'foccacia',\n",
       " u'foie',\n",
       " u'fondant',\n",
       " u'fontina',\n",
       " u'food',\n",
       " u'foods',\n",
       " u'for',\n",
       " u'forest',\n",
       " u'foster',\n",
       " u'four',\n",
       " u'fowl',\n",
       " u'fra',\n",
       " u'framboise',\n",
       " u'frangelico',\n",
       " u'frangipane',\n",
       " u'frank',\n",
       " u'franks',\n",
       " u'free',\n",
       " u'freeze',\n",
       " u'fregola',\n",
       " u'french',\n",
       " u'fresca',\n",
       " u'fresco',\n",
       " u'fresh',\n",
       " u'freshly',\n",
       " u'fresno',\n",
       " u'fri',\n",
       " u'fried',\n",
       " u'fries',\n",
       " u'frisee',\n",
       " u'friselle',\n",
       " u'fritos',\n",
       " u'frogs',\n",
       " u'fromage',\n",
       " u'fronds',\n",
       " u'frosting',\n",
       " u'frostings',\n",
       " u'frozen',\n",
       " u'fructose',\n",
       " u'fruit',\n",
       " u'fruitcake',\n",
       " u'fruits',\n",
       " u'fry',\n",
       " u'fryer',\n",
       " ...]"
      ]
     },
     "execution_count": 39,
     "metadata": {},
     "output_type": "execute_result"
    }
   ],
   "source": [
    "vect.get_feature_names()"
   ]
  },
  {
   "cell_type": "markdown",
   "metadata": {},
   "source": [
    "### We see the following characteristics\n",
    "* Words have been tokenized on spaces\n",
    "* special characters like ',','%', etc. have been stripped \n",
    "* All tokens are lowercase\n",
    "\n",
    "The goal now is to reduce the error i.e. improve the accuracy score. CountVectorizer offers a lot of features that we can use. Let us try and experiment a few\n",
    "\n",
    "1. Using Stop words: Ignores words that are specified in a list\n",
    "\n",
    "*** CountVectorizer has a stop words parameter that sets common english words as stop words ***"
   ]
  },
  {
   "cell_type": "code",
   "execution_count": 44,
   "metadata": {
    "collapsed": false,
    "scrolled": false
   },
   "outputs": [
    {
     "name": "stdout",
     "output_type": "stream",
     "text": [
      "Features:  2826\n",
      "Accuracy:  0.721842316975\n"
     ]
    },
    {
     "data": {
      "image/png": "[encoded data removed]",
      "text/plain": [
       "<matplotlib.figure.Figure at 0x23401a20>"
      ]
     },
     "metadata": {},
     "output_type": "display_data"
    }
   ],
   "source": [
    "vect = CountVectorizer(stop_words='english')\n",
    "tokenize_test(vect)"
   ]
  },
  {
   "cell_type": "markdown",
   "metadata": {},
   "source": [
    "### Lets add these english stop words to a list"
   ]
  },
  {
   "cell_type": "code",
   "execution_count": 45,
   "metadata": {
    "collapsed": true
   },
   "outputs": [],
   "source": [
    "stop = vect.get_stop_words()\n",
    "stop = list(stop) # create iterable list of stop words"
   ]
  },
  {
   "cell_type": "markdown",
   "metadata": {},
   "source": [
    "### Find top 20 repeating words\n",
    "Lets take the top 20 repeating stop words and see what we find. Domain knowledge is always useful in analysis.Little domain knowledge in cooking helps to realize that the top 20 ingredients make sense"
   ]
  },
  {
   "cell_type": "code",
   "execution_count": 41,
   "metadata": {
    "collapsed": false
   },
   "outputs": [
    {
     "data": {
      "text/plain": [
       "[(u'salt', 18049),\n",
       " (u'olive oil', 7972),\n",
       " (u'onions', 7972),\n",
       " (u'water', 7457),\n",
       " (u'garlic', 7380),\n",
       " (u'sugar', 6434),\n",
       " (u'garlic cloves', 6237),\n",
       " (u'butter', 4848),\n",
       " (u'ground black pepper', 4785),\n",
       " (u'all-purpose flour', 4632),\n",
       " (u'pepper', 4438),\n",
       " (u'vegetable oil', 4385),\n",
       " (u'eggs', 3388),\n",
       " (u'soy sauce', 3296),\n",
       " (u'kosher salt', 3113),\n",
       " (u'green onions', 3078),\n",
       " (u'tomatoes', 3058),\n",
       " (u'large eggs', 2948),\n",
       " (u'carrots', 2814),\n",
       " (u'unsalted butter', 2782)]"
      ]
     },
     "execution_count": 41,
     "metadata": {},
     "output_type": "execute_result"
    }
   ],
   "source": [
    "from collections import Counter, defaultdict\n",
    "import seaborn as sns\n",
    "from nltk.stem.porter import *\n",
    "cuisine_dict = defaultdict(Counter)\n",
    "index_dict = defaultdict(Counter)\n",
    "total_counter = Counter()\n",
    "for index, row in cuisines.iterrows():\n",
    "    arr = row.ingredients\n",
    "    for ingredient in row.ingredients:\n",
    "        total_counter[ingredient] += 1\n",
    "total_counter.most_common(20)"
   ]
  },
  {
   "cell_type": "markdown",
   "metadata": {},
   "source": [
    "### Add Top 10 Common Words To The List Of Stop Words\n",
    "Lets add these words to the list of stop words"
   ]
  },
  {
   "cell_type": "code",
   "execution_count": 46,
   "metadata": {
    "collapsed": false
   },
   "outputs": [],
   "source": [
    "additional_ingredients = ['salt','onion','oliv oil','water','garlic','sugar','garlic','clove','butter','ground','black','pepper','all','purpose','flour']\n",
    "for i in additional_ingredients:\n",
    "    stop.append(i)"
   ]
  },
  {
   "cell_type": "code",
   "execution_count": 47,
   "metadata": {
    "collapsed": false
   },
   "outputs": [
    {
     "name": "stdout",
     "output_type": "stream",
     "text": [
      "Features:  2814\n",
      "Accuracy:  0.726971037812\n"
     ]
    },
    {
     "data": {
      "image/png": "[encoded data removed]",
      "text/plain": [
       "<matplotlib.figure.Figure at 0x248c3a90>"
      ]
     },
     "metadata": {},
     "output_type": "display_data"
    }
   ],
   "source": [
    "vect = CountVectorizer(stop_words=stop)\n",
    "tokenize_test(vect)"
   ]
  },
  {
   "cell_type": "markdown",
   "metadata": {},
   "source": [
    "### A better alternative to stop words is using max_df which ignores words that occurer with a frequency more than the value specified. Lets set this at 5000 and evaluate. Let us also use the max_features option. max_features selects the specified number of most important features "
   ]
  },
  {
   "cell_type": "code",
   "execution_count": 48,
   "metadata": {
    "collapsed": false
   },
   "outputs": [
    {
     "name": "stdout",
     "output_type": "stream",
     "text": [
      "Features:  2100\n",
      "Accuracy:  0.727272727273\n"
     ]
    },
    {
     "data": {
      "image/png": "[encoded data removed]",
      "text/plain": [
       "<matplotlib.figure.Figure at 0x276af080>"
      ]
     },
     "metadata": {},
     "output_type": "display_data"
    }
   ],
   "source": [
    "vect = CountVectorizer(max_df=5000,max_features=2100)\n",
    "tokenize_test(vect)"
   ]
  },
  {
   "cell_type": "markdown",
   "metadata": {},
   "source": [
    "### There seems to be a slight improvement. Also the effort of manually selecting stop words has been eliminated."
   ]
  },
  {
   "cell_type": "markdown",
   "metadata": {},
   "source": [
    "## Implementation 2:\n",
    "\n",
    "\n",
    "### Feature Engineering:\n",
    "Creating a new feature from exisitng features is called feature engineering. More features are good for predictions. Each cuisine has a different set of ingredients. These lists vary by length. Lets use the feature length as an example\n",
    "\n",
    "### Logistic Regression: \n",
    "Logistic regression performs better than naive bayes in situations where the number of features is large. Since we have added a new feature, lets evaluate using Naive Bayes"
   ]
  },
  {
   "cell_type": "code",
   "execution_count": 55,
   "metadata": {
    "collapsed": false,
    "scrolled": true
   },
   "outputs": [],
   "source": [
    "cuisines['ingredient_length']=cuisines.ingredients.apply(len)\n",
    "feature_cols = ['ingredients','ingredient_length']\n",
    "X_new = cuisines[feature_cols] #Lets use a new variable incase we have to revert\n",
    "y_new = cuisines.cuisine\n",
    "X_new_train,X_new_test,y_new_train,y_new_test = train_test_split(X_new,y_new,random_state=1)"
   ]
  },
  {
   "cell_type": "code",
   "execution_count": 56,
   "metadata": {
    "collapsed": true
   },
   "outputs": [],
   "source": [
    "def tokenize_test_extra(vect):\n",
    "    X_new_train_dtm = vect.fit_transform(X_new_train.ingredients.astype('string'))\n",
    "    print 'Features: ', X_new_train_dtm.shape[1]\n",
    "    X_new_test_dtm = vect.transform(X_new_test.ingredients.astype('string'))\n",
    "    extra = sp.sparse.csr_matrix(X_new_train.drop('ingredients', axis=1).astype(float))\n",
    "    X_new_train_dtm_extra = sp.sparse.hstack((X_new_train_dtm, extra))\n",
    "    extra = sp.sparse.csr_matrix(X_new_test.drop('ingredients', axis=1).astype(float))\n",
    "    X_new_test_dtm_extra = sp.sparse.hstack((X_new_test_dtm, extra))\n",
    "    logreg = LogisticRegression(C=1e9)\n",
    "    logreg.fit(X_new_train_dtm_extra, y_new_train)\n",
    "    y_pred_class = logreg.predict(X_new_test_dtm_extra)\n",
    "    print 'Accuracy: ', metrics.accuracy_score(y_new_test, y_pred_class)\n",
    "    conf_mat = pd.DataFrame(metrics.confusion_matrix(y_test, y_pred_class),columns=['brazilian','british','cajun_creole','chinese','filipino','french','greek','indian','irish','italian','jamaican','japanese','korean','mexican','moroccan','russian','southern_us','spanish','thai','vietnamese'])\n",
    "    sns.heatmap(conf_mat.corr())"
   ]
  },
  {
   "cell_type": "code",
   "execution_count": 57,
   "metadata": {
    "collapsed": false
   },
   "outputs": [
    {
     "name": "stdout",
     "output_type": "stream",
     "text": [
      "Features:  2100\n",
      "Accuracy:  0.729686242961\n"
     ]
    },
    {
     "data": {
      "image/png": "[encoded data removed]",
      "text/plain": [
       "<matplotlib.figure.Figure at 0x2ec897b8>"
      ]
     },
     "metadata": {},
     "output_type": "display_data"
    }
   ],
   "source": [
    "vect = CountVectorizer(max_df=5000,max_features=2100)\n",
    "tokenize_test_extra(vect)"
   ]
  },
  {
   "cell_type": "markdown",
   "metadata": {},
   "source": [
    "### This seems to be working. However, lets try a different approach"
   ]
  },
  {
   "cell_type": "markdown",
   "metadata": {},
   "source": [
    "TF-IDF vectorizer\n",
    "tf–idf, short for term frequency–inverse document frequency, is a numerical statistic that is intended to reflect how important a word is to a document in a collection or corpus. It is often used as a weighting factor in information retrieval and text mining.\n",
    "In this situation, TF-IDF will compute the relative frequency of  a word appearing in a cuisine compared to its frequency across all cuisines. Inverse document frequency is more useful than \"term frequency\" for identifying \"important\" words in each document (high frequency in that document, low frequency in other documents). "
   ]
  },
  {
   "cell_type": "code",
   "execution_count": 59,
   "metadata": {
    "collapsed": false
   },
   "outputs": [
    {
     "name": "stdout",
     "output_type": "stream",
     "text": [
      "Features:  2864\n",
      "Accuracy:  0.733105390185\n"
     ]
    },
    {
     "data": {
      "image/png": "[encoded data removed]",
      "text/plain": [
       "<matplotlib.figure.Figure at 0x20dd1ba8>"
      ]
     },
     "metadata": {},
     "output_type": "display_data"
    }
   ],
   "source": [
    "vect = TfidfVectorizer()\n",
    "tokenize_test_extra(vect)"
   ]
  },
  {
   "cell_type": "markdown",
   "metadata": {},
   "source": [
    "### Lets try and improve this. maybe analyzing some bigger errors may help. lets take thai-vietnamese, british-irish, southen_us-cajun_creole \n",
    "Taking southern us as a whole did not seem to work. lets take a different approach"
   ]
  },
  {
   "cell_type": "code",
   "execution_count": 60,
   "metadata": {
    "collapsed": true
   },
   "outputs": [],
   "source": [
    "thai_vietnamese = cuisines[(cuisines.cuisine == 'thai') | (cuisines.cuisine == 'vietnamese')]\n",
    "british_irish = cuisines[(cuisines.cuisine == 'british') | (cuisines.cuisine == 'irish')]\n",
    "sous_cajcre = cuisines[(cuisines.cuisine == 'southern_us') | (cuisines.cuisine == 'cajun_creole')]"
   ]
  },
  {
   "cell_type": "code",
   "execution_count": 61,
   "metadata": {
    "collapsed": false
   },
   "outputs": [
    {
     "data": {
      "text/plain": [
       "[(u'fish sauce', 1017),\n",
       " (u'sugar', 674),\n",
       " (u'salt', 660),\n",
       " (u'garlic', 653),\n",
       " (u'water', 537),\n",
       " (u'soy sauce', 487),\n",
       " (u'vegetable oil', 480),\n",
       " (u'garlic cloves', 447),\n",
       " (u'shallots', 385),\n",
       " (u'fresh lime juice', 383),\n",
       " (u'coconut milk', 382),\n",
       " (u'green onions', 374),\n",
       " (u'carrots', 371),\n",
       " (u'lime', 366),\n",
       " (u'lemongrass', 328),\n",
       " (u'lime juice', 326),\n",
       " (u'rice vinegar', 288),\n",
       " (u'fresh ginger', 286),\n",
       " (u'beansprouts', 279),\n",
       " (u'cilantro leaves', 277)]"
      ]
     },
     "execution_count": 61,
     "metadata": {},
     "output_type": "execute_result"
    }
   ],
   "source": [
    "cuisine_dict = defaultdict(Counter)\n",
    "index_dict = defaultdict(Counter)\n",
    "total_counter = Counter()\n",
    "for index, row in thai_vietnamese.iterrows():\n",
    "    arr = row.ingredients\n",
    "    for ingredient in row.ingredients:\n",
    "        total_counter[ingredient] += 1\n",
    "total_counter.most_common(20)"
   ]
  },
  {
   "cell_type": "code",
   "execution_count": 62,
   "metadata": {
    "collapsed": false
   },
   "outputs": [
    {
     "data": {
      "text/plain": [
       "[(u'salt', 783),\n",
       " (u'all-purpose flour', 457),\n",
       " (u'butter', 441),\n",
       " (u'milk', 313),\n",
       " (u'sugar', 296),\n",
       " (u'eggs', 281),\n",
       " (u'unsalted butter', 278),\n",
       " (u'onions', 274),\n",
       " (u'baking powder', 234),\n",
       " (u'water', 205),\n",
       " (u'baking soda', 188),\n",
       " (u'large eggs', 187),\n",
       " (u'potatoes', 185),\n",
       " (u'pepper', 175),\n",
       " (u'carrots', 164),\n",
       " (u'ground black pepper', 137),\n",
       " (u'heavy cream', 131),\n",
       " (u'flour', 124),\n",
       " (u'olive oil', 104),\n",
       " (u'vegetable oil', 101)]"
      ]
     },
     "execution_count": 62,
     "metadata": {},
     "output_type": "execute_result"
    }
   ],
   "source": [
    "cuisine_dict = defaultdict(Counter)\n",
    "index_dict = defaultdict(Counter)\n",
    "total_counter = Counter()\n",
    "for index, row in british_irish.iterrows():\n",
    "    arr = row.ingredients\n",
    "    for ingredient in row.ingredients:\n",
    "        total_counter[ingredient] += 1\n",
    "total_counter.most_common(20)"
   ]
  },
  {
   "cell_type": "code",
   "execution_count": 63,
   "metadata": {
    "collapsed": false
   },
   "outputs": [
    {
     "data": {
      "text/plain": [
       "[(u'salt', 3033),\n",
       " (u'butter', 1589),\n",
       " (u'all-purpose flour', 1513),\n",
       " (u'sugar', 1173),\n",
       " (u'onions', 1011),\n",
       " (u'water', 966),\n",
       " (u'large eggs', 829),\n",
       " (u'unsalted butter', 774),\n",
       " (u'baking powder', 762),\n",
       " (u'pepper', 738),\n",
       " (u'ground black pepper', 730),\n",
       " (u'milk', 729),\n",
       " (u'eggs', 709),\n",
       " (u'vegetable oil', 696),\n",
       " (u'buttermilk', 661),\n",
       " (u'garlic', 629),\n",
       " (u'olive oil', 628),\n",
       " (u'garlic cloves', 578),\n",
       " (u'cayenne pepper', 530),\n",
       " (u'vanilla extract', 504)]"
      ]
     },
     "execution_count": 63,
     "metadata": {},
     "output_type": "execute_result"
    }
   ],
   "source": [
    "cuisine_dict = defaultdict(Counter)\n",
    "index_dict = defaultdict(Counter)\n",
    "total_counter = Counter()\n",
    "for index, row in sous_cajcre.iterrows():\n",
    "    arr = row.ingredients\n",
    "    for ingredient in row.ingredients:\n",
    "        total_counter[ingredient] += 1\n",
    "total_counter.most_common(20)"
   ]
  },
  {
   "cell_type": "code",
   "execution_count": 64,
   "metadata": {
    "collapsed": true
   },
   "outputs": [],
   "source": [
    "def tokenize_test_limitfeatures(vect):\n",
    "    X_new_train_dtm = vect.fit_transform(X_new_train.ingredients.astype('string'))\n",
    "    print 'Features: ', X_new_train_dtm.shape[1]\n",
    "    X_new_test_dtm = vect.transform(X_new_test.ingredients.astype('string'))\n",
    "    extra = sp.sparse.csr_matrix(X_new_train.drop('ingredients', axis=1).astype(float))\n",
    "    X_new_train_dtm_extra = sp.sparse.hstack((X_new_train_dtm, extra))\n",
    "    extra = sp.sparse.csr_matrix(X_new_test.drop('ingredients', axis=1).astype(float))\n",
    "    X_new_test_dtm_extra = sp.sparse.hstack((X_new_test_dtm, extra))\n",
    "    logreg = LogisticRegression(C=1e9)\n",
    "    logreg.fit(X_new_train_dtm_extra, y_new_train)\n",
    "    y_pred_class = logreg.predict(X_new_test_dtm_extra)\n",
    "    print 'Accuracy: ', metrics.accuracy_score(y_new_test, y_pred_class)"
   ]
  },
  {
   "cell_type": "code",
   "execution_count": 65,
   "metadata": {
    "collapsed": false
   },
   "outputs": [
    {
     "name": "stdout",
     "output_type": "stream",
     "text": [
      "100\n",
      "Features:  100\n",
      "Accuracy:  0.619670152856\n",
      "200\n",
      "Features:  200\n",
      "Accuracy:  0.692176186645\n",
      "300\n",
      "Features:  300\n",
      "Accuracy:  0.723451327434\n",
      "400\n",
      "Features:  400\n",
      "Accuracy:  0.739038616251\n",
      "500\n",
      "Features:  500\n",
      "Accuracy:  0.749597747385\n",
      "600\n",
      "Features:  600\n",
      "Accuracy:  0.753218020917\n",
      "700\n",
      "Features:  700\n",
      "Accuracy:  0.7541230893\n",
      "800\n",
      "Features:  800\n",
      "Accuracy:  0.753620273532\n",
      "900\n",
      "Features:  900\n",
      "Accuracy:  0.752614641995\n"
     ]
    }
   ],
   "source": [
    "for i in range(100,1000,100):\n",
    "    print i\n",
    "    vect = TfidfVectorizer(max_features=i)\n",
    "    tokenize_test_limitfeatures(vect)"
   ]
  },
  {
   "cell_type": "markdown",
   "metadata": {},
   "source": [
    "### Looks like max_features = 700 is giving a good result. Lets finetune"
   ]
  },
  {
   "cell_type": "code",
   "execution_count": 66,
   "metadata": {
    "collapsed": false
   },
   "outputs": [
    {
     "name": "stdout",
     "output_type": "stream",
     "text": [
      "700\n",
      "Features:  700\n",
      "Accuracy:  0.7541230893\n",
      "710\n",
      "Features:  710\n",
      "Accuracy:  0.753318584071\n",
      "720\n",
      "Features:  720\n",
      "Accuracy:  0.753720836685\n",
      "730\n",
      "Features:  730\n",
      "Accuracy:  0.753419147224\n",
      "740\n",
      "Features:  740\n",
      "Accuracy:  0.752815768302\n",
      "750\n",
      "Features:  750\n",
      "Accuracy:  0.752715205149\n",
      "760\n",
      "Features:  760\n",
      "Accuracy:  0.753821399839\n",
      "770\n",
      "Features:  770\n",
      "Accuracy:  0.75603378922\n",
      "780\n",
      "Features:  780\n",
      "Accuracy:  0.755329847144\n",
      "790\n",
      "Features:  790\n",
      "Accuracy:  0.752614641995\n"
     ]
    }
   ],
   "source": [
    "for i in range(700,800,10):\n",
    "    print i\n",
    "    vect = TfidfVectorizer(max_features=i)\n",
    "    tokenize_test_limitfeatures(vect)"
   ]
  },
  {
   "cell_type": "code",
   "execution_count": 67,
   "metadata": {
    "collapsed": false
   },
   "outputs": [
    {
     "name": "stdout",
     "output_type": "stream",
     "text": [
      "600\n",
      "Features:  600\n",
      "Accuracy:  0.753218020917\n",
      "610\n",
      "Features:  610\n",
      "Accuracy:  0.753117457763\n",
      "620\n",
      "Features:  620\n",
      "Accuracy:  0.753117457763\n",
      "630\n",
      "Features:  630\n",
      "Accuracy:  0.753519710378\n",
      "640\n",
      "Features:  640\n",
      "Accuracy:  0.753821399839\n",
      "650\n",
      "Features:  650\n",
      "Accuracy:  0.754324215607\n",
      "660\n",
      "Features:  660\n",
      "Accuracy:  0.754022526146\n",
      "670\n",
      "Features:  670\n",
      "Accuracy:  0.754726468222\n",
      "680\n",
      "Features:  680\n",
      "Accuracy:  0.753921962993\n",
      "690\n",
      "Features:  690\n",
      "Accuracy:  0.754223652454\n"
     ]
    }
   ],
   "source": [
    "for i in range(600,700,10):\n",
    "    print i\n",
    "    vect = TfidfVectorizer(max_features=i)\n",
    "    tokenize_test_limitfeatures(vect)"
   ]
  },
  {
   "cell_type": "markdown",
   "metadata": {},
   "source": [
    "### max_features = 770 is the best feature. Lets apply this to the tf-idf vectorizer and make our evaluation"
   ]
  },
  {
   "cell_type": "code",
   "execution_count": 68,
   "metadata": {
    "collapsed": false
   },
   "outputs": [
    {
     "name": "stdout",
     "output_type": "stream",
     "text": [
      "Features:  770\n",
      "Accuracy:  0.75603378922\n"
     ]
    },
    {
     "data": {
      "image/png": "[encoded data removed]",
      "text/plain": [
       "<matplotlib.figure.Figure at 0x291cfd68>"
      ]
     },
     "metadata": {},
     "output_type": "display_data"
    }
   ],
   "source": [
    "vect = TfidfVectorizer(max_features=770)\n",
    "tokenize_test_extra(vect)"
   ]
  },
  {
   "cell_type": "markdown",
   "metadata": {},
   "source": [
    "## This is the best prediction so far. but why? Here are some reasons:\n",
    "*   **Adding a new feature: **  Looking at the heatmaps, we see that there are some very logical confusions. Thai-vietnamese, British-Irish, Chinese-Japanese i.e. cuisines that have ***similar ingredients***. Adding the length feature provides the model a new parameter to distinguish between these cuisines. This reduces the error a bit. \n",
    "\n",
    "*   ** Logistic Regression: **  As mentoned before, Logistic regression performs better than Naive Bayes when the number of features is large. This is because naive Bayes has larger ***asymptotic error*** than Logistic Regression\n",
    "\n",
    "*  ** TF-IDF vectorizer: ** Some ingredients are more essential to some cuisines than other cuisines. Weighing frequency of an  ingredient in one cuisine against the frequency of that ingredient against other cuisines helps the model make better predictions. \n",
    "\n",
    "*  ** Limiting Features: ** As mentioned before, max_features selects the specified features based on the most important features. If we look at the most popular ingredients in the cuisines we have chosen, we see that a lot of features like salt, butter, sugar feature a lot of times. These features do not add a lot of value and can be removed. Although, the data model does nullify the importance of these words. There are, however some other ingredients that do not feature accross all cuisines, but do create a confusion between two cuisines in which these ingredients occur a number of times. max_features helps ignore these features"
   ]
  },
  {
   "cell_type": "markdown",
   "metadata": {},
   "source": [
    "## Some other experiments\n",
    "\n",
    "Feature selection in a situation where words are ***split on space*** is called ***Bag of Words***. In this situation, if we split on ***comma*** we get a ***Bag of Ingredients***. This can be achieved by modifying the tokenizer feature in count vectorizer"
   ]
  },
  {
   "cell_type": "code",
   "execution_count": 70,
   "metadata": {
    "collapsed": false
   },
   "outputs": [
    {
     "name": "stdout",
     "output_type": "stream",
     "text": [
      "Features:  8443\n",
      "Accuracy:  0.685237329043\n"
     ]
    },
    {
     "data": {
      "image/png": "[encoded data removed]",
      "text/plain": [
       "<matplotlib.figure.Figure at 0x3077b320>"
      ]
     },
     "metadata": {},
     "output_type": "display_data"
    }
   ],
   "source": [
    "def my_tokenizer(s):\n",
    "    return s.replace('[',',').replace(']',',').replace('%',',').split(',')\n",
    "vect = TfidfVectorizer(tokenizer=my_tokenizer)\n",
    "tokenize_test_extra(vect)"
   ]
  },
  {
   "cell_type": "markdown",
   "metadata": {},
   "source": [
    "## Lets evaluate this again to determine the best value for max features"
   ]
  },
  {
   "cell_type": "code",
   "execution_count": 71,
   "metadata": {
    "collapsed": false
   },
   "outputs": [
    {
     "name": "stdout",
     "output_type": "stream",
     "text": [
      "1000\n",
      "Features:  1000\n",
      "Accuracy:  0.705953338697\n",
      "2000\n",
      "Features:  2000\n",
      "Accuracy:  0.679806918745\n",
      "3000\n",
      "Features:  3000\n",
      "Accuracy:  0.662208366854\n",
      "4000\n",
      "Features:  4000\n",
      "Accuracy:  0.666029766693\n",
      "5000\n",
      "Features:  5000\n",
      "Accuracy:  0.664320193081\n",
      "6000\n",
      "Features:  6000\n",
      "Accuracy:  0.678801287208\n",
      "7000\n",
      "Features:  7000\n",
      "Accuracy:  0.677996781979\n"
     ]
    }
   ],
   "source": [
    "for i in range(1000,8000,1000):\n",
    "    print i\n",
    "    vect = TfidfVectorizer(max_features=i,tokenizer=my_tokenizer)\n",
    "    tokenize_test_limitfeatures(vect)"
   ]
  },
  {
   "cell_type": "code",
   "execution_count": 72,
   "metadata": {
    "collapsed": false
   },
   "outputs": [
    {
     "name": "stdout",
     "output_type": "stream",
     "text": [
      "100\n",
      "Features:  100\n",
      "Accuracy:  0.529766693484\n",
      "200\n",
      "Features:  200\n",
      "Accuracy:  0.598753016895\n",
      "300\n",
      "Features:  300\n",
      "Accuracy:  0.638475462591\n",
      "400\n",
      "Features:  400\n",
      "Accuracy:  0.660800482703\n",
      "500\n",
      "Features:  500\n",
      "Accuracy:  0.677292839903\n",
      "600\n",
      "Features:  600\n",
      "Accuracy:  0.690064360418\n",
      "700\n",
      "Features:  700\n",
      "Accuracy:  0.697405470636\n",
      "800\n",
      "Features:  800\n",
      "Accuracy:  0.703037007241\n",
      "900\n",
      "Features:  900\n",
      "Accuracy:  0.707361222848\n"
     ]
    }
   ],
   "source": [
    "for i in range(100,1000,100):\n",
    "    print i\n",
    "    vect = TfidfVectorizer(max_features=i,tokenizer=my_tokenizer)\n",
    "    tokenize_test_limitfeatures(vect)"
   ]
  },
  {
   "cell_type": "markdown",
   "metadata": {},
   "source": [
    "### This does not seem to be a viable solution"
   ]
  },
  {
   "cell_type": "markdown",
   "metadata": {},
   "source": [
    "## Conclusion\n",
    "\n",
    "** Cuisines have been predicted from the specified ingredients with an accuracy of 75.60% ***. This accuracy can be further improved which creates opportunities to continue working on this project. Some future steps will be, \n",
    "\n",
    "* Using Ensembling\n",
    "* Using the one-vs-rest model\n",
    "* Identify scope for further feature engineering and feature extraction"
   ]
  },
  {
   "cell_type": "code",
   "execution_count": null,
   "metadata": {
    "collapsed": true
   },
   "outputs": [],
   "source": []
  },
  {
   "cell_type": "code",
   "execution_count": null,
   "metadata": {
    "collapsed": true
   },
   "outputs": [],
   "source": []
  },
  {
   "cell_type": "code",
   "execution_count": null,
   "metadata": {
    "collapsed": true
   },
   "outputs": [],
   "source": []
  },
  {
   "cell_type": "code",
   "execution_count": null,
   "metadata": {
    "collapsed": true
   },
   "outputs": [],
   "source": []
  }
 ],
 "metadata": {
  "kernelspec": {
   "display_name": "Python 2",
   "language": "python",
   "name": "python2"
  },
  "language_info": {
   "codemirror_mode": {
    "name": "ipython",
    "version": 2
   },
   "file_extension": ".py",
   "mimetype": "text/x-python",
   "name": "python",
   "nbconvert_exporter": "python",
   "pygments_lexer": "ipython2",
   "version": "2.7.10"
  }
 },
 "nbformat": 4,
 "nbformat_minor": 0
}
