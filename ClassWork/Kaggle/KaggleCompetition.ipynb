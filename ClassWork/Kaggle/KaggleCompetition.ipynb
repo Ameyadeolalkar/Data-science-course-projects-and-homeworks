{
 "cells": [
  {
   "cell_type": "code",
   "execution_count": 2,
   "metadata": {
    "collapsed": true
   },
   "outputs": [],
   "source": [
    "import pandas as pd"
   ]
  },
  {
   "cell_type": "code",
   "execution_count": 15,
   "metadata": {
    "collapsed": true
   },
   "outputs": [],
   "source": [
    "train = pd.read_csv('train.csv')"
   ]
  },
  {
   "cell_type": "code",
   "execution_count": 18,
   "metadata": {
    "collapsed": false,
    "scrolled": true
   },
   "outputs": [
    {
     "data": {
      "text/html": [
       "<div>\n",
       "<table border=\"1\" class=\"dataframe\">\n",
       "  <thead>\n",
       "    <tr style=\"text-align: right;\">\n",
       "      <th></th>\n",
       "      <th>Unnamed: 0</th>\n",
       "      <th>PostId</th>\n",
       "      <th>PostCreationDate</th>\n",
       "      <th>OwnerUserId</th>\n",
       "      <th>OwnerCreationDate</th>\n",
       "      <th>ReputationAtPostCreation</th>\n",
       "      <th>OwnerUndeletedAnswerCountAtPostTime</th>\n",
       "      <th>Title</th>\n",
       "      <th>BodyMarkdown</th>\n",
       "      <th>Tag1</th>\n",
       "      <th>Tag2</th>\n",
       "      <th>Tag3</th>\n",
       "      <th>Tag4</th>\n",
       "      <th>Tag5</th>\n",
       "      <th>PostClosedDate</th>\n",
       "      <th>OpenStatus</th>\n",
       "    </tr>\n",
       "  </thead>\n",
       "  <tbody>\n",
       "    <tr>\n",
       "      <th>0</th>\n",
       "      <td>0</td>\n",
       "      <td>6046168</td>\n",
       "      <td>05/18/2011 14:14:05</td>\n",
       "      <td>543315</td>\n",
       "      <td>09/17/2010 10:15:06</td>\n",
       "      <td>1</td>\n",
       "      <td>2</td>\n",
       "      <td>For Mongodb is it better to reference an objec...</td>\n",
       "      <td>I am building a corpus of indexed sentences in...</td>\n",
       "      <td>mongodb</td>\n",
       "      <td>NaN</td>\n",
       "      <td>NaN</td>\n",
       "      <td>NaN</td>\n",
       "      <td>NaN</td>\n",
       "      <td>NaN</td>\n",
       "      <td>1</td>\n",
       "    </tr>\n",
       "    <tr>\n",
       "      <th>1</th>\n",
       "      <td>1</td>\n",
       "      <td>4873911</td>\n",
       "      <td>02/02/2011 11:30:10</td>\n",
       "      <td>465076</td>\n",
       "      <td>10/03/2010 09:30:58</td>\n",
       "      <td>192</td>\n",
       "      <td>24</td>\n",
       "      <td>How to insert schemalocation in a xml document...</td>\n",
       "      <td>i create a xml document with JAXP and search a...</td>\n",
       "      <td>dom</td>\n",
       "      <td>xsd</td>\n",
       "      <td>jaxp</td>\n",
       "      <td>NaN</td>\n",
       "      <td>NaN</td>\n",
       "      <td>NaN</td>\n",
       "      <td>1</td>\n",
       "    </tr>\n",
       "    <tr>\n",
       "      <th>2</th>\n",
       "      <td>2</td>\n",
       "      <td>3311559</td>\n",
       "      <td>07/22/2010 17:21:54</td>\n",
       "      <td>406143</td>\n",
       "      <td>07/22/2010 16:58:20</td>\n",
       "      <td>1</td>\n",
       "      <td>0</td>\n",
       "      <td>Too many lookup tables</td>\n",
       "      <td>What are the adverse effects of having too man...</td>\n",
       "      <td>sql-server</td>\n",
       "      <td>database-design</td>\n",
       "      <td>enums</td>\n",
       "      <td>NaN</td>\n",
       "      <td>NaN</td>\n",
       "      <td>NaN</td>\n",
       "      <td>1</td>\n",
       "    </tr>\n",
       "    <tr>\n",
       "      <th>3</th>\n",
       "      <td>3</td>\n",
       "      <td>9990413</td>\n",
       "      <td>04/03/2012 09:18:39</td>\n",
       "      <td>851755</td>\n",
       "      <td>07/19/2011 10:22:40</td>\n",
       "      <td>4</td>\n",
       "      <td>1</td>\n",
       "      <td>What is this PHP code in VB.net</td>\n",
       "      <td>I am looking for the vb.net equivalent of this...</td>\n",
       "      <td>php</td>\n",
       "      <td>vb.net</td>\n",
       "      <td>NaN</td>\n",
       "      <td>NaN</td>\n",
       "      <td>NaN</td>\n",
       "      <td>04/15/2012 21:12:48</td>\n",
       "      <td>0</td>\n",
       "    </tr>\n",
       "    <tr>\n",
       "      <th>4</th>\n",
       "      <td>4</td>\n",
       "      <td>10421966</td>\n",
       "      <td>05/02/2012 21:25:01</td>\n",
       "      <td>603588</td>\n",
       "      <td>02/04/2011 18:05:34</td>\n",
       "      <td>334</td>\n",
       "      <td>14</td>\n",
       "      <td>Spring-Data mongodb querying multiple classes ...</td>\n",
       "      <td>With Spring-Data, you can use the @Document an...</td>\n",
       "      <td>mongodb</td>\n",
       "      <td>spring-data</td>\n",
       "      <td>NaN</td>\n",
       "      <td>NaN</td>\n",
       "      <td>NaN</td>\n",
       "      <td>NaN</td>\n",
       "      <td>1</td>\n",
       "    </tr>\n",
       "  </tbody>\n",
       "</table>\n",
       "</div>"
      ],
      "text/plain": [
       "   Unnamed: 0    PostId     PostCreationDate  OwnerUserId  \\\n",
       "0           0   6046168  05/18/2011 14:14:05       543315   \n",
       "1           1   4873911  02/02/2011 11:30:10       465076   \n",
       "2           2   3311559  07/22/2010 17:21:54       406143   \n",
       "3           3   9990413  04/03/2012 09:18:39       851755   \n",
       "4           4  10421966  05/02/2012 21:25:01       603588   \n",
       "\n",
       "     OwnerCreationDate  ReputationAtPostCreation  \\\n",
       "0  09/17/2010 10:15:06                         1   \n",
       "1  10/03/2010 09:30:58                       192   \n",
       "2  07/22/2010 16:58:20                         1   \n",
       "3  07/19/2011 10:22:40                         4   \n",
       "4  02/04/2011 18:05:34                       334   \n",
       "\n",
       "   OwnerUndeletedAnswerCountAtPostTime  \\\n",
       "0                                    2   \n",
       "1                                   24   \n",
       "2                                    0   \n",
       "3                                    1   \n",
       "4                                   14   \n",
       "\n",
       "                                               Title  \\\n",
       "0  For Mongodb is it better to reference an objec...   \n",
       "1  How to insert schemalocation in a xml document...   \n",
       "2                            Too many lookup tables    \n",
       "3                    What is this PHP code in VB.net   \n",
       "4  Spring-Data mongodb querying multiple classes ...   \n",
       "\n",
       "                                        BodyMarkdown        Tag1  \\\n",
       "0  I am building a corpus of indexed sentences in...     mongodb   \n",
       "1  i create a xml document with JAXP and search a...         dom   \n",
       "2  What are the adverse effects of having too man...  sql-server   \n",
       "3  I am looking for the vb.net equivalent of this...         php   \n",
       "4  With Spring-Data, you can use the @Document an...     mongodb   \n",
       "\n",
       "              Tag2   Tag3 Tag4 Tag5       PostClosedDate  OpenStatus  \n",
       "0              NaN    NaN  NaN  NaN                  NaN           1  \n",
       "1              xsd   jaxp  NaN  NaN                  NaN           1  \n",
       "2  database-design  enums  NaN  NaN                  NaN           1  \n",
       "3           vb.net    NaN  NaN  NaN  04/15/2012 21:12:48           0  \n",
       "4      spring-data    NaN  NaN  NaN                  NaN           1  "
      ]
     },
     "execution_count": 18,
     "metadata": {},
     "output_type": "execute_result"
    }
   ],
   "source": [
    "train.head()"
   ]
  },
  {
   "cell_type": "code",
   "execution_count": 19,
   "metadata": {
    "collapsed": false
   },
   "outputs": [
    {
     "data": {
      "text/plain": [
       "(140272, 16)"
      ]
     },
     "execution_count": 19,
     "metadata": {},
     "output_type": "execute_result"
    }
   ],
   "source": [
    "train.shape"
   ]
  },
  {
   "cell_type": "code",
   "execution_count": 22,
   "metadata": {
    "collapsed": false
   },
   "outputs": [
    {
     "data": {
      "text/plain": [
       "1    70136\n",
       "0    70136\n",
       "dtype: int64"
      ]
     },
     "execution_count": 22,
     "metadata": {},
     "output_type": "execute_result"
    }
   ],
   "source": [
    "train.OpenStatus.value_counts()"
   ]
  },
  {
   "cell_type": "code",
   "execution_count": 24,
   "metadata": {
    "collapsed": true
   },
   "outputs": [
    {
     "data": {
      "text/plain": [
       "466534     66\n",
       "39677      51\n",
       "34537      46\n",
       "310291     46\n",
       "32484      45\n",
       "84201      43\n",
       "117700     41\n",
       "4653       40\n",
       "179736     39\n",
       "237681     38\n",
       "325418     37\n",
       "656925     30\n",
       "11236      30\n",
       "554217     29\n",
       "244413     29\n",
       "63051      29\n",
       "496949     27\n",
       "51816      27\n",
       "136141     26\n",
       "54964      26\n",
       "233421     26\n",
       "508127     26\n",
       "149080     25\n",
       "434051     25\n",
       "651174     25\n",
       "108207     25\n",
       "185593     25\n",
       "164299     25\n",
       "478144     24\n",
       "478573     24\n",
       "           ..\n",
       "1174386     1\n",
       "1151869     1\n",
       "107444      1\n",
       "1149822     1\n",
       "1467267     1\n",
       "672647      1\n",
       "408456      1\n",
       "1180559     1\n",
       "187284      1\n",
       "965528      1\n",
       "584530      1\n",
       "64336       1\n",
       "21317       1\n",
       "225876      1\n",
       "455441      1\n",
       "713491      1\n",
       "1231638     1\n",
       "697115      1\n",
       "226081      1\n",
       "744228      1\n",
       "866308      1\n",
       "469802      1\n",
       "1254187     1\n",
       "1555256     1\n",
       "573590      1\n",
       "764730      1\n",
       "632600      1\n",
       "758589      1\n",
       "1018686     1\n",
       "1555040     1\n",
       "dtype: int64"
      ]
     },
     "execution_count": 24,
     "metadata": {},
     "output_type": "execute_result"
    }
   ],
   "source": [
    "train.OwnerUserId.value_counts()"
   ]
  },
  {
   "cell_type": "code",
   "execution_count": 25,
   "metadata": {
    "collapsed": true
   },
   "outputs": [
    {
     "data": {
      "text/html": [
       "<div>\n",
       "<table border=\"1\" class=\"dataframe\">\n",
       "  <thead>\n",
       "    <tr style=\"text-align: right;\">\n",
       "      <th></th>\n",
       "      <th>Unnamed: 0</th>\n",
       "      <th>PostId</th>\n",
       "      <th>OwnerUserId</th>\n",
       "      <th>ReputationAtPostCreation</th>\n",
       "      <th>OwnerUndeletedAnswerCountAtPostTime</th>\n",
       "      <th>OpenStatus</th>\n",
       "    </tr>\n",
       "  </thead>\n",
       "  <tbody>\n",
       "    <tr>\n",
       "      <th>count</th>\n",
       "      <td>66.000000</td>\n",
       "      <td>66.000000</td>\n",
       "      <td>66</td>\n",
       "      <td>66.000000</td>\n",
       "      <td>66.000000</td>\n",
       "      <td>66.000000</td>\n",
       "    </tr>\n",
       "    <tr>\n",
       "      <th>mean</th>\n",
       "      <td>82206.318182</td>\n",
       "      <td>5320862.106061</td>\n",
       "      <td>466534</td>\n",
       "      <td>1333.893939</td>\n",
       "      <td>6.909091</td>\n",
       "      <td>0.166667</td>\n",
       "    </tr>\n",
       "    <tr>\n",
       "      <th>std</th>\n",
       "      <td>44946.098006</td>\n",
       "      <td>2883227.637243</td>\n",
       "      <td>0</td>\n",
       "      <td>851.573912</td>\n",
       "      <td>2.485201</td>\n",
       "      <td>0.375534</td>\n",
       "    </tr>\n",
       "    <tr>\n",
       "      <th>min</th>\n",
       "      <td>1030.000000</td>\n",
       "      <td>2896811.000000</td>\n",
       "      <td>466534</td>\n",
       "      <td>143.000000</td>\n",
       "      <td>3.000000</td>\n",
       "      <td>0.000000</td>\n",
       "    </tr>\n",
       "    <tr>\n",
       "      <th>25%</th>\n",
       "      <td>40058.000000</td>\n",
       "      <td>3216253.000000</td>\n",
       "      <td>466534</td>\n",
       "      <td>710.250000</td>\n",
       "      <td>5.000000</td>\n",
       "      <td>0.000000</td>\n",
       "    </tr>\n",
       "    <tr>\n",
       "      <th>50%</th>\n",
       "      <td>93223.500000</td>\n",
       "      <td>3410805.500000</td>\n",
       "      <td>466534</td>\n",
       "      <td>1115.500000</td>\n",
       "      <td>6.000000</td>\n",
       "      <td>0.000000</td>\n",
       "    </tr>\n",
       "    <tr>\n",
       "      <th>75%</th>\n",
       "      <td>124638.250000</td>\n",
       "      <td>7908864.000000</td>\n",
       "      <td>466534</td>\n",
       "      <td>2209.000000</td>\n",
       "      <td>9.000000</td>\n",
       "      <td>0.000000</td>\n",
       "    </tr>\n",
       "    <tr>\n",
       "      <th>max</th>\n",
       "      <td>139873.000000</td>\n",
       "      <td>11506941.000000</td>\n",
       "      <td>466534</td>\n",
       "      <td>2694.000000</td>\n",
       "      <td>11.000000</td>\n",
       "      <td>1.000000</td>\n",
       "    </tr>\n",
       "  </tbody>\n",
       "</table>\n",
       "</div>"
      ],
      "text/plain": [
       "          Unnamed: 0           PostId  OwnerUserId  ReputationAtPostCreation  \\\n",
       "count      66.000000        66.000000           66                 66.000000   \n",
       "mean    82206.318182   5320862.106061       466534               1333.893939   \n",
       "std     44946.098006   2883227.637243            0                851.573912   \n",
       "min      1030.000000   2896811.000000       466534                143.000000   \n",
       "25%     40058.000000   3216253.000000       466534                710.250000   \n",
       "50%     93223.500000   3410805.500000       466534               1115.500000   \n",
       "75%    124638.250000   7908864.000000       466534               2209.000000   \n",
       "max    139873.000000  11506941.000000       466534               2694.000000   \n",
       "\n",
       "       OwnerUndeletedAnswerCountAtPostTime  OpenStatus  \n",
       "count                            66.000000   66.000000  \n",
       "mean                              6.909091    0.166667  \n",
       "std                               2.485201    0.375534  \n",
       "min                               3.000000    0.000000  \n",
       "25%                               5.000000    0.000000  \n",
       "50%                               6.000000    0.000000  \n",
       "75%                               9.000000    0.000000  \n",
       "max                              11.000000    1.000000  "
      ]
     },
     "execution_count": 25,
     "metadata": {},
     "output_type": "execute_result"
    }
   ],
   "source": [
    "train[train.OwnerUserId==466534].describe()"
   ]
  },
  {
   "cell_type": "code",
   "execution_count": 32,
   "metadata": {
    "collapsed": true
   },
   "outputs": [
    {
     "data": {
      "text/html": [
       "<div>\n",
       "<table border=\"1\" class=\"dataframe\">\n",
       "  <thead>\n",
       "    <tr style=\"text-align: right;\">\n",
       "      <th></th>\n",
       "      <th>mean</th>\n",
       "      <th>count</th>\n",
       "    </tr>\n",
       "    <tr>\n",
       "      <th>OwnerUserId</th>\n",
       "      <th></th>\n",
       "      <th></th>\n",
       "    </tr>\n",
       "  </thead>\n",
       "  <tbody>\n",
       "    <tr>\n",
       "      <th>3</th>\n",
       "      <td>1.000000</td>\n",
       "      <td>1</td>\n",
       "    </tr>\n",
       "    <tr>\n",
       "      <th>927477</th>\n",
       "      <td>1.000000</td>\n",
       "      <td>1</td>\n",
       "    </tr>\n",
       "    <tr>\n",
       "      <th>927474</th>\n",
       "      <td>0.000000</td>\n",
       "      <td>1</td>\n",
       "    </tr>\n",
       "    <tr>\n",
       "      <th>927473</th>\n",
       "      <td>1.000000</td>\n",
       "      <td>1</td>\n",
       "    </tr>\n",
       "    <tr>\n",
       "      <th>927472</th>\n",
       "      <td>0.000000</td>\n",
       "      <td>1</td>\n",
       "    </tr>\n",
       "    <tr>\n",
       "      <th>927438</th>\n",
       "      <td>1.000000</td>\n",
       "      <td>1</td>\n",
       "    </tr>\n",
       "    <tr>\n",
       "      <th>927432</th>\n",
       "      <td>1.000000</td>\n",
       "      <td>1</td>\n",
       "    </tr>\n",
       "    <tr>\n",
       "      <th>927426</th>\n",
       "      <td>0.000000</td>\n",
       "      <td>1</td>\n",
       "    </tr>\n",
       "    <tr>\n",
       "      <th>927479</th>\n",
       "      <td>0.000000</td>\n",
       "      <td>1</td>\n",
       "    </tr>\n",
       "    <tr>\n",
       "      <th>927383</th>\n",
       "      <td>1.000000</td>\n",
       "      <td>1</td>\n",
       "    </tr>\n",
       "    <tr>\n",
       "      <th>927316</th>\n",
       "      <td>0.000000</td>\n",
       "      <td>1</td>\n",
       "    </tr>\n",
       "    <tr>\n",
       "      <th>927313</th>\n",
       "      <td>0.000000</td>\n",
       "      <td>1</td>\n",
       "    </tr>\n",
       "    <tr>\n",
       "      <th>927296</th>\n",
       "      <td>0.000000</td>\n",
       "      <td>1</td>\n",
       "    </tr>\n",
       "    <tr>\n",
       "      <th>927259</th>\n",
       "      <td>1.000000</td>\n",
       "      <td>1</td>\n",
       "    </tr>\n",
       "    <tr>\n",
       "      <th>927250</th>\n",
       "      <td>0.000000</td>\n",
       "      <td>1</td>\n",
       "    </tr>\n",
       "    <tr>\n",
       "      <th>927221</th>\n",
       "      <td>1.000000</td>\n",
       "      <td>1</td>\n",
       "    </tr>\n",
       "    <tr>\n",
       "      <th>927218</th>\n",
       "      <td>0.000000</td>\n",
       "      <td>1</td>\n",
       "    </tr>\n",
       "    <tr>\n",
       "      <th>927370</th>\n",
       "      <td>0.000000</td>\n",
       "      <td>1</td>\n",
       "    </tr>\n",
       "    <tr>\n",
       "      <th>927490</th>\n",
       "      <td>1.000000</td>\n",
       "      <td>1</td>\n",
       "    </tr>\n",
       "    <tr>\n",
       "      <th>927492</th>\n",
       "      <td>0.000000</td>\n",
       "      <td>1</td>\n",
       "    </tr>\n",
       "    <tr>\n",
       "      <th>927516</th>\n",
       "      <td>0.000000</td>\n",
       "      <td>1</td>\n",
       "    </tr>\n",
       "    <tr>\n",
       "      <th>927815</th>\n",
       "      <td>1.000000</td>\n",
       "      <td>1</td>\n",
       "    </tr>\n",
       "    <tr>\n",
       "      <th>927806</th>\n",
       "      <td>0.000000</td>\n",
       "      <td>1</td>\n",
       "    </tr>\n",
       "    <tr>\n",
       "      <th>927777</th>\n",
       "      <td>0.000000</td>\n",
       "      <td>1</td>\n",
       "    </tr>\n",
       "    <tr>\n",
       "      <th>927775</th>\n",
       "      <td>0.000000</td>\n",
       "      <td>1</td>\n",
       "    </tr>\n",
       "    <tr>\n",
       "      <th>927757</th>\n",
       "      <td>1.000000</td>\n",
       "      <td>1</td>\n",
       "    </tr>\n",
       "    <tr>\n",
       "      <th>927748</th>\n",
       "      <td>1.000000</td>\n",
       "      <td>1</td>\n",
       "    </tr>\n",
       "    <tr>\n",
       "      <th>927731</th>\n",
       "      <td>0.000000</td>\n",
       "      <td>1</td>\n",
       "    </tr>\n",
       "    <tr>\n",
       "      <th>927690</th>\n",
       "      <td>1.000000</td>\n",
       "      <td>1</td>\n",
       "    </tr>\n",
       "    <tr>\n",
       "      <th>927684</th>\n",
       "      <td>0.000000</td>\n",
       "      <td>1</td>\n",
       "    </tr>\n",
       "    <tr>\n",
       "      <th>...</th>\n",
       "      <td>...</td>\n",
       "      <td>...</td>\n",
       "    </tr>\n",
       "    <tr>\n",
       "      <th>68183</th>\n",
       "      <td>0.708333</td>\n",
       "      <td>24</td>\n",
       "    </tr>\n",
       "    <tr>\n",
       "      <th>478144</th>\n",
       "      <td>0.708333</td>\n",
       "      <td>24</td>\n",
       "    </tr>\n",
       "    <tr>\n",
       "      <th>108207</th>\n",
       "      <td>0.280000</td>\n",
       "      <td>25</td>\n",
       "    </tr>\n",
       "    <tr>\n",
       "      <th>164299</th>\n",
       "      <td>0.240000</td>\n",
       "      <td>25</td>\n",
       "    </tr>\n",
       "    <tr>\n",
       "      <th>651174</th>\n",
       "      <td>0.640000</td>\n",
       "      <td>25</td>\n",
       "    </tr>\n",
       "    <tr>\n",
       "      <th>149080</th>\n",
       "      <td>0.800000</td>\n",
       "      <td>25</td>\n",
       "    </tr>\n",
       "    <tr>\n",
       "      <th>434051</th>\n",
       "      <td>0.600000</td>\n",
       "      <td>25</td>\n",
       "    </tr>\n",
       "    <tr>\n",
       "      <th>185593</th>\n",
       "      <td>0.880000</td>\n",
       "      <td>25</td>\n",
       "    </tr>\n",
       "    <tr>\n",
       "      <th>136141</th>\n",
       "      <td>0.423077</td>\n",
       "      <td>26</td>\n",
       "    </tr>\n",
       "    <tr>\n",
       "      <th>233421</th>\n",
       "      <td>0.000000</td>\n",
       "      <td>26</td>\n",
       "    </tr>\n",
       "    <tr>\n",
       "      <th>508127</th>\n",
       "      <td>0.384615</td>\n",
       "      <td>26</td>\n",
       "    </tr>\n",
       "    <tr>\n",
       "      <th>54964</th>\n",
       "      <td>0.730769</td>\n",
       "      <td>26</td>\n",
       "    </tr>\n",
       "    <tr>\n",
       "      <th>496949</th>\n",
       "      <td>0.407407</td>\n",
       "      <td>27</td>\n",
       "    </tr>\n",
       "    <tr>\n",
       "      <th>51816</th>\n",
       "      <td>0.481481</td>\n",
       "      <td>27</td>\n",
       "    </tr>\n",
       "    <tr>\n",
       "      <th>244413</th>\n",
       "      <td>0.206897</td>\n",
       "      <td>29</td>\n",
       "    </tr>\n",
       "    <tr>\n",
       "      <th>63051</th>\n",
       "      <td>0.482759</td>\n",
       "      <td>29</td>\n",
       "    </tr>\n",
       "    <tr>\n",
       "      <th>554217</th>\n",
       "      <td>0.379310</td>\n",
       "      <td>29</td>\n",
       "    </tr>\n",
       "    <tr>\n",
       "      <th>656925</th>\n",
       "      <td>0.433333</td>\n",
       "      <td>30</td>\n",
       "    </tr>\n",
       "    <tr>\n",
       "      <th>11236</th>\n",
       "      <td>0.466667</td>\n",
       "      <td>30</td>\n",
       "    </tr>\n",
       "    <tr>\n",
       "      <th>325418</th>\n",
       "      <td>0.783784</td>\n",
       "      <td>37</td>\n",
       "    </tr>\n",
       "    <tr>\n",
       "      <th>237681</th>\n",
       "      <td>0.078947</td>\n",
       "      <td>38</td>\n",
       "    </tr>\n",
       "    <tr>\n",
       "      <th>179736</th>\n",
       "      <td>0.538462</td>\n",
       "      <td>39</td>\n",
       "    </tr>\n",
       "    <tr>\n",
       "      <th>4653</th>\n",
       "      <td>0.650000</td>\n",
       "      <td>40</td>\n",
       "    </tr>\n",
       "    <tr>\n",
       "      <th>117700</th>\n",
       "      <td>0.560976</td>\n",
       "      <td>41</td>\n",
       "    </tr>\n",
       "    <tr>\n",
       "      <th>84201</th>\n",
       "      <td>0.418605</td>\n",
       "      <td>43</td>\n",
       "    </tr>\n",
       "    <tr>\n",
       "      <th>32484</th>\n",
       "      <td>0.422222</td>\n",
       "      <td>45</td>\n",
       "    </tr>\n",
       "    <tr>\n",
       "      <th>310291</th>\n",
       "      <td>0.282609</td>\n",
       "      <td>46</td>\n",
       "    </tr>\n",
       "    <tr>\n",
       "      <th>34537</th>\n",
       "      <td>0.695652</td>\n",
       "      <td>46</td>\n",
       "    </tr>\n",
       "    <tr>\n",
       "      <th>39677</th>\n",
       "      <td>0.686275</td>\n",
       "      <td>51</td>\n",
       "    </tr>\n",
       "    <tr>\n",
       "      <th>466534</th>\n",
       "      <td>0.166667</td>\n",
       "      <td>66</td>\n",
       "    </tr>\n",
       "  </tbody>\n",
       "</table>\n",
       "<p>94215 rows × 2 columns</p>\n",
       "</div>"
      ],
      "text/plain": [
       "                 mean  count\n",
       "OwnerUserId                 \n",
       "3            1.000000      1\n",
       "927477       1.000000      1\n",
       "927474       0.000000      1\n",
       "927473       1.000000      1\n",
       "927472       0.000000      1\n",
       "927438       1.000000      1\n",
       "927432       1.000000      1\n",
       "927426       0.000000      1\n",
       "927479       0.000000      1\n",
       "927383       1.000000      1\n",
       "927316       0.000000      1\n",
       "927313       0.000000      1\n",
       "927296       0.000000      1\n",
       "927259       1.000000      1\n",
       "927250       0.000000      1\n",
       "927221       1.000000      1\n",
       "927218       0.000000      1\n",
       "927370       0.000000      1\n",
       "927490       1.000000      1\n",
       "927492       0.000000      1\n",
       "927516       0.000000      1\n",
       "927815       1.000000      1\n",
       "927806       0.000000      1\n",
       "927777       0.000000      1\n",
       "927775       0.000000      1\n",
       "927757       1.000000      1\n",
       "927748       1.000000      1\n",
       "927731       0.000000      1\n",
       "927690       1.000000      1\n",
       "927684       0.000000      1\n",
       "...               ...    ...\n",
       "68183        0.708333     24\n",
       "478144       0.708333     24\n",
       "108207       0.280000     25\n",
       "164299       0.240000     25\n",
       "651174       0.640000     25\n",
       "149080       0.800000     25\n",
       "434051       0.600000     25\n",
       "185593       0.880000     25\n",
       "136141       0.423077     26\n",
       "233421       0.000000     26\n",
       "508127       0.384615     26\n",
       "54964        0.730769     26\n",
       "496949       0.407407     27\n",
       "51816        0.481481     27\n",
       "244413       0.206897     29\n",
       "63051        0.482759     29\n",
       "554217       0.379310     29\n",
       "656925       0.433333     30\n",
       "11236        0.466667     30\n",
       "325418       0.783784     37\n",
       "237681       0.078947     38\n",
       "179736       0.538462     39\n",
       "4653         0.650000     40\n",
       "117700       0.560976     41\n",
       "84201        0.418605     43\n",
       "32484        0.422222     45\n",
       "310291       0.282609     46\n",
       "34537        0.695652     46\n",
       "39677        0.686275     51\n",
       "466534       0.166667     66\n",
       "\n",
       "[94215 rows x 2 columns]"
      ]
     },
     "execution_count": 32,
     "metadata": {},
     "output_type": "execute_result"
    }
   ],
   "source": [
    "train.groupby('OwnerUserId').OpenStatus.agg(['mean','count']).sort('count')"
   ]
  },
  {
   "cell_type": "code",
   "execution_count": 33,
   "metadata": {
    "collapsed": true
   },
   "outputs": [
    {
     "data": {
      "text/html": [
       "<div>\n",
       "<table border=\"1\" class=\"dataframe\">\n",
       "  <thead>\n",
       "    <tr style=\"text-align: right;\">\n",
       "      <th></th>\n",
       "      <th>Unnamed: 0</th>\n",
       "      <th>PostId</th>\n",
       "      <th>PostCreationDate</th>\n",
       "      <th>OwnerUserId</th>\n",
       "      <th>OwnerCreationDate</th>\n",
       "      <th>ReputationAtPostCreation</th>\n",
       "      <th>OwnerUndeletedAnswerCountAtPostTime</th>\n",
       "      <th>Title</th>\n",
       "      <th>BodyMarkdown</th>\n",
       "      <th>Tag1</th>\n",
       "      <th>Tag2</th>\n",
       "      <th>Tag3</th>\n",
       "      <th>Tag4</th>\n",
       "      <th>Tag5</th>\n",
       "      <th>PostClosedDate</th>\n",
       "      <th>OpenStatus</th>\n",
       "    </tr>\n",
       "  </thead>\n",
       "  <tbody>\n",
       "    <tr>\n",
       "      <th>24933</th>\n",
       "      <td>24933</td>\n",
       "      <td>6548713</td>\n",
       "      <td>07/01/2011 13:39:29</td>\n",
       "      <td>185593</td>\n",
       "      <td>10/07/2009 12:17:02</td>\n",
       "      <td>4881</td>\n",
       "      <td>193</td>\n",
       "      <td>Extension methods and Enums</td>\n",
       "      <td>I have a Enum\\r\\n\\r\\n\\r\\n    Public Enum MyEnu...</td>\n",
       "      <td>.net</td>\n",
       "      <td>enums</td>\n",
       "      <td>extension-methods</td>\n",
       "      <td>NaN</td>\n",
       "      <td>NaN</td>\n",
       "      <td>NaN</td>\n",
       "      <td>1</td>\n",
       "    </tr>\n",
       "    <tr>\n",
       "      <th>39215</th>\n",
       "      <td>39215</td>\n",
       "      <td>2057437</td>\n",
       "      <td>01/13/2010 14:48:11</td>\n",
       "      <td>185593</td>\n",
       "      <td>10/07/2009 12:17:02</td>\n",
       "      <td>1468</td>\n",
       "      <td>91</td>\n",
       "      <td>usage of 'using' in .NET</td>\n",
       "      <td>In the example above, will the returned `pen` ...</td>\n",
       "      <td>.net</td>\n",
       "      <td>using</td>\n",
       "      <td>NaN</td>\n",
       "      <td>NaN</td>\n",
       "      <td>NaN</td>\n",
       "      <td>NaN</td>\n",
       "      <td>1</td>\n",
       "    </tr>\n",
       "    <tr>\n",
       "      <th>42729</th>\n",
       "      <td>42729</td>\n",
       "      <td>5677316</td>\n",
       "      <td>04/15/2011 13:13:35</td>\n",
       "      <td>185593</td>\n",
       "      <td>10/07/2009 12:17:02</td>\n",
       "      <td>4473</td>\n",
       "      <td>187</td>\n",
       "      <td>DataRepeater control in WPF ?</td>\n",
       "      <td>Is there something similar to [DataRepeater][1...</td>\n",
       "      <td>.net</td>\n",
       "      <td>wpf</td>\n",
       "      <td>wpf-controls</td>\n",
       "      <td>NaN</td>\n",
       "      <td>NaN</td>\n",
       "      <td>NaN</td>\n",
       "      <td>1</td>\n",
       "    </tr>\n",
       "    <tr>\n",
       "      <th>49082</th>\n",
       "      <td>49082</td>\n",
       "      <td>2690044</td>\n",
       "      <td>04/22/2010 10:43:17</td>\n",
       "      <td>185593</td>\n",
       "      <td>10/07/2009 12:17:02</td>\n",
       "      <td>2728</td>\n",
       "      <td>132</td>\n",
       "      <td>Display ToolStrip ColorPicker .Net</td>\n",
       "      <td>Is there something similar in .NET components ...</td>\n",
       "      <td>.net</td>\n",
       "      <td>winforms</td>\n",
       "      <td>color-picker</td>\n",
       "      <td>NaN</td>\n",
       "      <td>NaN</td>\n",
       "      <td>NaN</td>\n",
       "      <td>1</td>\n",
       "    </tr>\n",
       "    <tr>\n",
       "      <th>55128</th>\n",
       "      <td>55128</td>\n",
       "      <td>4408428</td>\n",
       "      <td>12/10/2010 11:37:38</td>\n",
       "      <td>185593</td>\n",
       "      <td>10/07/2009 12:17:02</td>\n",
       "      <td>3919</td>\n",
       "      <td>182</td>\n",
       "      <td>Double as ConverterParameter</td>\n",
       "      <td>I have to convrt a double to other using a con...</td>\n",
       "      <td>.net</td>\n",
       "      <td>wpf</td>\n",
       "      <td>xaml</td>\n",
       "      <td>converter</td>\n",
       "      <td>NaN</td>\n",
       "      <td>NaN</td>\n",
       "      <td>1</td>\n",
       "    </tr>\n",
       "    <tr>\n",
       "      <th>59617</th>\n",
       "      <td>59617</td>\n",
       "      <td>5231087</td>\n",
       "      <td>03/08/2011 10:18:30</td>\n",
       "      <td>185593</td>\n",
       "      <td>10/07/2009 12:17:02</td>\n",
       "      <td>4251</td>\n",
       "      <td>185</td>\n",
       "      <td>Always display full list of tools in the (Infr...</td>\n",
       "      <td>I use some UltraToolbars in a form, and that t...</td>\n",
       "      <td>.net</td>\n",
       "      <td>winforms</td>\n",
       "      <td>infragistics</td>\n",
       "      <td>NaN</td>\n",
       "      <td>NaN</td>\n",
       "      <td>NaN</td>\n",
       "      <td>1</td>\n",
       "    </tr>\n",
       "    <tr>\n",
       "      <th>60114</th>\n",
       "      <td>60114</td>\n",
       "      <td>4077418</td>\n",
       "      <td>11/02/2010 12:03:29</td>\n",
       "      <td>185593</td>\n",
       "      <td>10/07/2009 12:17:02</td>\n",
       "      <td>3592</td>\n",
       "      <td>176</td>\n",
       "      <td>Does null == null?</td>\n",
       "      <td>I have an object of type `Foo`.  \\r\\nFoo has a...</td>\n",
       "      <td>.net</td>\n",
       "      <td>equality</td>\n",
       "      <td>basics</td>\n",
       "      <td>NaN</td>\n",
       "      <td>NaN</td>\n",
       "      <td>NaN</td>\n",
       "      <td>1</td>\n",
       "    </tr>\n",
       "    <tr>\n",
       "      <th>60920</th>\n",
       "      <td>60920</td>\n",
       "      <td>6550396</td>\n",
       "      <td>07/01/2011 16:04:53</td>\n",
       "      <td>185593</td>\n",
       "      <td>10/07/2009 12:17:02</td>\n",
       "      <td>4885</td>\n",
       "      <td>193</td>\n",
       "      <td>Generics and Enumerations</td>\n",
       "      <td>How to use(constraint) an `Enumeration` as a `...</td>\n",
       "      <td>.net</td>\n",
       "      <td>generics</td>\n",
       "      <td>enums</td>\n",
       "      <td>NaN</td>\n",
       "      <td>NaN</td>\n",
       "      <td>NaN</td>\n",
       "      <td>1</td>\n",
       "    </tr>\n",
       "    <tr>\n",
       "      <th>65144</th>\n",
       "      <td>65144</td>\n",
       "      <td>5981298</td>\n",
       "      <td>05/12/2011 16:30:07</td>\n",
       "      <td>185593</td>\n",
       "      <td>10/07/2009 12:17:02</td>\n",
       "      <td>4692</td>\n",
       "      <td>190</td>\n",
       "      <td>Equals vs GetHashCode when comparing objects</td>\n",
       "      <td>Should we override both `Equals` and `GetHashC...</td>\n",
       "      <td>.net</td>\n",
       "      <td>comparison</td>\n",
       "      <td>equals</td>\n",
       "      <td>gethashcode</td>\n",
       "      <td>NaN</td>\n",
       "      <td>NaN</td>\n",
       "      <td>1</td>\n",
       "    </tr>\n",
       "    <tr>\n",
       "      <th>75655</th>\n",
       "      <td>75655</td>\n",
       "      <td>3735522</td>\n",
       "      <td>09/17/2010 13:04:59</td>\n",
       "      <td>185593</td>\n",
       "      <td>10/07/2009 12:17:02</td>\n",
       "      <td>3548</td>\n",
       "      <td>176</td>\n",
       "      <td>Redirect log4net log in the User Directory</td>\n",
       "      <td>I have a program that uses log4net. It logs di...</td>\n",
       "      <td>.net</td>\n",
       "      <td>log4net</td>\n",
       "      <td>NaN</td>\n",
       "      <td>NaN</td>\n",
       "      <td>NaN</td>\n",
       "      <td>NaN</td>\n",
       "      <td>1</td>\n",
       "    </tr>\n",
       "  </tbody>\n",
       "</table>\n",
       "</div>"
      ],
      "text/plain": [
       "       Unnamed: 0   PostId     PostCreationDate  OwnerUserId  \\\n",
       "24933       24933  6548713  07/01/2011 13:39:29       185593   \n",
       "39215       39215  2057437  01/13/2010 14:48:11       185593   \n",
       "42729       42729  5677316  04/15/2011 13:13:35       185593   \n",
       "49082       49082  2690044  04/22/2010 10:43:17       185593   \n",
       "55128       55128  4408428  12/10/2010 11:37:38       185593   \n",
       "59617       59617  5231087  03/08/2011 10:18:30       185593   \n",
       "60114       60114  4077418  11/02/2010 12:03:29       185593   \n",
       "60920       60920  6550396  07/01/2011 16:04:53       185593   \n",
       "65144       65144  5981298  05/12/2011 16:30:07       185593   \n",
       "75655       75655  3735522  09/17/2010 13:04:59       185593   \n",
       "\n",
       "         OwnerCreationDate  ReputationAtPostCreation  \\\n",
       "24933  10/07/2009 12:17:02                      4881   \n",
       "39215  10/07/2009 12:17:02                      1468   \n",
       "42729  10/07/2009 12:17:02                      4473   \n",
       "49082  10/07/2009 12:17:02                      2728   \n",
       "55128  10/07/2009 12:17:02                      3919   \n",
       "59617  10/07/2009 12:17:02                      4251   \n",
       "60114  10/07/2009 12:17:02                      3592   \n",
       "60920  10/07/2009 12:17:02                      4885   \n",
       "65144  10/07/2009 12:17:02                      4692   \n",
       "75655  10/07/2009 12:17:02                      3548   \n",
       "\n",
       "       OwnerUndeletedAnswerCountAtPostTime  \\\n",
       "24933                                  193   \n",
       "39215                                   91   \n",
       "42729                                  187   \n",
       "49082                                  132   \n",
       "55128                                  182   \n",
       "59617                                  185   \n",
       "60114                                  176   \n",
       "60920                                  193   \n",
       "65144                                  190   \n",
       "75655                                  176   \n",
       "\n",
       "                                                   Title  \\\n",
       "24933                        Extension methods and Enums   \n",
       "39215                           usage of 'using' in .NET   \n",
       "42729                      DataRepeater control in WPF ?   \n",
       "49082                 Display ToolStrip ColorPicker .Net   \n",
       "55128                       Double as ConverterParameter   \n",
       "59617  Always display full list of tools in the (Infr...   \n",
       "60114                                 Does null == null?   \n",
       "60920                          Generics and Enumerations   \n",
       "65144       Equals vs GetHashCode when comparing objects   \n",
       "75655         Redirect log4net log in the User Directory   \n",
       "\n",
       "                                            BodyMarkdown  Tag1        Tag2  \\\n",
       "24933  I have a Enum\\r\\n\\r\\n\\r\\n    Public Enum MyEnu...  .net       enums   \n",
       "39215  In the example above, will the returned `pen` ...  .net       using   \n",
       "42729  Is there something similar to [DataRepeater][1...  .net         wpf   \n",
       "49082  Is there something similar in .NET components ...  .net    winforms   \n",
       "55128  I have to convrt a double to other using a con...  .net         wpf   \n",
       "59617  I use some UltraToolbars in a form, and that t...  .net    winforms   \n",
       "60114  I have an object of type `Foo`.  \\r\\nFoo has a...  .net    equality   \n",
       "60920  How to use(constraint) an `Enumeration` as a `...  .net    generics   \n",
       "65144  Should we override both `Equals` and `GetHashC...  .net  comparison   \n",
       "75655  I have a program that uses log4net. It logs di...  .net     log4net   \n",
       "\n",
       "                    Tag3         Tag4 Tag5 PostClosedDate  OpenStatus  \n",
       "24933  extension-methods          NaN  NaN            NaN           1  \n",
       "39215                NaN          NaN  NaN            NaN           1  \n",
       "42729       wpf-controls          NaN  NaN            NaN           1  \n",
       "49082       color-picker          NaN  NaN            NaN           1  \n",
       "55128               xaml    converter  NaN            NaN           1  \n",
       "59617       infragistics          NaN  NaN            NaN           1  \n",
       "60114             basics          NaN  NaN            NaN           1  \n",
       "60920              enums          NaN  NaN            NaN           1  \n",
       "65144             equals  gethashcode  NaN            NaN           1  \n",
       "75655                NaN          NaN  NaN            NaN           1  "
      ]
     },
     "execution_count": 33,
     "metadata": {},
     "output_type": "execute_result"
    }
   ],
   "source": [
    "train[train.OwnerUserId==185593].head(10)"
   ]
  },
  {
   "cell_type": "code",
   "execution_count": 34,
   "metadata": {
    "collapsed": false
   },
   "outputs": [
    {
     "data": {
      "text/html": [
       "<div>\n",
       "<table border=\"1\" class=\"dataframe\">\n",
       "  <thead>\n",
       "    <tr style=\"text-align: right;\">\n",
       "      <th></th>\n",
       "      <th>count</th>\n",
       "      <th>mean</th>\n",
       "      <th>std</th>\n",
       "      <th>min</th>\n",
       "      <th>25%</th>\n",
       "      <th>50%</th>\n",
       "      <th>75%</th>\n",
       "      <th>max</th>\n",
       "    </tr>\n",
       "    <tr>\n",
       "      <th>OpenStatus</th>\n",
       "      <th></th>\n",
       "      <th></th>\n",
       "      <th></th>\n",
       "      <th></th>\n",
       "      <th></th>\n",
       "      <th></th>\n",
       "      <th></th>\n",
       "      <th></th>\n",
       "    </tr>\n",
       "  </thead>\n",
       "  <tbody>\n",
       "    <tr>\n",
       "      <th>0</th>\n",
       "      <td>70136</td>\n",
       "      <td>355.813063</td>\n",
       "      <td>1917.610162</td>\n",
       "      <td>-17</td>\n",
       "      <td>1</td>\n",
       "      <td>18</td>\n",
       "      <td>148</td>\n",
       "      <td>123242</td>\n",
       "    </tr>\n",
       "    <tr>\n",
       "      <th>1</th>\n",
       "      <td>70136</td>\n",
       "      <td>657.454745</td>\n",
       "      <td>2955.744169</td>\n",
       "      <td>-34</td>\n",
       "      <td>6</td>\n",
       "      <td>64</td>\n",
       "      <td>394</td>\n",
       "      <td>209631</td>\n",
       "    </tr>\n",
       "  </tbody>\n",
       "</table>\n",
       "</div>"
      ],
      "text/plain": [
       "            count        mean          std  min  25%  50%  75%     max\n",
       "OpenStatus                                                            \n",
       "0           70136  355.813063  1917.610162  -17    1   18  148  123242\n",
       "1           70136  657.454745  2955.744169  -34    6   64  394  209631"
      ]
     },
     "execution_count": 34,
     "metadata": {},
     "output_type": "execute_result"
    }
   ],
   "source": [
    "train.groupby('OpenStatus').ReputationAtPostCreation.describe().unstack()"
   ]
  },
  {
   "cell_type": "code",
   "execution_count": 43,
   "metadata": {
    "collapsed": false
   },
   "outputs": [
    {
     "data": {
      "text/plain": [
       "array([<matplotlib.axes._subplots.AxesSubplot object at 0x00000000267EC208>,\n",
       "       <matplotlib.axes._subplots.AxesSubplot object at 0x000000002A0841D0>], dtype=object)"
      ]
     },
     "execution_count": 43,
     "metadata": {},
     "output_type": "execute_result"
    },
    {
     "data": {
      "image/png": "[encoded data removed]",
      "text/plain": [
       "<matplotlib.figure.Figure at 0x2a121710>"
      ]
     },
     "metadata": {},
     "output_type": "display_data"
    }
   ],
   "source": [
    "%matplotlib inline\n",
    "train[train.ReputationAtPostCreation<1000].hist(column='ReputationAtPostCreation',by='OpenStatus')"
   ]
  },
  {
   "cell_type": "code",
   "execution_count": 51,
   "metadata": {
    "collapsed": false
   },
   "outputs": [],
   "source": [
    "train.rename(columns={'OwnerUndeletedAnswerCountAtPostTime':'Answers'},inplace = True)"
   ]
  },
  {
   "cell_type": "code",
   "execution_count": 52,
   "metadata": {
    "collapsed": false
   },
   "outputs": [
    {
     "data": {
      "text/html": [
       "<div>\n",
       "<table border=\"1\" class=\"dataframe\">\n",
       "  <thead>\n",
       "    <tr style=\"text-align: right;\">\n",
       "      <th></th>\n",
       "      <th>count</th>\n",
       "      <th>mean</th>\n",
       "      <th>std</th>\n",
       "      <th>min</th>\n",
       "      <th>25%</th>\n",
       "      <th>50%</th>\n",
       "      <th>75%</th>\n",
       "      <th>max</th>\n",
       "    </tr>\n",
       "    <tr>\n",
       "      <th>OpenStatus</th>\n",
       "      <th></th>\n",
       "      <th></th>\n",
       "      <th></th>\n",
       "      <th></th>\n",
       "      <th></th>\n",
       "      <th></th>\n",
       "      <th></th>\n",
       "      <th></th>\n",
       "    </tr>\n",
       "  </thead>\n",
       "  <tbody>\n",
       "    <tr>\n",
       "      <th>0</th>\n",
       "      <td>70136</td>\n",
       "      <td>13.529956</td>\n",
       "      <td>72.280095</td>\n",
       "      <td>0</td>\n",
       "      <td>0</td>\n",
       "      <td>0</td>\n",
       "      <td>5</td>\n",
       "      <td>5772</td>\n",
       "    </tr>\n",
       "    <tr>\n",
       "      <th>1</th>\n",
       "      <td>70136</td>\n",
       "      <td>25.405826</td>\n",
       "      <td>104.635848</td>\n",
       "      <td>0</td>\n",
       "      <td>0</td>\n",
       "      <td>2</td>\n",
       "      <td>13</td>\n",
       "      <td>5117</td>\n",
       "    </tr>\n",
       "  </tbody>\n",
       "</table>\n",
       "</div>"
      ],
      "text/plain": [
       "            count       mean         std  min  25%  50%  75%   max\n",
       "OpenStatus                                                        \n",
       "0           70136  13.529956   72.280095    0    0    0    5  5772\n",
       "1           70136  25.405826  104.635848    0    0    2   13  5117"
      ]
     },
     "execution_count": 52,
     "metadata": {},
     "output_type": "execute_result"
    }
   ],
   "source": [
    "train.groupby('OpenStatus').Answers.describe().unstack()"
   ]
  },
  {
   "cell_type": "code",
   "execution_count": 54,
   "metadata": {
    "collapsed": false
   },
   "outputs": [],
   "source": [
    "train['TitleLength'] = train.Title.apply(len)"
   ]
  },
  {
   "cell_type": "code",
   "execution_count": 55,
   "metadata": {
    "collapsed": false
   },
   "outputs": [
    {
     "data": {
      "text/html": [
       "<div>\n",
       "<table border=\"1\" class=\"dataframe\">\n",
       "  <thead>\n",
       "    <tr style=\"text-align: right;\">\n",
       "      <th></th>\n",
       "      <th>Unnamed: 0</th>\n",
       "      <th>PostId</th>\n",
       "      <th>PostCreationDate</th>\n",
       "      <th>OwnerUserId</th>\n",
       "      <th>OwnerCreationDate</th>\n",
       "      <th>ReputationAtPostCreation</th>\n",
       "      <th>Answers</th>\n",
       "      <th>Title</th>\n",
       "      <th>BodyMarkdown</th>\n",
       "      <th>Tag1</th>\n",
       "      <th>Tag2</th>\n",
       "      <th>Tag3</th>\n",
       "      <th>Tag4</th>\n",
       "      <th>Tag5</th>\n",
       "      <th>PostClosedDate</th>\n",
       "      <th>OpenStatus</th>\n",
       "      <th>TitleLength</th>\n",
       "    </tr>\n",
       "  </thead>\n",
       "  <tbody>\n",
       "    <tr>\n",
       "      <th>0</th>\n",
       "      <td>0</td>\n",
       "      <td>6046168</td>\n",
       "      <td>05/18/2011 14:14:05</td>\n",
       "      <td>543315</td>\n",
       "      <td>09/17/2010 10:15:06</td>\n",
       "      <td>1</td>\n",
       "      <td>2</td>\n",
       "      <td>For Mongodb is it better to reference an objec...</td>\n",
       "      <td>I am building a corpus of indexed sentences in...</td>\n",
       "      <td>mongodb</td>\n",
       "      <td>NaN</td>\n",
       "      <td>NaN</td>\n",
       "      <td>NaN</td>\n",
       "      <td>NaN</td>\n",
       "      <td>NaN</td>\n",
       "      <td>1</td>\n",
       "      <td>76</td>\n",
       "    </tr>\n",
       "    <tr>\n",
       "      <th>1</th>\n",
       "      <td>1</td>\n",
       "      <td>4873911</td>\n",
       "      <td>02/02/2011 11:30:10</td>\n",
       "      <td>465076</td>\n",
       "      <td>10/03/2010 09:30:58</td>\n",
       "      <td>192</td>\n",
       "      <td>24</td>\n",
       "      <td>How to insert schemalocation in a xml document...</td>\n",
       "      <td>i create a xml document with JAXP and search a...</td>\n",
       "      <td>dom</td>\n",
       "      <td>xsd</td>\n",
       "      <td>jaxp</td>\n",
       "      <td>NaN</td>\n",
       "      <td>NaN</td>\n",
       "      <td>NaN</td>\n",
       "      <td>1</td>\n",
       "      <td>54</td>\n",
       "    </tr>\n",
       "    <tr>\n",
       "      <th>2</th>\n",
       "      <td>2</td>\n",
       "      <td>3311559</td>\n",
       "      <td>07/22/2010 17:21:54</td>\n",
       "      <td>406143</td>\n",
       "      <td>07/22/2010 16:58:20</td>\n",
       "      <td>1</td>\n",
       "      <td>0</td>\n",
       "      <td>Too many lookup tables</td>\n",
       "      <td>What are the adverse effects of having too man...</td>\n",
       "      <td>sql-server</td>\n",
       "      <td>database-design</td>\n",
       "      <td>enums</td>\n",
       "      <td>NaN</td>\n",
       "      <td>NaN</td>\n",
       "      <td>NaN</td>\n",
       "      <td>1</td>\n",
       "      <td>23</td>\n",
       "    </tr>\n",
       "    <tr>\n",
       "      <th>3</th>\n",
       "      <td>3</td>\n",
       "      <td>9990413</td>\n",
       "      <td>04/03/2012 09:18:39</td>\n",
       "      <td>851755</td>\n",
       "      <td>07/19/2011 10:22:40</td>\n",
       "      <td>4</td>\n",
       "      <td>1</td>\n",
       "      <td>What is this PHP code in VB.net</td>\n",
       "      <td>I am looking for the vb.net equivalent of this...</td>\n",
       "      <td>php</td>\n",
       "      <td>vb.net</td>\n",
       "      <td>NaN</td>\n",
       "      <td>NaN</td>\n",
       "      <td>NaN</td>\n",
       "      <td>04/15/2012 21:12:48</td>\n",
       "      <td>0</td>\n",
       "      <td>31</td>\n",
       "    </tr>\n",
       "    <tr>\n",
       "      <th>4</th>\n",
       "      <td>4</td>\n",
       "      <td>10421966</td>\n",
       "      <td>05/02/2012 21:25:01</td>\n",
       "      <td>603588</td>\n",
       "      <td>02/04/2011 18:05:34</td>\n",
       "      <td>334</td>\n",
       "      <td>14</td>\n",
       "      <td>Spring-Data mongodb querying multiple classes ...</td>\n",
       "      <td>With Spring-Data, you can use the @Document an...</td>\n",
       "      <td>mongodb</td>\n",
       "      <td>spring-data</td>\n",
       "      <td>NaN</td>\n",
       "      <td>NaN</td>\n",
       "      <td>NaN</td>\n",
       "      <td>NaN</td>\n",
       "      <td>1</td>\n",
       "      <td>75</td>\n",
       "    </tr>\n",
       "  </tbody>\n",
       "</table>\n",
       "</div>"
      ],
      "text/plain": [
       "   Unnamed: 0    PostId     PostCreationDate  OwnerUserId  \\\n",
       "0           0   6046168  05/18/2011 14:14:05       543315   \n",
       "1           1   4873911  02/02/2011 11:30:10       465076   \n",
       "2           2   3311559  07/22/2010 17:21:54       406143   \n",
       "3           3   9990413  04/03/2012 09:18:39       851755   \n",
       "4           4  10421966  05/02/2012 21:25:01       603588   \n",
       "\n",
       "     OwnerCreationDate  ReputationAtPostCreation  Answers  \\\n",
       "0  09/17/2010 10:15:06                         1        2   \n",
       "1  10/03/2010 09:30:58                       192       24   \n",
       "2  07/22/2010 16:58:20                         1        0   \n",
       "3  07/19/2011 10:22:40                         4        1   \n",
       "4  02/04/2011 18:05:34                       334       14   \n",
       "\n",
       "                                               Title  \\\n",
       "0  For Mongodb is it better to reference an objec...   \n",
       "1  How to insert schemalocation in a xml document...   \n",
       "2                            Too many lookup tables    \n",
       "3                    What is this PHP code in VB.net   \n",
       "4  Spring-Data mongodb querying multiple classes ...   \n",
       "\n",
       "                                        BodyMarkdown        Tag1  \\\n",
       "0  I am building a corpus of indexed sentences in...     mongodb   \n",
       "1  i create a xml document with JAXP and search a...         dom   \n",
       "2  What are the adverse effects of having too man...  sql-server   \n",
       "3  I am looking for the vb.net equivalent of this...         php   \n",
       "4  With Spring-Data, you can use the @Document an...     mongodb   \n",
       "\n",
       "              Tag2   Tag3 Tag4 Tag5       PostClosedDate  OpenStatus  \\\n",
       "0              NaN    NaN  NaN  NaN                  NaN           1   \n",
       "1              xsd   jaxp  NaN  NaN                  NaN           1   \n",
       "2  database-design  enums  NaN  NaN                  NaN           1   \n",
       "3           vb.net    NaN  NaN  NaN  04/15/2012 21:12:48           0   \n",
       "4      spring-data    NaN  NaN  NaN                  NaN           1   \n",
       "\n",
       "   TitleLength  \n",
       "0           76  \n",
       "1           54  \n",
       "2           23  \n",
       "3           31  \n",
       "4           75  "
      ]
     },
     "execution_count": 55,
     "metadata": {},
     "output_type": "execute_result"
    }
   ],
   "source": [
    "train.head()"
   ]
  },
  {
   "cell_type": "code",
   "execution_count": 56,
   "metadata": {
    "collapsed": false
   },
   "outputs": [
    {
     "data": {
      "text/html": [
       "<div>\n",
       "<table border=\"1\" class=\"dataframe\">\n",
       "  <thead>\n",
       "    <tr style=\"text-align: right;\">\n",
       "      <th></th>\n",
       "      <th>count</th>\n",
       "      <th>mean</th>\n",
       "      <th>std</th>\n",
       "      <th>min</th>\n",
       "      <th>25%</th>\n",
       "      <th>50%</th>\n",
       "      <th>75%</th>\n",
       "      <th>max</th>\n",
       "    </tr>\n",
       "    <tr>\n",
       "      <th>OpenStatus</th>\n",
       "      <th></th>\n",
       "      <th></th>\n",
       "      <th></th>\n",
       "      <th></th>\n",
       "      <th></th>\n",
       "      <th></th>\n",
       "      <th></th>\n",
       "      <th></th>\n",
       "    </tr>\n",
       "  </thead>\n",
       "  <tbody>\n",
       "    <tr>\n",
       "      <th>0</th>\n",
       "      <td>70136</td>\n",
       "      <td>45.917432</td>\n",
       "      <td>20.424803</td>\n",
       "      <td>10</td>\n",
       "      <td>31</td>\n",
       "      <td>42</td>\n",
       "      <td>57</td>\n",
       "      <td>250</td>\n",
       "    </tr>\n",
       "    <tr>\n",
       "      <th>1</th>\n",
       "      <td>70136</td>\n",
       "      <td>50.423577</td>\n",
       "      <td>20.115321</td>\n",
       "      <td>10</td>\n",
       "      <td>36</td>\n",
       "      <td>48</td>\n",
       "      <td>62</td>\n",
       "      <td>249</td>\n",
       "    </tr>\n",
       "  </tbody>\n",
       "</table>\n",
       "</div>"
      ],
      "text/plain": [
       "            count       mean        std  min  25%  50%  75%  max\n",
       "OpenStatus                                                      \n",
       "0           70136  45.917432  20.424803   10   31   42   57  250\n",
       "1           70136  50.423577  20.115321   10   36   48   62  249"
      ]
     },
     "execution_count": 56,
     "metadata": {},
     "output_type": "execute_result"
    }
   ],
   "source": [
    "train.groupby('OpenStatus').TitleLength.describe().unstack()"
   ]
  },
  {
   "cell_type": "code",
   "execution_count": 99,
   "metadata": {
    "collapsed": true
   },
   "outputs": [],
   "source": [
    "def make_features(filename):\n",
    "    df = pd.read_csv(filename, index_col = 0)\n",
    "    df.rename(columns={'OwnerUndeletedAnswerCountAtPostTime':'Answers'},inplace = True)\n",
    "    df['TitleLength'] = df.Title.apply(len)\n",
    "    return df"
   ]
  },
  {
   "cell_type": "code",
   "execution_count": 100,
   "metadata": {
    "collapsed": false
   },
   "outputs": [],
   "source": [
    "train = make_features('train.csv')"
   ]
  },
  {
   "cell_type": "code",
   "execution_count": 101,
   "metadata": {
    "collapsed": false
   },
   "outputs": [],
   "source": [
    "test = make_features('test.csv')"
   ]
  },
  {
   "cell_type": "code",
   "execution_count": 61,
   "metadata": {
    "collapsed": true
   },
   "outputs": [],
   "source": [
    "feature_cols = ['ReputationAtPostCreation','Answers','TitleLength']"
   ]
  },
  {
   "cell_type": "code",
   "execution_count": 62,
   "metadata": {
    "collapsed": true
   },
   "outputs": [],
   "source": [
    "X = train[feature_cols]\n",
    "y = train.OpenStatus"
   ]
  },
  {
   "cell_type": "code",
   "execution_count": 78,
   "metadata": {
    "collapsed": false
   },
   "outputs": [],
   "source": [
    "from sklearn.cross_validation import train_test_split\n",
    "X_train,X_test,y_train,y_test=train_test_split(X,y,random_state=1)"
   ]
  },
  {
   "cell_type": "code",
   "execution_count": 66,
   "metadata": {
    "collapsed": false
   },
   "outputs": [],
   "source": [
    "from sklearn.linear_model import LogisticRegression\n",
    "logreg = LogisticRegression(C=1e9)"
   ]
  },
  {
   "cell_type": "code",
   "execution_count": 69,
   "metadata": {
    "collapsed": false
   },
   "outputs": [
    {
     "data": {
      "text/plain": [
       "LogisticRegression(C=1000000000.0, class_weight=None, dual=False,\n",
       "          fit_intercept=True, intercept_scaling=1, max_iter=100,\n",
       "          multi_class='ovr', penalty='l2', random_state=None,\n",
       "          solver='liblinear', tol=0.0001, verbose=0)"
      ]
     },
     "execution_count": 69,
     "metadata": {},
     "output_type": "execute_result"
    }
   ],
   "source": [
    "logreg.fit(X,y)"
   ]
  },
  {
   "cell_type": "code",
   "execution_count": 70,
   "metadata": {
    "collapsed": false
   },
   "outputs": [
    {
     "data": {
      "text/plain": [
       "array([[  2.18870743e-05,   1.81818211e-03,   1.06905739e-02]])"
      ]
     },
     "execution_count": 70,
     "metadata": {},
     "output_type": "execute_result"
    }
   ],
   "source": [
    "logreg.coef_"
   ]
  },
  {
   "cell_type": "code",
   "execution_count": 71,
   "metadata": {
    "collapsed": false
   },
   "outputs": [
    {
     "data": {
      "text/plain": [
       "['ReputationAtPostCreation', 'Answers', 'TitleLength']"
      ]
     },
     "execution_count": 71,
     "metadata": {},
     "output_type": "execute_result"
    }
   ],
   "source": [
    "feature_cols"
   ]
  },
  {
   "cell_type": "code",
   "execution_count": 72,
   "metadata": {
    "collapsed": false
   },
   "outputs": [
    {
     "data": {
      "text/plain": [
       "[('ReputationAtPostCreation',\n",
       "  array([  2.18870743e-05,   1.81818211e-03,   1.06905739e-02]))]"
      ]
     },
     "execution_count": 72,
     "metadata": {},
     "output_type": "execute_result"
    }
   ],
   "source": [
    "zip(feature_cols,logreg.coef_)"
   ]
  },
  {
   "cell_type": "code",
   "execution_count": 73,
   "metadata": {
    "collapsed": true
   },
   "outputs": [],
   "source": [
    "y_pred_class = logreg.predict(X_test)\n",
    "y_pred_prob = logreg.predict_proba(X_test)[:,1]"
   ]
  },
  {
   "cell_type": "code",
   "execution_count": 75,
   "metadata": {
    "collapsed": false
   },
   "outputs": [
    {
     "data": {
      "text/plain": [
       "array([0, 0, 0, ..., 0, 0, 0], dtype=int64)"
      ]
     },
     "execution_count": 75,
     "metadata": {},
     "output_type": "execute_result"
    }
   ],
   "source": [
    "y_pred_class"
   ]
  },
  {
   "cell_type": "code",
   "execution_count": 76,
   "metadata": {
    "collapsed": false
   },
   "outputs": [
    {
     "data": {
      "text/plain": [
       "array([ 0.48675189,  0.43483457,  0.47609239, ...,  0.44531668,\n",
       "        0.45395771,  0.43310177])"
      ]
     },
     "execution_count": 76,
     "metadata": {},
     "output_type": "execute_result"
    }
   ],
   "source": [
    "y_pred_prob"
   ]
  },
  {
   "cell_type": "code",
   "execution_count": 80,
   "metadata": {
    "collapsed": false,
    "scrolled": true
   },
   "outputs": [
    {
     "data": {
      "text/plain": [
       "0.56344815786472002"
      ]
     },
     "execution_count": 80,
     "metadata": {},
     "output_type": "execute_result"
    }
   ],
   "source": [
    "from sklearn import metrics\n",
    "metrics.accuracy_score(y_test, y_pred_class)"
   ]
  },
  {
   "cell_type": "code",
   "execution_count": 82,
   "metadata": {
    "collapsed": false
   },
   "outputs": [
    {
     "data": {
      "text/plain": [
       "array([[11156,  6355],\n",
       "       [ 8954,  8603]])"
      ]
     },
     "execution_count": 82,
     "metadata": {},
     "output_type": "execute_result"
    }
   ],
   "source": [
    "metrics.confusion_matrix(y_test,y_pred_class)"
   ]
  },
  {
   "cell_type": "code",
   "execution_count": 84,
   "metadata": {
    "collapsed": false
   },
   "outputs": [
    {
     "data": {
      "text/plain": [
       "0.59101312104727133"
      ]
     },
     "execution_count": 84,
     "metadata": {},
     "output_type": "execute_result"
    }
   ],
   "source": [
    "metrics.roc_auc_score(y_test,y_pred_prob)"
   ]
  },
  {
   "cell_type": "code",
   "execution_count": 86,
   "metadata": {
    "collapsed": false
   },
   "outputs": [
    {
     "data": {
      "text/plain": [
       "0.68359174379740772"
      ]
     },
     "execution_count": 86,
     "metadata": {},
     "output_type": "execute_result"
    }
   ],
   "source": [
    "metrics.log_loss(y_test,y_pred_prob)"
   ]
  },
  {
   "cell_type": "code",
   "execution_count": 87,
   "metadata": {
    "collapsed": false
   },
   "outputs": [
    {
     "data": {
      "text/plain": [
       "LogisticRegression(C=1000000000.0, class_weight=None, dual=False,\n",
       "          fit_intercept=True, intercept_scaling=1, max_iter=100,\n",
       "          multi_class='ovr', penalty='l2', random_state=None,\n",
       "          solver='liblinear', tol=0.0001, verbose=0)"
      ]
     },
     "execution_count": 87,
     "metadata": {},
     "output_type": "execute_result"
    }
   ],
   "source": [
    "logreg.fit(X,y)"
   ]
  },
  {
   "cell_type": "code",
   "execution_count": 93,
   "metadata": {
    "collapsed": false
   },
   "outputs": [
    {
     "data": {
      "text/plain": [
       "(73290, 13)"
      ]
     },
     "execution_count": 93,
     "metadata": {},
     "output_type": "execute_result"
    }
   ],
   "source": [
    "test.shape"
   ]
  },
  {
   "cell_type": "code",
   "execution_count": 95,
   "metadata": {
    "collapsed": true
   },
   "outputs": [
    {
     "data": {
      "text/html": [
       "<div>\n",
       "<table border=\"1\" class=\"dataframe\">\n",
       "  <thead>\n",
       "    <tr style=\"text-align: right;\">\n",
       "      <th></th>\n",
       "      <th>PostCreationDate</th>\n",
       "      <th>OwnerUserId</th>\n",
       "      <th>OwnerCreationDate</th>\n",
       "      <th>ReputationAtPostCreation</th>\n",
       "      <th>Answers</th>\n",
       "      <th>Title</th>\n",
       "      <th>BodyMarkdown</th>\n",
       "      <th>Tag1</th>\n",
       "      <th>Tag2</th>\n",
       "      <th>Tag3</th>\n",
       "      <th>Tag4</th>\n",
       "      <th>Tag5</th>\n",
       "      <th>TitleLength</th>\n",
       "    </tr>\n",
       "    <tr>\n",
       "      <th>PostId</th>\n",
       "      <th></th>\n",
       "      <th></th>\n",
       "      <th></th>\n",
       "      <th></th>\n",
       "      <th></th>\n",
       "      <th></th>\n",
       "      <th></th>\n",
       "      <th></th>\n",
       "      <th></th>\n",
       "      <th></th>\n",
       "      <th></th>\n",
       "      <th></th>\n",
       "      <th></th>\n",
       "    </tr>\n",
       "  </thead>\n",
       "  <tbody>\n",
       "    <tr>\n",
       "      <th>11768878</th>\n",
       "      <td>08/01/2012 23:10:12</td>\n",
       "      <td>756422</td>\n",
       "      <td>05/16/2011 21:49:59</td>\n",
       "      <td>155</td>\n",
       "      <td>11</td>\n",
       "      <td>Maven &amp; yui-compressor Plugin issues</td>\n",
       "      <td>I'm using the yui-compressor plugin for maven ...</td>\n",
       "      <td>maven</td>\n",
       "      <td>maven-3</td>\n",
       "      <td>yui-compressor</td>\n",
       "      <td>NaN</td>\n",
       "      <td>NaN</td>\n",
       "      <td>NaN</td>\n",
       "    </tr>\n",
       "    <tr>\n",
       "      <th>11768880</th>\n",
       "      <td>08/01/2012 23:10:21</td>\n",
       "      <td>1569892</td>\n",
       "      <td>08/01/2012 22:24:37</td>\n",
       "      <td>1</td>\n",
       "      <td>0</td>\n",
       "      <td>Inconsistent behaviour of html select dropdowns</td>\n",
       "      <td>I have written a javascript-generated web page...</td>\n",
       "      <td>html</td>\n",
       "      <td>select</td>\n",
       "      <td>drop-down-menu</td>\n",
       "      <td>scrollbar</td>\n",
       "      <td>NaN</td>\n",
       "      <td>NaN</td>\n",
       "    </tr>\n",
       "    <tr>\n",
       "      <th>11803678</th>\n",
       "      <td>08/03/2012 21:40:49</td>\n",
       "      <td>1301879</td>\n",
       "      <td>03/29/2012 21:01:29</td>\n",
       "      <td>781</td>\n",
       "      <td>37</td>\n",
       "      <td>Why Does MSFT C# Compiler Compile fixed Statem...</td>\n",
       "      <td>The .NET c# compiler (.NET 4.0) compiles the `...</td>\n",
       "      <td>c#</td>\n",
       "      <td>.net</td>\n",
       "      <td>compiler</td>\n",
       "      <td>il</td>\n",
       "      <td>NaN</td>\n",
       "      <td>NaN</td>\n",
       "    </tr>\n",
       "    <tr>\n",
       "      <th>11803496</th>\n",
       "      <td>08/03/2012 21:24:02</td>\n",
       "      <td>1196150</td>\n",
       "      <td>02/08/2012 02:20:44</td>\n",
       "      <td>538</td>\n",
       "      <td>0</td>\n",
       "      <td>Dump sql file to ClearDB in Heroku</td>\n",
       "      <td>I have a sql file that I want to be dumped int...</td>\n",
       "      <td>mysql</td>\n",
       "      <td>ruby-on-rails</td>\n",
       "      <td>heroku</td>\n",
       "      <td>NaN</td>\n",
       "      <td>NaN</td>\n",
       "      <td>NaN</td>\n",
       "    </tr>\n",
       "    <tr>\n",
       "      <th>11803700</th>\n",
       "      <td>08/03/2012 21:43:13</td>\n",
       "      <td>772581</td>\n",
       "      <td>11/13/2009 16:24:05</td>\n",
       "      <td>70</td>\n",
       "      <td>2</td>\n",
       "      <td>mysql query to get rows with conditions</td>\n",
       "      <td>\\r\\nI have a table called \"articles\" on the da...</td>\n",
       "      <td>mysql</td>\n",
       "      <td>query</td>\n",
       "      <td>NaN</td>\n",
       "      <td>NaN</td>\n",
       "      <td>NaN</td>\n",
       "      <td>NaN</td>\n",
       "    </tr>\n",
       "  </tbody>\n",
       "</table>\n",
       "</div>"
      ],
      "text/plain": [
       "             PostCreationDate  OwnerUserId    OwnerCreationDate  \\\n",
       "PostId                                                            \n",
       "11768878  08/01/2012 23:10:12       756422  05/16/2011 21:49:59   \n",
       "11768880  08/01/2012 23:10:21      1569892  08/01/2012 22:24:37   \n",
       "11803678  08/03/2012 21:40:49      1301879  03/29/2012 21:01:29   \n",
       "11803496  08/03/2012 21:24:02      1196150  02/08/2012 02:20:44   \n",
       "11803700  08/03/2012 21:43:13       772581  11/13/2009 16:24:05   \n",
       "\n",
       "          ReputationAtPostCreation  Answers  \\\n",
       "PostId                                        \n",
       "11768878                       155       11   \n",
       "11768880                         1        0   \n",
       "11803678                       781       37   \n",
       "11803496                       538        0   \n",
       "11803700                        70        2   \n",
       "\n",
       "                                                      Title  \\\n",
       "PostId                                                        \n",
       "11768878               Maven & yui-compressor Plugin issues   \n",
       "11768880    Inconsistent behaviour of html select dropdowns   \n",
       "11803678  Why Does MSFT C# Compiler Compile fixed Statem...   \n",
       "11803496                 Dump sql file to ClearDB in Heroku   \n",
       "11803700            mysql query to get rows with conditions   \n",
       "\n",
       "                                               BodyMarkdown   Tag1  \\\n",
       "PostId                                                               \n",
       "11768878  I'm using the yui-compressor plugin for maven ...  maven   \n",
       "11768880  I have written a javascript-generated web page...   html   \n",
       "11803678  The .NET c# compiler (.NET 4.0) compiles the `...     c#   \n",
       "11803496  I have a sql file that I want to be dumped int...  mysql   \n",
       "11803700  \\r\\nI have a table called \"articles\" on the da...  mysql   \n",
       "\n",
       "                   Tag2            Tag3       Tag4 Tag5  TitleLength  \n",
       "PostId                                                                \n",
       "11768878        maven-3  yui-compressor        NaN  NaN          NaN  \n",
       "11768880         select  drop-down-menu  scrollbar  NaN          NaN  \n",
       "11803678           .net        compiler         il  NaN          NaN  \n",
       "11803496  ruby-on-rails          heroku        NaN  NaN          NaN  \n",
       "11803700          query             NaN        NaN  NaN          NaN  "
      ]
     },
     "execution_count": 95,
     "metadata": {},
     "output_type": "execute_result"
    }
   ],
   "source": [
    "test.head()"
   ]
  },
  {
   "cell_type": "code",
   "execution_count": 103,
   "metadata": {
    "collapsed": true
   },
   "outputs": [],
   "source": [
    "X_oos = test[feature_cols]"
   ]
  },
  {
   "cell_type": "code",
   "execution_count": 104,
   "metadata": {
    "collapsed": true
   },
   "outputs": [
    {
     "data": {
      "text/html": [
       "<div>\n",
       "<table border=\"1\" class=\"dataframe\">\n",
       "  <thead>\n",
       "    <tr style=\"text-align: right;\">\n",
       "      <th></th>\n",
       "      <th>ReputationAtPostCreation</th>\n",
       "      <th>Answers</th>\n",
       "      <th>TitleLength</th>\n",
       "    </tr>\n",
       "    <tr>\n",
       "      <th>PostId</th>\n",
       "      <th></th>\n",
       "      <th></th>\n",
       "      <th></th>\n",
       "    </tr>\n",
       "  </thead>\n",
       "  <tbody>\n",
       "    <tr>\n",
       "      <th>11768878</th>\n",
       "      <td>155</td>\n",
       "      <td>11</td>\n",
       "      <td>36</td>\n",
       "    </tr>\n",
       "    <tr>\n",
       "      <th>11768880</th>\n",
       "      <td>1</td>\n",
       "      <td>0</td>\n",
       "      <td>47</td>\n",
       "    </tr>\n",
       "    <tr>\n",
       "      <th>11803678</th>\n",
       "      <td>781</td>\n",
       "      <td>37</td>\n",
       "      <td>59</td>\n",
       "    </tr>\n",
       "    <tr>\n",
       "      <th>11803496</th>\n",
       "      <td>538</td>\n",
       "      <td>0</td>\n",
       "      <td>34</td>\n",
       "    </tr>\n",
       "    <tr>\n",
       "      <th>11803700</th>\n",
       "      <td>70</td>\n",
       "      <td>2</td>\n",
       "      <td>39</td>\n",
       "    </tr>\n",
       "    <tr>\n",
       "      <th>11927241</th>\n",
       "      <td>176</td>\n",
       "      <td>0</td>\n",
       "      <td>24</td>\n",
       "    </tr>\n",
       "    <tr>\n",
       "      <th>11927226</th>\n",
       "      <td>2657</td>\n",
       "      <td>161</td>\n",
       "      <td>66</td>\n",
       "    </tr>\n",
       "    <tr>\n",
       "      <th>11927247</th>\n",
       "      <td>11</td>\n",
       "      <td>0</td>\n",
       "      <td>38</td>\n",
       "    </tr>\n",
       "    <tr>\n",
       "      <th>11927248</th>\n",
       "      <td>202</td>\n",
       "      <td>4</td>\n",
       "      <td>35</td>\n",
       "    </tr>\n",
       "    <tr>\n",
       "      <th>11927254</th>\n",
       "      <td>70</td>\n",
       "      <td>5</td>\n",
       "      <td>46</td>\n",
       "    </tr>\n",
       "    <tr>\n",
       "      <th>11927261</th>\n",
       "      <td>27529</td>\n",
       "      <td>1561</td>\n",
       "      <td>82</td>\n",
       "    </tr>\n",
       "    <tr>\n",
       "      <th>11927266</th>\n",
       "      <td>890</td>\n",
       "      <td>6</td>\n",
       "      <td>37</td>\n",
       "    </tr>\n",
       "    <tr>\n",
       "      <th>11809029</th>\n",
       "      <td>3</td>\n",
       "      <td>2</td>\n",
       "      <td>30</td>\n",
       "    </tr>\n",
       "    <tr>\n",
       "      <th>11809034</th>\n",
       "      <td>81</td>\n",
       "      <td>0</td>\n",
       "      <td>72</td>\n",
       "    </tr>\n",
       "    <tr>\n",
       "      <th>11809035</th>\n",
       "      <td>1</td>\n",
       "      <td>0</td>\n",
       "      <td>50</td>\n",
       "    </tr>\n",
       "    <tr>\n",
       "      <th>11809044</th>\n",
       "      <td>32</td>\n",
       "      <td>0</td>\n",
       "      <td>40</td>\n",
       "    </tr>\n",
       "    <tr>\n",
       "      <th>11809047</th>\n",
       "      <td>707</td>\n",
       "      <td>92</td>\n",
       "      <td>54</td>\n",
       "    </tr>\n",
       "    <tr>\n",
       "      <th>11809048</th>\n",
       "      <td>11</td>\n",
       "      <td>1</td>\n",
       "      <td>50</td>\n",
       "    </tr>\n",
       "    <tr>\n",
       "      <th>11809049</th>\n",
       "      <td>36</td>\n",
       "      <td>1</td>\n",
       "      <td>46</td>\n",
       "    </tr>\n",
       "    <tr>\n",
       "      <th>11809051</th>\n",
       "      <td>2618</td>\n",
       "      <td>35</td>\n",
       "      <td>26</td>\n",
       "    </tr>\n",
       "    <tr>\n",
       "      <th>11809056</th>\n",
       "      <td>305</td>\n",
       "      <td>56</td>\n",
       "      <td>72</td>\n",
       "    </tr>\n",
       "    <tr>\n",
       "      <th>11809052</th>\n",
       "      <td>859</td>\n",
       "      <td>13</td>\n",
       "      <td>30</td>\n",
       "    </tr>\n",
       "    <tr>\n",
       "      <th>11809053</th>\n",
       "      <td>1</td>\n",
       "      <td>0</td>\n",
       "      <td>28</td>\n",
       "    </tr>\n",
       "    <tr>\n",
       "      <th>11898534</th>\n",
       "      <td>14</td>\n",
       "      <td>2</td>\n",
       "      <td>43</td>\n",
       "    </tr>\n",
       "    <tr>\n",
       "      <th>11898542</th>\n",
       "      <td>1</td>\n",
       "      <td>0</td>\n",
       "      <td>58</td>\n",
       "    </tr>\n",
       "    <tr>\n",
       "      <th>11898548</th>\n",
       "      <td>334</td>\n",
       "      <td>15</td>\n",
       "      <td>51</td>\n",
       "    </tr>\n",
       "    <tr>\n",
       "      <th>11898550</th>\n",
       "      <td>369</td>\n",
       "      <td>2</td>\n",
       "      <td>63</td>\n",
       "    </tr>\n",
       "    <tr>\n",
       "      <th>11898552</th>\n",
       "      <td>30</td>\n",
       "      <td>0</td>\n",
       "      <td>62</td>\n",
       "    </tr>\n",
       "    <tr>\n",
       "      <th>11898553</th>\n",
       "      <td>10877</td>\n",
       "      <td>261</td>\n",
       "      <td>31</td>\n",
       "    </tr>\n",
       "    <tr>\n",
       "      <th>11863414</th>\n",
       "      <td>18</td>\n",
       "      <td>0</td>\n",
       "      <td>21</td>\n",
       "    </tr>\n",
       "    <tr>\n",
       "      <th>...</th>\n",
       "      <td>...</td>\n",
       "      <td>...</td>\n",
       "      <td>...</td>\n",
       "    </tr>\n",
       "    <tr>\n",
       "      <th>11962472</th>\n",
       "      <td>27</td>\n",
       "      <td>0</td>\n",
       "      <td>35</td>\n",
       "    </tr>\n",
       "    <tr>\n",
       "      <th>11962368</th>\n",
       "      <td>220</td>\n",
       "      <td>4</td>\n",
       "      <td>54</td>\n",
       "    </tr>\n",
       "    <tr>\n",
       "      <th>11962474</th>\n",
       "      <td>51</td>\n",
       "      <td>0</td>\n",
       "      <td>48</td>\n",
       "    </tr>\n",
       "    <tr>\n",
       "      <th>11962479</th>\n",
       "      <td>2005</td>\n",
       "      <td>33</td>\n",
       "      <td>61</td>\n",
       "    </tr>\n",
       "    <tr>\n",
       "      <th>11962482</th>\n",
       "      <td>136</td>\n",
       "      <td>1</td>\n",
       "      <td>27</td>\n",
       "    </tr>\n",
       "    <tr>\n",
       "      <th>11962488</th>\n",
       "      <td>1</td>\n",
       "      <td>0</td>\n",
       "      <td>85</td>\n",
       "    </tr>\n",
       "    <tr>\n",
       "      <th>11962501</th>\n",
       "      <td>101</td>\n",
       "      <td>1</td>\n",
       "      <td>35</td>\n",
       "    </tr>\n",
       "    <tr>\n",
       "      <th>11962483</th>\n",
       "      <td>63</td>\n",
       "      <td>9</td>\n",
       "      <td>58</td>\n",
       "    </tr>\n",
       "    <tr>\n",
       "      <th>11962486</th>\n",
       "      <td>504</td>\n",
       "      <td>0</td>\n",
       "      <td>50</td>\n",
       "    </tr>\n",
       "    <tr>\n",
       "      <th>11962357</th>\n",
       "      <td>1</td>\n",
       "      <td>0</td>\n",
       "      <td>43</td>\n",
       "    </tr>\n",
       "    <tr>\n",
       "      <th>11962506</th>\n",
       "      <td>150</td>\n",
       "      <td>0</td>\n",
       "      <td>65</td>\n",
       "    </tr>\n",
       "    <tr>\n",
       "      <th>11962511</th>\n",
       "      <td>1</td>\n",
       "      <td>0</td>\n",
       "      <td>46</td>\n",
       "    </tr>\n",
       "    <tr>\n",
       "      <th>11962515</th>\n",
       "      <td>898</td>\n",
       "      <td>25</td>\n",
       "      <td>38</td>\n",
       "    </tr>\n",
       "    <tr>\n",
       "      <th>11962522</th>\n",
       "      <td>857</td>\n",
       "      <td>34</td>\n",
       "      <td>48</td>\n",
       "    </tr>\n",
       "    <tr>\n",
       "      <th>11962513</th>\n",
       "      <td>1191</td>\n",
       "      <td>53</td>\n",
       "      <td>23</td>\n",
       "    </tr>\n",
       "    <tr>\n",
       "      <th>11962518</th>\n",
       "      <td>798</td>\n",
       "      <td>47</td>\n",
       "      <td>47</td>\n",
       "    </tr>\n",
       "    <tr>\n",
       "      <th>11962520</th>\n",
       "      <td>613</td>\n",
       "      <td>15</td>\n",
       "      <td>79</td>\n",
       "    </tr>\n",
       "    <tr>\n",
       "      <th>11962382</th>\n",
       "      <td>580</td>\n",
       "      <td>17</td>\n",
       "      <td>72</td>\n",
       "    </tr>\n",
       "    <tr>\n",
       "      <th>11962384</th>\n",
       "      <td>390</td>\n",
       "      <td>3</td>\n",
       "      <td>24</td>\n",
       "    </tr>\n",
       "    <tr>\n",
       "      <th>11962155</th>\n",
       "      <td>35</td>\n",
       "      <td>2</td>\n",
       "      <td>61</td>\n",
       "    </tr>\n",
       "    <tr>\n",
       "      <th>11962492</th>\n",
       "      <td>13</td>\n",
       "      <td>0</td>\n",
       "      <td>26</td>\n",
       "    </tr>\n",
       "    <tr>\n",
       "      <th>11960046</th>\n",
       "      <td>390</td>\n",
       "      <td>5</td>\n",
       "      <td>104</td>\n",
       "    </tr>\n",
       "    <tr>\n",
       "      <th>11882584</th>\n",
       "      <td>3720</td>\n",
       "      <td>210</td>\n",
       "      <td>62</td>\n",
       "    </tr>\n",
       "    <tr>\n",
       "      <th>11961288</th>\n",
       "      <td>57</td>\n",
       "      <td>3</td>\n",
       "      <td>79</td>\n",
       "    </tr>\n",
       "    <tr>\n",
       "      <th>11962052</th>\n",
       "      <td>97</td>\n",
       "      <td>0</td>\n",
       "      <td>34</td>\n",
       "    </tr>\n",
       "    <tr>\n",
       "      <th>11962053</th>\n",
       "      <td>8</td>\n",
       "      <td>2</td>\n",
       "      <td>66</td>\n",
       "    </tr>\n",
       "    <tr>\n",
       "      <th>11957335</th>\n",
       "      <td>1</td>\n",
       "      <td>0</td>\n",
       "      <td>33</td>\n",
       "    </tr>\n",
       "    <tr>\n",
       "      <th>11935717</th>\n",
       "      <td>3</td>\n",
       "      <td>0</td>\n",
       "      <td>41</td>\n",
       "    </tr>\n",
       "    <tr>\n",
       "      <th>11961295</th>\n",
       "      <td>49</td>\n",
       "      <td>3</td>\n",
       "      <td>39</td>\n",
       "    </tr>\n",
       "    <tr>\n",
       "      <th>11961296</th>\n",
       "      <td>98</td>\n",
       "      <td>0</td>\n",
       "      <td>22</td>\n",
       "    </tr>\n",
       "  </tbody>\n",
       "</table>\n",
       "<p>73290 rows × 3 columns</p>\n",
       "</div>"
      ],
      "text/plain": [
       "          ReputationAtPostCreation  Answers  TitleLength\n",
       "PostId                                                  \n",
       "11768878                       155       11           36\n",
       "11768880                         1        0           47\n",
       "11803678                       781       37           59\n",
       "11803496                       538        0           34\n",
       "11803700                        70        2           39\n",
       "11927241                       176        0           24\n",
       "11927226                      2657      161           66\n",
       "11927247                        11        0           38\n",
       "11927248                       202        4           35\n",
       "11927254                        70        5           46\n",
       "11927261                     27529     1561           82\n",
       "11927266                       890        6           37\n",
       "11809029                         3        2           30\n",
       "11809034                        81        0           72\n",
       "11809035                         1        0           50\n",
       "11809044                        32        0           40\n",
       "11809047                       707       92           54\n",
       "11809048                        11        1           50\n",
       "11809049                        36        1           46\n",
       "11809051                      2618       35           26\n",
       "11809056                       305       56           72\n",
       "11809052                       859       13           30\n",
       "11809053                         1        0           28\n",
       "11898534                        14        2           43\n",
       "11898542                         1        0           58\n",
       "11898548                       334       15           51\n",
       "11898550                       369        2           63\n",
       "11898552                        30        0           62\n",
       "11898553                     10877      261           31\n",
       "11863414                        18        0           21\n",
       "...                            ...      ...          ...\n",
       "11962472                        27        0           35\n",
       "11962368                       220        4           54\n",
       "11962474                        51        0           48\n",
       "11962479                      2005       33           61\n",
       "11962482                       136        1           27\n",
       "11962488                         1        0           85\n",
       "11962501                       101        1           35\n",
       "11962483                        63        9           58\n",
       "11962486                       504        0           50\n",
       "11962357                         1        0           43\n",
       "11962506                       150        0           65\n",
       "11962511                         1        0           46\n",
       "11962515                       898       25           38\n",
       "11962522                       857       34           48\n",
       "11962513                      1191       53           23\n",
       "11962518                       798       47           47\n",
       "11962520                       613       15           79\n",
       "11962382                       580       17           72\n",
       "11962384                       390        3           24\n",
       "11962155                        35        2           61\n",
       "11962492                        13        0           26\n",
       "11960046                       390        5          104\n",
       "11882584                      3720      210           62\n",
       "11961288                        57        3           79\n",
       "11962052                        97        0           34\n",
       "11962053                         8        2           66\n",
       "11957335                         1        0           33\n",
       "11935717                         3        0           41\n",
       "11961295                        49        3           39\n",
       "11961296                        98        0           22\n",
       "\n",
       "[73290 rows x 3 columns]"
      ]
     },
     "execution_count": 104,
     "metadata": {},
     "output_type": "execute_result"
    }
   ],
   "source": [
    "X_oos"
   ]
  },
  {
   "cell_type": "code",
   "execution_count": 106,
   "metadata": {
    "collapsed": true
   },
   "outputs": [],
   "source": [
    "oos_pred_prob = logreg.predict_proba(X_oos)[:,1]"
   ]
  },
  {
   "cell_type": "code",
   "execution_count": 107,
   "metadata": {
    "collapsed": false
   },
   "outputs": [
    {
     "data": {
      "text/plain": [
       "array([ 0.46325871,  0.48675189,  0.53982215, ...,  0.47075728,\n",
       "        0.46704178,  0.42112761])"
      ]
     },
     "execution_count": 107,
     "metadata": {},
     "output_type": "execute_result"
    }
   ],
   "source": [
    "oos_pred_prob"
   ]
  },
  {
   "cell_type": "code",
   "execution_count": 108,
   "metadata": {
    "collapsed": false
   },
   "outputs": [
    {
     "data": {
      "text/html": [
       "<div>\n",
       "<table border=\"1\" class=\"dataframe\">\n",
       "  <thead>\n",
       "    <tr style=\"text-align: right;\">\n",
       "      <th></th>\n",
       "      <th>PostCreationDate</th>\n",
       "      <th>OwnerUserId</th>\n",
       "      <th>OwnerCreationDate</th>\n",
       "      <th>ReputationAtPostCreation</th>\n",
       "      <th>Answers</th>\n",
       "      <th>Title</th>\n",
       "      <th>BodyMarkdown</th>\n",
       "      <th>Tag1</th>\n",
       "      <th>Tag2</th>\n",
       "      <th>Tag3</th>\n",
       "      <th>Tag4</th>\n",
       "      <th>Tag5</th>\n",
       "      <th>TitleLength</th>\n",
       "    </tr>\n",
       "    <tr>\n",
       "      <th>PostId</th>\n",
       "      <th></th>\n",
       "      <th></th>\n",
       "      <th></th>\n",
       "      <th></th>\n",
       "      <th></th>\n",
       "      <th></th>\n",
       "      <th></th>\n",
       "      <th></th>\n",
       "      <th></th>\n",
       "      <th></th>\n",
       "      <th></th>\n",
       "      <th></th>\n",
       "      <th></th>\n",
       "    </tr>\n",
       "  </thead>\n",
       "  <tbody>\n",
       "    <tr>\n",
       "      <th>11768878</th>\n",
       "      <td>08/01/2012 23:10:12</td>\n",
       "      <td>756422</td>\n",
       "      <td>05/16/2011 21:49:59</td>\n",
       "      <td>155</td>\n",
       "      <td>11</td>\n",
       "      <td>Maven &amp; yui-compressor Plugin issues</td>\n",
       "      <td>I'm using the yui-compressor plugin for maven ...</td>\n",
       "      <td>maven</td>\n",
       "      <td>maven-3</td>\n",
       "      <td>yui-compressor</td>\n",
       "      <td>NaN</td>\n",
       "      <td>NaN</td>\n",
       "      <td>36</td>\n",
       "    </tr>\n",
       "  </tbody>\n",
       "</table>\n",
       "</div>"
      ],
      "text/plain": [
       "             PostCreationDate  OwnerUserId    OwnerCreationDate  \\\n",
       "PostId                                                            \n",
       "11768878  08/01/2012 23:10:12       756422  05/16/2011 21:49:59   \n",
       "\n",
       "          ReputationAtPostCreation  Answers  \\\n",
       "PostId                                        \n",
       "11768878                       155       11   \n",
       "\n",
       "                                         Title  \\\n",
       "PostId                                           \n",
       "11768878  Maven & yui-compressor Plugin issues   \n",
       "\n",
       "                                               BodyMarkdown   Tag1     Tag2  \\\n",
       "PostId                                                                        \n",
       "11768878  I'm using the yui-compressor plugin for maven ...  maven  maven-3   \n",
       "\n",
       "                    Tag3 Tag4 Tag5  TitleLength  \n",
       "PostId                                           \n",
       "11768878  yui-compressor  NaN  NaN           36  "
      ]
     },
     "execution_count": 108,
     "metadata": {},
     "output_type": "execute_result"
    }
   ],
   "source": [
    "test.head(1)"
   ]
  },
  {
   "cell_type": "code",
   "execution_count": 109,
   "metadata": {
    "collapsed": false
   },
   "outputs": [
    {
     "data": {
      "text/plain": [
       "Int64Index([11768878, 11768880, 11803678, 11803496, 11803700, 11927241,\n",
       "            11927226, 11927247, 11927248, 11927254, \n",
       "            ...\n",
       "            11962492, 11960046, 11882584, 11961288, 11962052, 11962053,\n",
       "            11957335, 11935717, 11961295, 11961296],\n",
       "           dtype='int64', name=u'PostId', length=73290)"
      ]
     },
     "execution_count": 109,
     "metadata": {},
     "output_type": "execute_result"
    }
   ],
   "source": [
    "test.index"
   ]
  },
  {
   "cell_type": "code",
   "execution_count": 110,
   "metadata": {
    "collapsed": false
   },
   "outputs": [
    {
     "data": {
      "text/plain": [
       "array([ 0.46325871,  0.48675189,  0.53982215, ...,  0.47075728,\n",
       "        0.46704178,  0.42112761])"
      ]
     },
     "execution_count": 110,
     "metadata": {},
     "output_type": "execute_result"
    }
   ],
   "source": [
    "oos_pred_prob"
   ]
  },
  {
   "cell_type": "code",
   "execution_count": 114,
   "metadata": {
    "collapsed": false
   },
   "outputs": [],
   "source": [
    "sub = pd.DataFrame({'id':test.index,'OpenStatus':oos_pred_prob}).set_index('id')"
   ]
  },
  {
   "cell_type": "code",
   "execution_count": 115,
   "metadata": {
    "collapsed": false
   },
   "outputs": [],
   "source": [
    "sub.to_csv('subl.csv')"
   ]
  },
  {
   "cell_type": "code",
   "execution_count": 117,
   "metadata": {
    "collapsed": false
   },
   "outputs": [
    {
     "data": {
      "text/html": [
       "<div>\n",
       "<table border=\"1\" class=\"dataframe\">\n",
       "  <thead>\n",
       "    <tr style=\"text-align: right;\">\n",
       "      <th></th>\n",
       "      <th>Tag1</th>\n",
       "      <th>Tag2</th>\n",
       "      <th>Tag3</th>\n",
       "      <th>Tag4</th>\n",
       "      <th>Tag5</th>\n",
       "    </tr>\n",
       "  </thead>\n",
       "  <tbody>\n",
       "    <tr>\n",
       "      <th>0</th>\n",
       "      <td>mongodb</td>\n",
       "      <td>NaN</td>\n",
       "      <td>NaN</td>\n",
       "      <td>NaN</td>\n",
       "      <td>NaN</td>\n",
       "    </tr>\n",
       "    <tr>\n",
       "      <th>1</th>\n",
       "      <td>dom</td>\n",
       "      <td>xsd</td>\n",
       "      <td>jaxp</td>\n",
       "      <td>NaN</td>\n",
       "      <td>NaN</td>\n",
       "    </tr>\n",
       "    <tr>\n",
       "      <th>2</th>\n",
       "      <td>sql-server</td>\n",
       "      <td>database-design</td>\n",
       "      <td>enums</td>\n",
       "      <td>NaN</td>\n",
       "      <td>NaN</td>\n",
       "    </tr>\n",
       "    <tr>\n",
       "      <th>3</th>\n",
       "      <td>php</td>\n",
       "      <td>vb.net</td>\n",
       "      <td>NaN</td>\n",
       "      <td>NaN</td>\n",
       "      <td>NaN</td>\n",
       "    </tr>\n",
       "    <tr>\n",
       "      <th>4</th>\n",
       "      <td>mongodb</td>\n",
       "      <td>spring-data</td>\n",
       "      <td>NaN</td>\n",
       "      <td>NaN</td>\n",
       "      <td>NaN</td>\n",
       "    </tr>\n",
       "  </tbody>\n",
       "</table>\n",
       "</div>"
      ],
      "text/plain": [
       "         Tag1             Tag2   Tag3 Tag4 Tag5\n",
       "0     mongodb              NaN    NaN  NaN  NaN\n",
       "1         dom              xsd   jaxp  NaN  NaN\n",
       "2  sql-server  database-design  enums  NaN  NaN\n",
       "3         php           vb.net    NaN  NaN  NaN\n",
       "4     mongodb      spring-data    NaN  NaN  NaN"
      ]
     },
     "execution_count": 117,
     "metadata": {},
     "output_type": "execute_result"
    }
   ],
   "source": [
    "train.loc[:,'Tag1':'Tag5'].head()"
   ]
  },
  {
   "cell_type": "code",
   "execution_count": 119,
   "metadata": {
    "collapsed": false
   },
   "outputs": [],
   "source": [
    "train['NumTags'] = train.loc[:,'Tag1':'Tag5'].notnull().sum(axis=1)"
   ]
  },
  {
   "cell_type": "code",
   "execution_count": 122,
   "metadata": {
    "collapsed": false
   },
   "outputs": [
    {
     "data": {
      "text/plain": [
       "NumTags\n",
       "0    0.000000\n",
       "1    0.393403\n",
       "2    0.484637\n",
       "3    0.540336\n",
       "4    0.554836\n",
       "5    0.544315\n",
       "Name: OpenStatus, dtype: float64"
      ]
     },
     "execution_count": 122,
     "metadata": {},
     "output_type": "execute_result"
    }
   ],
   "source": [
    "train.groupby('NumTags').OpenStatus.mean()"
   ]
  },
  {
   "cell_type": "code",
   "execution_count": 123,
   "metadata": {
    "collapsed": true
   },
   "outputs": [],
   "source": [
    "train['OwnerCreationDate'] = pd.to_datetime(train.OwnerCreationDate)"
   ]
  },
  {
   "cell_type": "code",
   "execution_count": 124,
   "metadata": {
    "collapsed": true
   },
   "outputs": [],
   "source": [
    "train['PostCreationDate'] = pd.to_datetime(train.PostCreationDate)"
   ]
  },
  {
   "cell_type": "code",
   "execution_count": 126,
   "metadata": {
    "collapsed": false
   },
   "outputs": [],
   "source": [
    "train['OwnerAge'] = (train.PostCreationDate - train.OwnerCreationDate).dt.days"
   ]
  },
  {
   "cell_type": "code",
   "execution_count": 127,
   "metadata": {
    "collapsed": false
   },
   "outputs": [
    {
     "data": {
      "text/plain": [
       "<matplotlib.axes._subplots.AxesSubplot at 0x676024e0>"
      ]
     },
     "execution_count": 127,
     "metadata": {},
     "output_type": "execute_result"
    },
    {
     "data": {
      "image/png": "[encoded data removed]",
      "text/plain": [
       "<matplotlib.figure.Figure at 0x40a37978>"
      ]
     },
     "metadata": {},
     "output_type": "display_data"
    }
   ],
   "source": [
    "train.boxplot(column='OwnerAge',by='OpenStatus')"
   ]
  },
  {
   "cell_type": "code",
   "execution_count": 128,
   "metadata": {
    "collapsed": true
   },
   "outputs": [],
   "source": [
    "import numpy as np"
   ]
  },
  {
   "cell_type": "code",
   "execution_count": 129,
   "metadata": {
    "collapsed": true
   },
   "outputs": [],
   "source": [
    "train['OwnerAge'] = np.where(train.OwnerAge<0,0,train.OwnerAge)"
   ]
  },
  {
   "cell_type": "code",
   "execution_count": 130,
   "metadata": {
    "collapsed": false
   },
   "outputs": [
    {
     "data": {
      "text/plain": [
       "<matplotlib.axes._subplots.AxesSubplot at 0x574c3898>"
      ]
     },
     "execution_count": 130,
     "metadata": {},
     "output_type": "execute_result"
    },
    {
     "data": {
      "image/png": "[encoded data removed]",
      "text/plain": [
       "<matplotlib.figure.Figure at 0x67602a58>"
      ]
     },
     "metadata": {},
     "output_type": "display_data"
    }
   ],
   "source": [
    "train.boxplot(column='OwnerAge',by='OpenStatus')"
   ]
  },
  {
   "cell_type": "code",
   "execution_count": 150,
   "metadata": {
    "collapsed": true
   },
   "outputs": [],
   "source": [
    "def make_features(filename):\n",
    "    df = pd.read_csv(filename, index_col = 0)\n",
    "    df.rename(columns={'OwnerUndeletedAnswerCountAtPostTime':'Answers'},inplace = True)\n",
    "    df['TitleLength'] = df.Title.apply(len)\n",
    "    df['NumTags'] = df.loc[:,'Tag1':'Tag5'].notnull().sum(axis=1)\n",
    "    df['OwnerCreationDate'] = pd.to_datetime(df.OwnerCreationDate)\n",
    "    df['PostCreationDate'] = pd.to_datetime(df.PostCreationDate)\n",
    "    df['OwnerAge'] = (df.PostCreationDate - df.OwnerCreationDate).dt.days\n",
    "    return df"
   ]
  },
  {
   "cell_type": "code",
   "execution_count": 158,
   "metadata": {
    "collapsed": true
   },
   "outputs": [],
   "source": [
    "train = make_features('train.csv')"
   ]
  },
  {
   "cell_type": "code",
   "execution_count": 157,
   "metadata": {
    "collapsed": true
   },
   "outputs": [],
   "source": [
    "test = make_features('test.csv')"
   ]
  },
  {
   "cell_type": "code",
   "execution_count": 159,
   "metadata": {
    "collapsed": true
   },
   "outputs": [],
   "source": [
    "feature_cols = ['ReputationAtPostCreation','Answers','TitleLength','OwnerAge']"
   ]
  },
  {
   "cell_type": "code",
   "execution_count": 160,
   "metadata": {
    "collapsed": true
   },
   "outputs": [],
   "source": [
    "X = train[feature_cols]\n",
    "y = train.OpenStatus"
   ]
  },
  {
   "cell_type": "code",
   "execution_count": 161,
   "metadata": {
    "collapsed": false,
    "scrolled": true
   },
   "outputs": [
    {
     "data": {
      "text/plain": [
       "LogisticRegression(C=1000000000.0, class_weight=None, dual=False,\n",
       "          fit_intercept=True, intercept_scaling=1, max_iter=100,\n",
       "          multi_class='ovr', penalty='l2', random_state=None,\n",
       "          solver='liblinear', tol=0.0001, verbose=0)"
      ]
     },
     "execution_count": 161,
     "metadata": {},
     "output_type": "execute_result"
    }
   ],
   "source": [
    "logreg.fit(X,y)"
   ]
  },
  {
   "cell_type": "code",
   "execution_count": 162,
   "metadata": {
    "collapsed": false
   },
   "outputs": [
    {
     "data": {
      "text/html": [
       "<div>\n",
       "<table border=\"1\" class=\"dataframe\">\n",
       "  <thead>\n",
       "    <tr style=\"text-align: right;\">\n",
       "      <th></th>\n",
       "      <th>PostCreationDate</th>\n",
       "      <th>OwnerUserId</th>\n",
       "      <th>OwnerCreationDate</th>\n",
       "      <th>ReputationAtPostCreation</th>\n",
       "      <th>Answers</th>\n",
       "      <th>Title</th>\n",
       "      <th>BodyMarkdown</th>\n",
       "      <th>Tag1</th>\n",
       "      <th>Tag2</th>\n",
       "      <th>Tag3</th>\n",
       "      <th>Tag4</th>\n",
       "      <th>Tag5</th>\n",
       "      <th>TitleLength</th>\n",
       "      <th>NumTags</th>\n",
       "      <th>OwnerAge</th>\n",
       "    </tr>\n",
       "    <tr>\n",
       "      <th>PostId</th>\n",
       "      <th></th>\n",
       "      <th></th>\n",
       "      <th></th>\n",
       "      <th></th>\n",
       "      <th></th>\n",
       "      <th></th>\n",
       "      <th></th>\n",
       "      <th></th>\n",
       "      <th></th>\n",
       "      <th></th>\n",
       "      <th></th>\n",
       "      <th></th>\n",
       "      <th></th>\n",
       "      <th></th>\n",
       "      <th></th>\n",
       "    </tr>\n",
       "  </thead>\n",
       "  <tbody>\n",
       "    <tr>\n",
       "      <th>11768878</th>\n",
       "      <td>2012-08-01 23:10:12</td>\n",
       "      <td>756422</td>\n",
       "      <td>2011-05-16 21:49:59</td>\n",
       "      <td>155</td>\n",
       "      <td>11</td>\n",
       "      <td>Maven &amp; yui-compressor Plugin issues</td>\n",
       "      <td>I'm using the yui-compressor plugin for maven ...</td>\n",
       "      <td>maven</td>\n",
       "      <td>maven-3</td>\n",
       "      <td>yui-compressor</td>\n",
       "      <td>NaN</td>\n",
       "      <td>NaN</td>\n",
       "      <td>36</td>\n",
       "      <td>3</td>\n",
       "      <td>443</td>\n",
       "    </tr>\n",
       "    <tr>\n",
       "      <th>11768880</th>\n",
       "      <td>2012-08-01 23:10:21</td>\n",
       "      <td>1569892</td>\n",
       "      <td>2012-08-01 22:24:37</td>\n",
       "      <td>1</td>\n",
       "      <td>0</td>\n",
       "      <td>Inconsistent behaviour of html select dropdowns</td>\n",
       "      <td>I have written a javascript-generated web page...</td>\n",
       "      <td>html</td>\n",
       "      <td>select</td>\n",
       "      <td>drop-down-menu</td>\n",
       "      <td>scrollbar</td>\n",
       "      <td>NaN</td>\n",
       "      <td>47</td>\n",
       "      <td>4</td>\n",
       "      <td>0</td>\n",
       "    </tr>\n",
       "    <tr>\n",
       "      <th>11803678</th>\n",
       "      <td>2012-08-03 21:40:49</td>\n",
       "      <td>1301879</td>\n",
       "      <td>2012-03-29 21:01:29</td>\n",
       "      <td>781</td>\n",
       "      <td>37</td>\n",
       "      <td>Why Does MSFT C# Compiler Compile fixed Statem...</td>\n",
       "      <td>The .NET c# compiler (.NET 4.0) compiles the `...</td>\n",
       "      <td>c#</td>\n",
       "      <td>.net</td>\n",
       "      <td>compiler</td>\n",
       "      <td>il</td>\n",
       "      <td>NaN</td>\n",
       "      <td>59</td>\n",
       "      <td>4</td>\n",
       "      <td>127</td>\n",
       "    </tr>\n",
       "    <tr>\n",
       "      <th>11803496</th>\n",
       "      <td>2012-08-03 21:24:02</td>\n",
       "      <td>1196150</td>\n",
       "      <td>2012-02-08 02:20:44</td>\n",
       "      <td>538</td>\n",
       "      <td>0</td>\n",
       "      <td>Dump sql file to ClearDB in Heroku</td>\n",
       "      <td>I have a sql file that I want to be dumped int...</td>\n",
       "      <td>mysql</td>\n",
       "      <td>ruby-on-rails</td>\n",
       "      <td>heroku</td>\n",
       "      <td>NaN</td>\n",
       "      <td>NaN</td>\n",
       "      <td>34</td>\n",
       "      <td>3</td>\n",
       "      <td>177</td>\n",
       "    </tr>\n",
       "    <tr>\n",
       "      <th>11803700</th>\n",
       "      <td>2012-08-03 21:43:13</td>\n",
       "      <td>772581</td>\n",
       "      <td>2009-11-13 16:24:05</td>\n",
       "      <td>70</td>\n",
       "      <td>2</td>\n",
       "      <td>mysql query to get rows with conditions</td>\n",
       "      <td>\\r\\nI have a table called \"articles\" on the da...</td>\n",
       "      <td>mysql</td>\n",
       "      <td>query</td>\n",
       "      <td>NaN</td>\n",
       "      <td>NaN</td>\n",
       "      <td>NaN</td>\n",
       "      <td>39</td>\n",
       "      <td>2</td>\n",
       "      <td>994</td>\n",
       "    </tr>\n",
       "  </tbody>\n",
       "</table>\n",
       "</div>"
      ],
      "text/plain": [
       "            PostCreationDate  OwnerUserId   OwnerCreationDate  \\\n",
       "PostId                                                          \n",
       "11768878 2012-08-01 23:10:12       756422 2011-05-16 21:49:59   \n",
       "11768880 2012-08-01 23:10:21      1569892 2012-08-01 22:24:37   \n",
       "11803678 2012-08-03 21:40:49      1301879 2012-03-29 21:01:29   \n",
       "11803496 2012-08-03 21:24:02      1196150 2012-02-08 02:20:44   \n",
       "11803700 2012-08-03 21:43:13       772581 2009-11-13 16:24:05   \n",
       "\n",
       "          ReputationAtPostCreation  Answers  \\\n",
       "PostId                                        \n",
       "11768878                       155       11   \n",
       "11768880                         1        0   \n",
       "11803678                       781       37   \n",
       "11803496                       538        0   \n",
       "11803700                        70        2   \n",
       "\n",
       "                                                      Title  \\\n",
       "PostId                                                        \n",
       "11768878               Maven & yui-compressor Plugin issues   \n",
       "11768880    Inconsistent behaviour of html select dropdowns   \n",
       "11803678  Why Does MSFT C# Compiler Compile fixed Statem...   \n",
       "11803496                 Dump sql file to ClearDB in Heroku   \n",
       "11803700            mysql query to get rows with conditions   \n",
       "\n",
       "                                               BodyMarkdown   Tag1  \\\n",
       "PostId                                                               \n",
       "11768878  I'm using the yui-compressor plugin for maven ...  maven   \n",
       "11768880  I have written a javascript-generated web page...   html   \n",
       "11803678  The .NET c# compiler (.NET 4.0) compiles the `...     c#   \n",
       "11803496  I have a sql file that I want to be dumped int...  mysql   \n",
       "11803700  \\r\\nI have a table called \"articles\" on the da...  mysql   \n",
       "\n",
       "                   Tag2            Tag3       Tag4 Tag5  TitleLength  NumTags  \\\n",
       "PostId                                                                          \n",
       "11768878        maven-3  yui-compressor        NaN  NaN           36        3   \n",
       "11768880         select  drop-down-menu  scrollbar  NaN           47        4   \n",
       "11803678           .net        compiler         il  NaN           59        4   \n",
       "11803496  ruby-on-rails          heroku        NaN  NaN           34        3   \n",
       "11803700          query             NaN        NaN  NaN           39        2   \n",
       "\n",
       "          OwnerAge  \n",
       "PostId              \n",
       "11768878       443  \n",
       "11768880         0  \n",
       "11803678       127  \n",
       "11803496       177  \n",
       "11803700       994  "
      ]
     },
     "execution_count": 162,
     "metadata": {},
     "output_type": "execute_result"
    }
   ],
   "source": [
    "test.head()"
   ]
  },
  {
   "cell_type": "code",
   "execution_count": 163,
   "metadata": {
    "collapsed": false
   },
   "outputs": [],
   "source": [
    "X_oos = test[feature_cols]"
   ]
  },
  {
   "cell_type": "code",
   "execution_count": 165,
   "metadata": {
    "collapsed": true
   },
   "outputs": [],
   "source": [
    "oos_pred_prob = logreg.predict_proba(X_oos)[:,1]"
   ]
  },
  {
   "cell_type": "code",
   "execution_count": 167,
   "metadata": {
    "collapsed": false
   },
   "outputs": [
    {
     "data": {
      "text/plain": [
       "Int64Index([11768878, 11768880, 11803678, 11803496, 11803700, 11927241,\n",
       "            11927226, 11927247, 11927248, 11927254, \n",
       "            ...\n",
       "            11962492, 11960046, 11882584, 11961288, 11962052, 11962053,\n",
       "            11957335, 11935717, 11961295, 11961296],\n",
       "           dtype='int64', name=u'PostId', length=73290)"
      ]
     },
     "execution_count": 167,
     "metadata": {},
     "output_type": "execute_result"
    }
   ],
   "source": [
    "test.index"
   ]
  },
  {
   "cell_type": "code",
   "execution_count": 168,
   "metadata": {
    "collapsed": true
   },
   "outputs": [],
   "source": [
    "sub = pd.DataFrame({'id':test.index,'OpenStatus':oos_pred_prob}).set_index('id')"
   ]
  },
  {
   "cell_type": "code",
   "execution_count": 169,
   "metadata": {
    "collapsed": true
   },
   "outputs": [],
   "source": [
    "sub.to_csv('subl.csv')"
   ]
  },
  {
   "cell_type": "code",
   "execution_count": null,
   "metadata": {
    "collapsed": true
   },
   "outputs": [],
   "source": []
  },
  {
   "cell_type": "code",
   "execution_count": null,
   "metadata": {
    "collapsed": true
   },
   "outputs": [],
   "source": []
  }
 ],
 "metadata": {
  "kernelspec": {
   "display_name": "Python 2",
   "language": "python",
   "name": "python2"
  },
  "language_info": {
   "codemirror_mode": {
    "name": "ipython",
    "version": 2
   },
   "file_extension": ".py",
   "mimetype": "text/x-python",
   "name": "python",
   "nbconvert_exporter": "python",
   "pygments_lexer": "ipython2",
   "version": "2.7.10"
  }
 },
 "nbformat": 4,
 "nbformat_minor": 0
}
